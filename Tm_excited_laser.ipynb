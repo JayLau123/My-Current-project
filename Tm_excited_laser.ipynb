{
 "cells": [
  {
   "cell_type": "code",
   "execution_count": 1,
   "metadata": {},
   "outputs": [
    {
     "name": "stdout",
     "output_type": "stream",
     "text": [
      "Successfully import:\n",
      "\n",
      "Tm_energy\n",
      "Tm_RME\n",
      "Tm_omega\n",
      "\n"
     ]
    }
   ],
   "source": [
    "from Tm_inf import *"
   ]
  },
  {
   "cell_type": "code",
   "execution_count": 2,
   "metadata": {},
   "outputs": [
    {
     "data": {
      "text/plain": [
       "{'E0(3H6)': 153,\n",
       " 'E1(3F4)': 5828,\n",
       " 'E2(3H5)': 8396,\n",
       " 'E3(3H4)': 12735,\n",
       " 'E4(3F3)': 14598,\n",
       " 'E5(3F2)': 15180,\n",
       " 'E6(1G4)': 21352,\n",
       " 'E7(1D2)': 28028,\n",
       " 'E8(3P0)': 34900,\n",
       " 'E9(1I6)': 35500,\n",
       " 'E10(3P1)': 36400,\n",
       " 'E11(3P2)': 38250}"
      ]
     },
     "execution_count": 2,
     "metadata": {},
     "output_type": "execute_result"
    }
   ],
   "source": [
    "Tm_energy"
   ]
  },
  {
   "cell_type": "markdown",
   "metadata": {},
   "source": [
    "### Find some pairs, that can be upconverted into higher levels with Yb"
   ]
  },
  {
   "cell_type": "code",
   "execution_count": 3,
   "metadata": {},
   "outputs": [
    {
     "data": {
      "text/plain": [
       "10246"
      ]
     },
     "execution_count": 3,
     "metadata": {},
     "output_type": "execute_result"
    }
   ],
   "source": [
    "Yb_energy = {'S0':0, 'S1': 10246}\n",
    "\n",
    "\n",
    "target_difference = Yb_energy['S1']-Yb_energy['S0']\n",
    "\n",
    "target_difference"
   ]
  },
  {
   "cell_type": "code",
   "execution_count": 4,
   "metadata": {},
   "outputs": [],
   "source": [
    "\n",
    "def find_pairs(energy_levels, target_difference, margin):\n",
    "\n",
    "    keys = list(energy_levels.keys())\n",
    "    values = list(energy_levels.values())\n",
    "\n",
    "\n",
    "    valid_pairs = []\n",
    "\n",
    "    for i in range(len(values)):\n",
    "        for j in range(i+1, len(values)):\n",
    "\n",
    "            delta_E = abs(values[i] - values[j])\n",
    "\n",
    "            net_diff = abs(delta_E - target_difference)\n",
    "\n",
    "            if net_diff < margin:\n",
    "\n",
    "                valid_pairs.append((keys[i], keys[j], net_diff))\n",
    "\n",
    "    return valid_pairs\n"
   ]
  },
  {
   "cell_type": "markdown",
   "metadata": {},
   "source": [
    "## Compared with Er, there aren't so many matched pairs of Tm and Yb"
   ]
  },
  {
   "cell_type": "code",
   "execution_count": 10,
   "metadata": {},
   "outputs": [
    {
     "name": "stdout",
     "output_type": "stream",
     "text": [
      "7\n"
     ]
    },
    {
     "data": {
      "text/plain": [
       "[('E0(3H6)', 'E2(3H5)', 2003),\n",
       " ('E0(3H6)', 'E3(3H4)', 2336),\n",
       " ('E1(3F4)', 'E4(3F3)', 1476),\n",
       " ('E1(3F4)', 'E5(3F2)', 894),\n",
       " ('E3(3H4)', 'E6(1G4)', 1629),\n",
       " ('E7(1D2)', 'E10(3P1)', 1874),\n",
       " ('E7(1D2)', 'E11(3P2)', 24)]"
      ]
     },
     "execution_count": 10,
     "metadata": {},
     "output_type": "execute_result"
    }
   ],
   "source": [
    "Yb_energy = {'S0':0, 'S1': 10246}\n",
    "\n",
    "target_difference = Yb_energy['S1']-Yb_energy['S0']\n",
    "\n",
    "\n",
    "margin = 2500\n",
    "\n",
    "pairs = find_pairs(Tm_energy, target_difference, margin)\n",
    "\n",
    "print(len(pairs))\n",
    "pairs\n"
   ]
  },
  {
   "cell_type": "markdown",
   "metadata": {},
   "source": [
    "## We will use the following pairs for Er simulation"
   ]
  },
  {
   "cell_type": "code",
   "execution_count": 11,
   "metadata": {},
   "outputs": [
    {
     "name": "stdout",
     "output_type": "stream",
     "text": [
      "7\n"
     ]
    },
    {
     "data": {
      "text/plain": [
       "[('E0(3H6)', 'E2(3H5)', 2003),\n",
       " ('E0(3H6)', 'E3(3H4)', 2336),\n",
       " ('E1(3F4)', 'E4(3F3)', 1476),\n",
       " ('E1(3F4)', 'E5(3F2)', 894),\n",
       " ('E3(3H4)', 'E6(1G4)', 1629),\n",
       " ('E7(1D2)', 'E10(3P1)', 1874),\n",
       " ('E7(1D2)', 'E11(3P2)', 24)]"
      ]
     },
     "execution_count": 11,
     "metadata": {},
     "output_type": "execute_result"
    }
   ],
   "source": [
    "margin = 2500\n",
    "\n",
    "pairs = find_pairs(Tm_energy, target_difference, margin)\n",
    "\n",
    "print(len(pairs))\n",
    "pairs"
   ]
  },
  {
   "cell_type": "code",
   "execution_count": null,
   "metadata": {},
   "outputs": [],
   "source": []
  }
 ],
 "metadata": {
  "kernelspec": {
   "display_name": "base",
   "language": "python",
   "name": "python3"
  },
  "language_info": {
   "codemirror_mode": {
    "name": "ipython",
    "version": 3
   },
   "file_extension": ".py",
   "mimetype": "text/x-python",
   "name": "python",
   "nbconvert_exporter": "python",
   "pygments_lexer": "ipython3",
   "version": "3.11.9"
  }
 },
 "nbformat": 4,
 "nbformat_minor": 2
}
