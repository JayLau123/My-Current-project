{
 "cells": [
  {
   "cell_type": "code",
   "execution_count": null,
   "metadata": {},
   "outputs": [],
   "source": [
    "import pickle\n",
    "import os\n",
    "\n",
    "\n",
    "# Load the data\n",
    "\n",
    "filepath = f'myC_05_14_2024_1.pkl'\n",
    "with open(filepath, 'rb') as f:\n",
    "    data = pickle.load(f)\n",
    "\n",
    "print(\"Data loaded successfully\")\n"
   ]
  },
  {
   "cell_type": "code",
   "execution_count": null,
   "metadata": {},
   "outputs": [],
   "source": [
    "print(list(data.keys()))\n",
    "print(list(data[0.04].keys()))"
   ]
  },
  {
   "cell_type": "code",
   "execution_count": null,
   "metadata": {},
   "outputs": [],
   "source": [
    "list(data[0.04][10].keys())"
   ]
  },
  {
   "cell_type": "markdown",
   "metadata": {},
   "source": [
    "# Upconversion"
   ]
  },
  {
   "cell_type": "code",
   "execution_count": null,
   "metadata": {},
   "outputs": [],
   "source": [
    "percentages = [0.04, 0.06, 0.08, 0.1, 0.12, 0.15, 0.2, 0.5]\n",
    "power_densities = [10, 20, 40, 80, 1*10**2, 2*10**2, 4*10**2, 8*10**2, 1*10**3, 2*10**3, 4*10**3, 8*10**3, 1*10**4, 2*10**4, 4*10**4, 8*10**4, 1*10**5, 2*10**5, 4*10**5, 8*10**5, 1*10**6, 2*10**6, 4*10**6, 8*10**6, 1*10**7]\n",
    "\n",
    "upconversion_list = [[] for i in range(len(percentages))]\n",
    "\n",
    "for i, percentage in enumerate(percentages):\n",
    "    for power_density in power_densities:\n",
    "        upconversion_list[i].append(data[percentage][power_density]['tm_upconversions'])\n",
    "    \n",
    "print(len(upconversion_list))\n",
    "print(len(upconversion_list[0]))"
   ]
  },
  {
   "cell_type": "code",
   "execution_count": null,
   "metadata": {},
   "outputs": [],
   "source": [
    "from collections import defaultdict\n",
    "\n",
    "upconversion_counts=[[] for i in range(len(percentages))]\n",
    "\n",
    "for i, p1 in enumerate(percentages):\n",
    "    for j, p2 in enumerate(power_densities):\n",
    "\n",
    "        my_list = upconversion_list[i][j]\n",
    "        \n",
    "        # Initialize defaultdict to count cumulative values of keys\n",
    "        key_counts = defaultdict(int)\n",
    "\n",
    "        # Iterate through each dictionary in the list\n",
    "        for d in my_list:\n",
    "            for key, value in d.items():\n",
    "                key_counts[key] += value\n",
    "\n",
    "        upconversion_count = {}\n",
    "        upconversion_count[(p1,p2)] = key_counts\n",
    "        upconversion_counts[i].append(upconversion_count)\n",
    "\n",
    "print(len(upconversion_counts))\n",
    "print(len(upconversion_counts[0]))"
   ]
  },
  {
   "cell_type": "code",
   "execution_count": null,
   "metadata": {},
   "outputs": [],
   "source": [
    "from collections import defaultdict\n",
    "\n",
    "for i in range(len(upconversion_counts[0])):\n",
    "    # Extracting the current entry (only one key per dict based on your structure)\n",
    "    for key, dd in upconversion_counts[0][i].items():\n",
    "        # Convert defaultdict to regular dict\n",
    "        regular_dict = dict(dd)\n",
    "        # Sort keys by the sum of the tuples\n",
    "        sorted_dict = dict(sorted(regular_dict.items(), key=lambda item: sum(item[0])))\n",
    "        total_sum = sum(sorted_dict.values())\n",
    "        # Printing the updated dictionary with sorted keys\n",
    "        print({key: sorted_dict})\n",
    "        print(f'Total={total_sum}')\n"
   ]
  },
  {
   "cell_type": "code",
   "execution_count": null,
   "metadata": {},
   "outputs": [],
   "source": [
    "for i in range(len(upconversion_counts[7])):\n",
    "    # Extracting the current entry (only one key per dict based on your structure)\n",
    "    for key, dd in upconversion_counts[7][i].items():\n",
    "        # Convert defaultdict to regular dict\n",
    "        regular_dict = dict(dd)\n",
    "        # Sort keys by the sum of the tuples\n",
    "        sorted_dict = dict(sorted(regular_dict.items(), key=lambda item: sum(item[0])))\n",
    "        total_sum = sum(sorted_dict.values())\n",
    "        # Printing the updated dictionary with sorted keys\n",
    "        print({key: sorted_dict})\n",
    "        print(f'Total={total_sum}')"
   ]
  },
  {
   "cell_type": "markdown",
   "metadata": {},
   "source": [
    "# Cross-relaxation"
   ]
  },
  {
   "cell_type": "code",
   "execution_count": null,
   "metadata": {},
   "outputs": [],
   "source": [
    "percentages = [0.04, 0.06, 0.08, 0.1, 0.12, 0.15, 0.2, 0.5]\n",
    "power_densities = [10, 20, 40, 80, 1*10**2, 2*10**2, 4*10**2, 8*10**2, 1*10**3, 2*10**3, 4*10**3, 8*10**3, 1*10**4, 2*10**4, 4*10**4, 8*10**4, 1*10**5, 2*10**5, 4*10**5, 8*10**5, 1*10**6, 2*10**6, 4*10**6, 8*10**6, 1*10**7]\n",
    "\n",
    "crossrelaxation_list = [[] for i in range(len(percentages))]\n",
    "\n",
    "for i, percentage in enumerate(percentages):\n",
    "    for power_density in power_densities:\n",
    "        crossrelaxation_list[i].append(data[percentage][power_density]['tm_crossrelaxations'])\n",
    "    \n",
    "print(len(crossrelaxation_list))\n",
    "print(len(crossrelaxation_list[0]))"
   ]
  },
  {
   "cell_type": "code",
   "execution_count": null,
   "metadata": {},
   "outputs": [],
   "source": [
    "from collections import defaultdict\n",
    "\n",
    "crossrelaxation_counts=[[] for i in range(len(percentages))]\n",
    "\n",
    "for i, p1 in enumerate(percentages):\n",
    "    for j, p2 in enumerate(power_densities):\n",
    "\n",
    "        my_list = crossrelaxation_list[i][j]\n",
    "        \n",
    "        # Initialize defaultdict to count cumulative values of keys\n",
    "        key_counts = defaultdict(int)\n",
    "\n",
    "        # Iterate through each dictionary in the list\n",
    "        for d in my_list:\n",
    "            for key, value in d.items():\n",
    "                key_counts[key] += value\n",
    "\n",
    "        crossrelaxation_count = {}\n",
    "        crossrelaxation_count[(p1,p2)] = key_counts\n",
    "        crossrelaxation_counts[i].append(crossrelaxation_count)\n",
    "\n",
    "print(len(crossrelaxation_counts))\n",
    "print(len(crossrelaxation_counts[0]))"
   ]
  },
  {
   "cell_type": "code",
   "execution_count": null,
   "metadata": {},
   "outputs": [],
   "source": [
    "from collections import defaultdict\n",
    "\n",
    "for i in range(len(crossrelaxation_counts[0])):\n",
    "    # Extracting the current entry (only one key per dict based on your structure)\n",
    "    for key, dd in crossrelaxation_counts[0][i].items():\n",
    "        # Convert defaultdict to regular dict\n",
    "        regular_dict = dict(dd)\n",
    "        # Sort keys by the sum of the tuples\n",
    "        sorted_dict = dict(sorted(regular_dict.items(), key=lambda item: sum(item[0])))\n",
    "        total_sum = sum(sorted_dict.values())\n",
    "        # Printing the updated dictionary with sorted keys\n",
    "        print({key: sorted_dict})\n",
    "        print(f'Total={total_sum}')\n"
   ]
  },
  {
   "cell_type": "code",
   "execution_count": null,
   "metadata": {},
   "outputs": [],
   "source": [
    "from collections import defaultdict\n",
    "\n",
    "for i in range(len(crossrelaxation_counts[7])):\n",
    "    # Extracting the current entry (only one key per dict based on your structure)\n",
    "    for key, dd in crossrelaxation_counts[7][i].items():\n",
    "        # Convert defaultdict to regular dict\n",
    "        regular_dict = dict(dd)\n",
    "        # Sort keys by the sum of the tuples\n",
    "        sorted_dict = dict(sorted(regular_dict.items(), key=lambda item: sum(item[0])))\n",
    "        total_sum = sum(sorted_dict.values())\n",
    "        # Printing the updated dictionary with sorted keys\n",
    "        print({key: sorted_dict})\n",
    "        print(f'Total={total_sum}')\n"
   ]
  }
 ],
 "metadata": {
  "kernelspec": {
   "display_name": "base",
   "language": "python",
   "name": "python3"
  },
  "language_info": {
   "name": "python",
   "version": "3.11.9"
  }
 },
 "nbformat": 4,
 "nbformat_minor": 2
}
