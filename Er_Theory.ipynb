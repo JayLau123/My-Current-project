{
 "cells": [
  {
   "cell_type": "markdown",
   "metadata": {},
   "source": [
    "# $Er$ energy levels\n"
   ]
  },
  {
   "cell_type": "code",
   "execution_count": 1,
   "metadata": {},
   "outputs": [
    {
     "name": "stdout",
     "output_type": "stream",
     "text": [
      "Successfully import:\n",
      "\n",
      "Er_energy\n",
      "Er_RME\n",
      "Er_omega\n",
      "\n",
      "Successfully import: \n",
      "\n",
      "sorted_wavelength(energy_dict)\n",
      "find_ED_transition(energy_dict)\n",
      "find_MD_transition(energy_dict)\n",
      "\n",
      "Successfully import:\n",
      "\n",
      "class Er_EnergyLevelDiagram(ion_name, energy_levels)\n",
      "class Er_EnergyLevelDiagramArrow(ion_name, energy_levels, ED_transitions, MD_transitions)\n",
      "\n",
      "Successfully import:\n",
      "\n",
      "ED_cal(energy_dict, omega, RME_square, n)\n",
      "MD_cal(energy_dict, n)\n",
      "MPR_cal(energy_dict, W0, alpha, phonon)\n",
      "\n"
     ]
    }
   ],
   "source": [
    "from Er_inf import *\n",
    "from Er_Energy import *\n",
    "from Er_EnergyLevelDiagram import *\n",
    "from Er_RateCalculation import *"
   ]
  },
  {
   "cell_type": "markdown",
   "metadata": {},
   "source": [
    "# `0. Rate calculation`\n"
   ]
  },
  {
   "cell_type": "markdown",
   "metadata": {},
   "source": [
    "# 1. ED-induced radiative transition\n",
    "\n",
    "#### $$S_{i j}^{\\mathrm{ED}}=\\sum_{\\lambda=2,4,6} \\Omega_\\lambda\\left|\\left\\langle[\\mathrm{SL}] J_i\\left\\|U^{(\\lambda)}\\right\\|[\\mathrm{SL}] J_j\\right\\rangle\\right|^2$$\n",
    "\n",
    "\n",
    "\n",
    "#### $$A_{i j}^{\\mathrm{ED}}=\\dfrac{64 \\pi^4 e^2 \\widetilde{\\nu}^3}{3 h(2 J+1)}\\left[\\dfrac{n\\left(n^2+2\\right)^2}{9}\\right] S_{i j}^{\\mathrm{ED}}=constant\\times\\dfrac{\\widetilde{\\nu}^3}{2 J+1}\\times n_{term} \\times S_{ij}^{\\mathrm{ED}}$$\n",
    "\n",
    "#### $$A_{i j}^{\\mathrm{ED}}=\\dfrac{64 \\pi^4 e^2 \\widetilde{\\nu}^3}{3 h(2 J+1)}\\left[\\dfrac{n\\left(n^2+2\\right)^2}{9}\\right] S_{i j}^{\\mathrm{ED}}=constant\\times\\dfrac{\\widetilde{\\nu}^3}{2 J+1}\\times n_{term} \\times \\sum_{\\lambda=2,4,6} \\Omega_\\lambda\\left|\\left\\langle[\\mathrm{SL}] J_i\\left\\|U^{(\\lambda)}\\right\\|[\\mathrm{SL}] J_j\\right\\rangle\\right|^2$$\n",
    "\n",
    "\n",
    "\n",
    "Now, we merge some basic constants together as a total constant, it's unlikely to change:\n",
    "\n",
    "$$constant=\\dfrac{64 \\pi^4 e^2 }{3 h}$$\n",
    "\n",
    "#### Gaussian unit system:\n",
    "\n",
    "1. Elementary charge: $e = 4.8 \\times 10^{-10} g^{1/2}\\cdot cm^{3/2}\\cdot s^{-1}$\n",
    "\n",
    "2. Planck constant: $h = 6.6261 \\times 10^{-27}g\\cdot cm^2\\cdot s^{-1}$\n",
    "\n",
    "3. Energy difference of transition in wavenumbers: $\\widetilde{\\nu}(cm^{-1})$\n",
    "\n",
    "4. Judd-Ofelt intensity/Phenomenological parameter/ (host-dependent): $\\Omega_{\\lambda} (10^{-20}cm^2)$\n",
    "\n",
    "\n",
    "\n",
    "\n",
    "\n"
   ]
  },
  {
   "cell_type": "markdown",
   "metadata": {},
   "source": [
    "# MD-induced radiative transition\n",
    "\n",
    "## $$A_{i j}^{\\mathrm{MD}}=\\dfrac{4h \\pi^2 e_{cgs}^2\\widetilde{\\nu}^3 n^3}{3 (2 J_i+1) m_{\\mathrm{e}}^2 c^2} \\left|\\left\\langle[\\mathrm{SL}] J_i\\|\\mathbf{L}+2 \\mathbf{S}\\|[\\mathrm{SL}] J_j\\right\\rangle\\right|^2$$\n",
    "\n",
    "---\n",
    "\n",
    "1. $J_j = J_i+1$\n",
    "\n",
    "$$\\left\\langle f^N \\alpha S L J\\|\\mathbf{M}\\| f^N \\alpha^{\\prime} S^{\\prime} L^{\\prime} J+1\\right\\rangle=\\delta\\left(\\alpha, \\alpha^{\\prime}\\right) \\delta\\left(S, S^{\\prime}\\right) \\delta\\left(L, L^{\\prime}\\right) \\left\\{\\frac{\\left((S+L+1)^2-(J+1)^2\\right]\\left[(J+1)^2-(L-S)^2\\right]}{4(J+1)}\\right\\}^{1 / 2}$$\n",
    "\n",
    "\n",
    "2. $J_j = J_i-1$\n",
    "\n",
    "\n",
    "$$\\left\\langle f^N \\alpha S L J\\|\\mathbf{M}\\| f^N \\alpha^{\\prime} S^{\\prime} L^{\\prime} J-1\\right\\rangle=\\delta\\left(\\alpha, \\alpha^{\\prime}\\right) \\delta\\left(S, S^{\\prime}\\right) \\delta\\left(L, L^{\\prime}\\right) \\left\\{\\frac{\\left[(S+L+1)^2-J^2\\right]\\left[J^2-(L-S)^2\\right]}{4 J}\\right\\}^{1 / 2}$$\n",
    "\n",
    "\n",
    "3. $J_j = J_i$\n",
    "\n",
    "$$\\left(f^N \\alpha S L J\\|\\mathbf{M}\\| f^N \\alpha^{\\prime} S^{\\prime} L^{\\prime} J\\right)=\\delta\\left(\\alpha, \\alpha^{\\prime}\\right) \\delta\\left(S, S^{\\prime}\\right) \\delta\\left(L, L^{\\prime}\\right) [(2 J+1) / 4 J(J+1)]^{1 / 2}$$\n",
    "\n",
    "---\n",
    "\n",
    "### $$A_{i j}^{\\mathrm{MD}}=\\dfrac{4h \\pi^2 e_{cgs}^2\\widetilde{\\nu}^3 n^3}{3 (2 J+1) m_{\\mathrm{e}}^2 c^2} \\left|\\left\\langle[\\mathrm{SL}] J_i\\|\\mathbf{L}+2 \\mathbf{S}\\|[\\mathrm{SL}] J_j\\right\\rangle\\right|^2=constant ~\\times \\dfrac{\\widetilde{\\nu}^3}{2J+1} \\times \\left|\\left\\langle[\\mathrm{SL}] J_i\\|\\mathbf{L}+2 \\mathbf{S}\\|[\\mathrm{SL}] J_j\\right\\rangle\\right|^2$$\n",
    "\n",
    "where:\n",
    "\n",
    " - $constant = \\dfrac{4h \\pi^2 e_{cgs}^2  n^3}{3 m_{\\mathrm{e}}^2 c^2}$\n",
    "\n",
    " $= \\dfrac{4 \\times (6.626 \\times 10^{-27} g \\cdot cm^2 \\cdot s^{-1}) \\times 3.14^2 \\times \\left[4.8 \\times 10^{-10 } g^{1/2} \\cdot cm^{3/2} \\cdot s^{-1}\\right]^2 \\times 1.5^3}{3 \\times \\left[ 9.11 \\times 10^{-28}g \\right]^2 \\times \\left[ 3 \\times 10^{10} cm \\cdot s^{-1} \\right]^2} $\n",
    "\n",
    " $= 9.068 \\times 10^{-11} cm^3 \\cdot s^{-1}$"
   ]
  },
  {
   "cell_type": "code",
   "execution_count": 2,
   "metadata": {},
   "outputs": [
    {
     "data": {
      "text/plain": [
       "{'E0(4I_15_2)': 0,\n",
       " 'E1(4I_13_2)': 6632,\n",
       " 'E2(4I_11_2)': 10230,\n",
       " 'E3(4I_9_2)': 12553,\n",
       " 'E4(4F_9_2)': 15306,\n",
       " 'E5(4S_3_2)': 18448,\n",
       " 'E6(2H2_11_2)': 19246,\n",
       " 'E7(4F_7_2)': 20497,\n",
       " 'E8(4F_5_2)': 22282,\n",
       " 'E9(4F_3_2)': 22677,\n",
       " 'E10(2G1_9_2)': 24475,\n",
       " 'E11(4G_11_2)': 26376,\n",
       " 'E12(4G_9_2)': 27319,\n",
       " 'E13(2K_15_2)': 27584,\n",
       " 'E14(2G1_7_2)': 27825,\n",
       " 'E15(2P_3_2)': 31414,\n",
       " 'E16(2K_13_2)': 33000,\n",
       " 'E17(4G_5_2)': 33300,\n",
       " 'E18(2P_1_2)': 33350,\n",
       " 'E19(4G_7_2)': 33900,\n",
       " 'E20(2D1_5_2)': 34700,\n",
       " 'E21(2H2_9_2)': 36450,\n",
       " 'E22(4D_5_2)': 38450,\n",
       " 'E23(4D_7_2)': 39050,\n",
       " 'E24(2I_11_2)': 40900,\n",
       " 'E25(2L_17_2)': 41600,\n",
       " 'E26(4D_3_2)': 42150,\n",
       " 'E27(2D1_3_2)': 42850,\n",
       " 'E28(2I_13_2)': 43600,\n",
       " 'E29(4D_1_2)': 46950,\n",
       " 'E30(2H1_9_2)': 47750,\n",
       " 'E31(2D2_5_2)': 48900,\n",
       " 'E32(2H1_11_2)': 50900,\n",
       " 'E33(2F2_7_2)': 55050,\n",
       " 'E34(2D2_3_2)': 55100,\n",
       " 'E35(2F2_5_2)': 63150,\n",
       " 'E36(2G2_7_2)': 65350,\n",
       " 'E37(2G2_9_2)': 69450,\n",
       " 'E38(2F1_5_2)': 93450,\n",
       " 'E39(2F1_7_2)': 97200}"
      ]
     },
     "execution_count": 2,
     "metadata": {},
     "output_type": "execute_result"
    }
   ],
   "source": [
    "Er_energy "
   ]
  },
  {
   "cell_type": "code",
   "execution_count": 3,
   "metadata": {},
   "outputs": [],
   "source": [
    "Er_energy = {'E0(4I_15_2)':0, 'E1(4I_13_2)': 6632, 'E2(4I_11_2)': 10230, 'E3(4I_9_2)':12553, 'E4(4F_9_2)':15306, 'E5(4S_3_2)':18448, 'E6(2H2_11_2)': 19246, 'E7(4F_7_2)':20497, 'E8(4F_5_2)':22282, 'E9(4F_3_2)':22677, 'E10(2G1_9_2)':24475,\n",
    "                'E11(4G_11_2)':26376, 'E12(4G_9_2)':27319, 'E13(2K_15_2)':27584, 'E14(2G1_7_2)':27825, 'E15(2P_3_2)':31414}\n",
    "\n",
    "Er_RME_15={\n",
    "       'E1E0':[0.0195, 0.1173, 1.4316],\n",
    "       'E2E1':[0.0331, 0.1708, 1.0864],'E2E0':[0.0282, 0.0003, 0.3953],\n",
    "       'E3E2':[0.0030, 0.0674, 0.1271],'E3E1':[0.0004, 0.0106, 0.7162],'E3E0':[0, 0.1732, 0.0099],\n",
    "       'E4E3':[0.1279, 0.0059, 0.0281],'E4E2':[0.0704, 0.0112, 1.2839],'E4E1':[0.0101, 0.1533, 0.0714],'E4E0':[0, 0.5354, 0.4619],\n",
    "       'E5E4':[0, 0.0003, 0.0264],'E5E3':[0, 0.0788, 0.2542],'E5E2':[0, 0.0042, 0.0739],'E5E1':[0, 0, 0.3462],'E5E0':[0, 0, 0.2211],\n",
    "       'E6E5':[0, 0.1988, 0.0101],'E6E4':[0.3629, 0.0224, 0.0022],'E6E3':[0.2077, 0.0662, 0.2858],'E6E2':[0.0357, 0.1382, 0.0371],'E6E1':[0.0230, 0.0611, 0.0527],'E6E0':[0.7125, 0.4123, 0.0925],\n",
    "       'E7E6':[0.1229, 0.0153, 0.4017],'E7E5':[0.0001, 0.0058, 0],'E7E4':[0.0121, 0.0342, 0.0151],'E7E3':[0.0163, 0.0954, 0.4277],'E7E2':[0.0035, 0.2648, 0.1515],'E7E1':[0, 0.3371, 0.0001],'E7E0':[0, 0.1468, 0.6266],\n",
    "       'E8E7':[0.0765, 0.0503, 0.1015],'E8E6':[0, 0.0586, 0.1825],'E8E5':[0.0082, 0.0040, 0],'E8E4':[0.0004, 0.2415, 0.3575],'E8E3':[0.0107, 0.0576, 0.1020],'E8E2':[0, 0.0979, 0.0028],'E8E1':[0, 0.1783, 0.3429],'E8E0':[0, 0, 0.2233],\n",
    "       'E9E8':[0.0618, 0.0350, 0],'E9E7':[0.0028, 0.0584, 0],'E9E6':[0, 0.0005, 0.0030],'E9E5':[0.0260, 0, 0],'E9E4':[0, 0.0040, 0.0595],'E9E3':[0, 0.2299, 0.0558],'E9E2':[0, 0.0927, 0.4861],'E9E1':[0, 0, 0.0345],'E9E0':[0, 0, 0.1272],\n",
    "       'E10E9':[0, 0.0208, 0.0087],'E10E8':[0.0124,\t0.0259,\t0.0063],'E10E7':[0.1058, 0.0488, 0.0240],'E10E6':[0.0308, 0.1828, 0.0671],'E10E5':[0, 0.0019, 0.0025],'E10E4':[0.0055, 0.0314, 0.0369],'E10E3':[0.0147, 0.0062, 0.0043],'E10E2':[0.0428, 0.0824, 0.1128],'E10E1':[0.0780, 0.1194, 0.3535],'E10E0':[0, 0.0190, 0.2255],\n",
    "       'E11E10':[0.2906, 0.1170, 0.1328],'E11E9':[0, 0.0234, 0.0923],'E11E8':[0, 0.0378, 0.0815],'E11E7':[0.0877, 0.1287, 0.0159],'E11E6':[0.0004, 0.1539, 0.0494],'E11E5':[0, 0.1302, 0.0044],'E11E4':[0.4252, 0.0368, 0.0122],'E11E3':[0.0716, 0.0131, 0.0235],'E11E2':[0.0003, 0.0496, 0.0134],'E11E1':[0.1013, 0.2651, 0.2594],'E11E0':[0.9181, 0.5261, 0.1171],\n",
    "       'E12E11':[0.0005, 0.2021, 0.1639],'E12E10':[0.0269, 0, 0.0452],'E12E9':[0, 0.1710, 0.1089],'E12E8':[0.1630, 0.0824, 0.0028],'E12E7':[0.6062, 0.0088, 0.1243],'E12E6':[0.0218, 0.3274, 0.1495],'E12E5':[0, 0.1651, 0.0100],'E12E4':[0.2201, 0.3121, 0.3765],'E12E3':[0.0051, 0.0042, 0.0027],'E12E2':[0.0894, 0.1524, 0.0144],'E12E1':[1.0908, 0.3520, 0.0160],'E12E0':[0, 0.2415, 0.1234],\n",
    "       'E13E12':[0, 0.0114, 0.0598],'E13E11':[0.0965, 0.0595, 0.6706],'E13E10':[0, 0.7106, 0.0758],'E13E9':[0, 0, 0.0001],'E13E8':[0, 0, 0.0461],'E13E7':[0, 0.0001, 0.0002],'E13E6':[0.0977, 0.0001, 1.1458],'E13E5':[0, 0, 0.0032],'E13E4':[0, 0.0776, 0.0125],'E13E3':[0, 0.2221, 0.1003],'E13E2':[0.0468, 0.0018, 0.2488],'E13E1':[0.0001, 0.0016, 0.0261],'E13E0':[0.0219, 0.0041, 0.0757],\n",
    "       'E14E13':[0, 0.1154, 0.0026],'E14E12':[0.0041, 0.1891, 0.1582],'E14E11':[0.0150, 0.0604, 0.0193],'E14E10':[0.0145, 0.0056, 0.0205],'E14E9':[0.0941, 0.0314, 0],'E14E8':[0.3716, 0.0023, 0.0378],'E14E7':[0.1239, 0.0424, 0.0071],'E14E6':[0.0019, 0.0344, 0.2672],'E14E5':[0.0445, 0.1594, 0],'E14E4':[0.0003, 0.0078, 0.0128],'E14E3':[0.1586, 0.3607, 0.2204],'E14E2':[0.4934, 0.2708, 0.1674],'E14E1':[0, 0.1009, 0.0312],'E14E0':[0, 0.0174, 0.1163],\n",
    "       'E15E14':[0.0125, 0.0004, 0], 'E15E13':[0, 0, 0.0268],'E15E12':[0, 0.0125, 0.0053],'E15E11':[0, 0.0266, 0.0107],'E15E10':[0, 0.2083, 0.2591],'E15E9':[0.0123, 0, 0],'E15E8':[0.0173, 0.0433, 0],'E15E7':[0.0211, 0.0076, 0],'E15E6':[0, 0.0168, 0.0263],'E15E5':[0.0813, 0, 0],'E15E4':[0, 0.0464, 0.0060],'E15E3':[0, 0.0461, 0.0041],'E15E2':[0, 0.0995, 0.0400],'E15E1':[0, 0, 0.1478],'E15E0':[0, 0, 0.0172],\n",
    "       }\n",
    "\n"
   ]
  },
  {
   "cell_type": "markdown",
   "metadata": {},
   "source": [
    "# Merge all rates together"
   ]
  },
  {
   "cell_type": "code",
   "execution_count": 4,
   "metadata": {},
   "outputs": [],
   "source": [
    "# refractive index\n",
    "n = 1.5\n",
    "\n",
    "# zero-phonon relaxation rate\n",
    "W0=2*10**7\n",
    "\n",
    "# MPR rate constant\n",
    "alpha=3.5*10**-3\n",
    "\n",
    "# phonon energy\n",
    "phonon=450\n",
    "\n",
    "\n",
    "\n",
    "tag_Er_ED = ED_cal(Er_energy, Er_omega, Er_RME_15, n)\n",
    "tag_Er_MD = MD_cal(Er_energy, n)\n",
    "tag_Er_mpr = MPR_cal(Er_energy, W0, alpha, phonon)\n",
    "\n",
    "# manually input for Yb\n",
    "tag_Yb = {'c0':7e-39, # Yb-Yb resonant energy transfer\n",
    "          'Ws': 834,} # Yb ED+MD\n",
    "\n",
    "\n",
    "tag_default = tag_Er_ED\n",
    "\n",
    "for key in tag_Yb:\n",
    "    tag_default[key] = tag_Yb[key]\n",
    "\n",
    "# MD+ED\n",
    "for key in tag_Er_MD:\n",
    "    tag_default[key] = tag_default[key] + tag_Er_MD[key]\n",
    "\n",
    "# MD+ED+MPR\n",
    "for key in tag_Er_mpr:\n",
    "    tag_default[key] = tag_default[key] + tag_Er_mpr[key]\n",
    "\n",
    "\n",
    "\n"
   ]
  },
  {
   "cell_type": "code",
   "execution_count": 5,
   "metadata": {},
   "outputs": [
    {
     "data": {
      "text/plain": [
       "{'E1E0': 124.44342884545294,\n",
       " 'E2E1': 1607.5098983346559,\n",
       " 'E2E0': 105.00663885847584,\n",
       " 'E3E2': 137415.38838614465,\n",
       " 'E3E1': 40.06626483314129,\n",
       " 'E3E0': 107.07825106403719,\n",
       " 'E4E3': 30509.37179345482,\n",
       " 'E4E2': 49.124834957391506,\n",
       " 'E4E1': 45.114305779338295,\n",
       " 'E4E0': 1009.6221517188111,\n",
       " 'E5E4': 7819.008703719791,\n",
       " 'E5E3': 46.481404188403104,\n",
       " 'E5E2': 28.889483458690968,\n",
       " 'E5E1': 378.15231194559027,\n",
       " 'E5E0': 919.1044353717751,\n",
       " 'E6E5': 28580717.4232479,\n",
       " 'E6E4': 8.841624545216064,\n",
       " 'E6E3': 47.60084543949401,\n",
       " 'E6E2': 41.09061870168263,\n",
       " 'E6E1': 71.35702052573745,\n",
       " 'E6E0': 2812.803587953125,\n",
       " 'E7E6': 5854627.320081451,\n",
       " 'E7E5': 0.01904121955274265,\n",
       " 'E7E4': 19.30260923231797,\n",
       " 'E7E3': 93.44157758618482,\n",
       " 'E7E2': 162.98778196545229,\n",
       " 'E7E1': 334.1120016219258,\n",
       " 'E7E0': 2256.2758284193,\n",
       " 'E8E7': 903241.1598602972,\n",
       " 'E8E6': 3.067097722867185,\n",
       " 'E8E5': 0.4645423717222112,\n",
       " 'E8E4': 94.31318219852967,\n",
       " 'E8E3': 75.27551752242351,\n",
       " 'E8E2': 87.11248267553177,\n",
       " 'E8E1': 918.9196021042433,\n",
       " 'E8E0': 1090.4059764475894,\n",
       " 'E9E8': 117123891.20171373,\n",
       " 'E9E7': 0.4830720928474433,\n",
       " 'E9E6': 0.09524021206644484,\n",
       " 'E9E5': 2.251838694215458,\n",
       " 'E9E4': 16.968045956739193,\n",
       " 'E9E3': 215.70878030483897,\n",
       " 'E9E2': 753.5632557882657,\n",
       " 'E9E1': 94.35534541803662,\n",
       " 'E9E0': 982.1372000625187,\n",
       " 'E10E9': 863062.9310742668,\n",
       " 'E10E8': 0.15873924027578779,\n",
       " 'E10E7': 4.364377459681794,\n",
       " 'E10E6': 12.330696169635486,\n",
       " 'E10E5': 0.2686649239407923,\n",
       " 'E10E4': 16.67371622352856,\n",
       " 'E10E3': 16.464052082910243,\n",
       " 'E10E2': 213.86053490531287,\n",
       " 'E10E1': 936.5234192196058,\n",
       " 'E10E0': 958.440059896806,\n",
       " 'E11E10': 601838.7090582498,\n",
       " 'E11E9': 1.324526425596782,\n",
       " 'E11E8': 1.8771043878248963,\n",
       " 'E11E7': 13.996305881174957,\n",
       " 'E11E6': 17.832523357272812,\n",
       " 'E11E5': 16.563287024635635,\n",
       " 'E11E4': 236.19904138444724,\n",
       " 'E11E3': 94.45944293499487,\n",
       " 'E11E2': 64.67232480594103,\n",
       " 'E11E1': 1243.9346549177662,\n",
       " 'E11E0': 9297.316486123314,\n",
       " 'E12E11': 17205554.786690418,\n",
       " 'E12E10': 0.5588032405459346,\n",
       " 'E12E9': 7.971890540105319,\n",
       " 'E12E8': 12.76800258479716,\n",
       " 'E12E7': 99.44086028635165,\n",
       " 'E12E6': 77.31690533994991,\n",
       " 'E12E5': 36.12673522485811,\n",
       " 'E12E4': 508.55789767721313,\n",
       " 'E12E3': 13.844572642393212,\n",
       " 'E12E2': 449.589325290292,\n",
       " 'E12E1': 5387.632532996023,\n",
       " 'E12E0': 2130.74558349785,\n",
       " 'E13E12': 184607559.79919028,\n",
       " 'E13E11': 0.2638687077691587,\n",
       " 'E13E10': 4.346372893096346,\n",
       " 'E13E9': 0.001955763929477078,\n",
       " 'E13E8': 1.1373348678335395,\n",
       " 'E13E7': 0.018400121952239102,\n",
       " 'E13E6': 126.165839780936,\n",
       " 'E13E5': 0.40391177043368465,\n",
       " 'E13E4': 30.52735318767222,\n",
       " 'E13E3': 196.57879852497175,\n",
       " 'E13E2': 287.00804091501544,\n",
       " 'E13E1': 42.73483724274275,\n",
       " 'E13E0': 410.56807941337576,\n",
       " 'E14E13': 200784516.05350938,\n",
       " 'E14E12': 0.016196788996499387,\n",
       " 'E14E11': 0.11387972107026675,\n",
       " 'E14E10': 2.5395700191792514,\n",
       " 'E14E9': 8.943247284418822,\n",
       " 'E14E8': 38.51206896635523,\n",
       " 'E14E7': 35.04334807995203,\n",
       " 'E14E6': 64.61437433833866,\n",
       " 'E14E5': 69.86579523458428,\n",
       " 'E14E4': 14.340500907451297,\n",
       " 'E14E3': 1060.9796743420568,\n",
       " 'E14E2': 2389.063384347622,\n",
       " 'E14E1': 455.3660616617849,\n",
       " 'E14E0': 968.7893351629385,\n",
       " 'E15E14': 1636.2392400693334,\n",
       " 'E15E13': 0.9969178344353601,\n",
       " 'E15E12': 0.8791773434076396,\n",
       " 'E15E11': 3.4348914051758057,\n",
       " 'E15E10': 109.06244207943858,\n",
       " 'E15E9': 9.393836406326464,\n",
       " 'E15E8': 39.6041250381591,\n",
       " 'E15E7': 38.78927541775605,\n",
       " 'E15E6': 53.87575686980191,\n",
       " 'E15E5': 202.93617550796554,\n",
       " 'E15E4': 160.79258052288716,\n",
       " 'E15E3': 248.19085435328444,\n",
       " 'E15E2': 955.0672069535281,\n",
       " 'E15E1': 1489.4013441938105,\n",
       " 'E15E0': 353.04203238888493,\n",
       " 'c0': 7e-39,\n",
       " 'Ws': 834}"
      ]
     },
     "execution_count": 5,
     "metadata": {},
     "output_type": "execute_result"
    }
   ],
   "source": [
    "tag_default"
   ]
  },
  {
   "cell_type": "markdown",
   "metadata": {},
   "source": []
  },
  {
   "cell_type": "markdown",
   "metadata": {},
   "source": [
    "# `1. class EnergyLevelDiagram`\n",
    "\n",
    "## Visualization of energy level diagram"
   ]
  },
  {
   "cell_type": "code",
   "execution_count": 6,
   "metadata": {},
   "outputs": [
    {
     "data": {
      "application/vnd.plotly.v1+json": {
       "config": {
        "plotlyServerURL": "https://plot.ly"
       },
       "data": [
        {
         "line": {
          "color": "black",
          "width": 2
         },
         "mode": "lines",
         "showlegend": false,
         "type": "scatter",
         "x": [
          0,
          1
         ],
         "y": [
          0,
          0
         ]
        },
        {
         "line": {
          "color": "black",
          "width": 2
         },
         "mode": "lines",
         "showlegend": false,
         "type": "scatter",
         "x": [
          0,
          1
         ],
         "y": [
          6632,
          6632
         ]
        },
        {
         "line": {
          "color": "black",
          "width": 2
         },
         "mode": "lines",
         "showlegend": false,
         "type": "scatter",
         "x": [
          0,
          1
         ],
         "y": [
          10230,
          10230
         ]
        },
        {
         "line": {
          "color": "black",
          "width": 2
         },
         "mode": "lines",
         "showlegend": false,
         "type": "scatter",
         "x": [
          0,
          1
         ],
         "y": [
          12553,
          12553
         ]
        },
        {
         "line": {
          "color": "black",
          "width": 2
         },
         "mode": "lines",
         "showlegend": false,
         "type": "scatter",
         "x": [
          0,
          1
         ],
         "y": [
          15306,
          15306
         ]
        },
        {
         "line": {
          "color": "black",
          "width": 2
         },
         "mode": "lines",
         "showlegend": false,
         "type": "scatter",
         "x": [
          0,
          1
         ],
         "y": [
          18448,
          18448
         ]
        },
        {
         "line": {
          "color": "black",
          "width": 2
         },
         "mode": "lines",
         "showlegend": false,
         "type": "scatter",
         "x": [
          0,
          1
         ],
         "y": [
          19246,
          19246
         ]
        },
        {
         "line": {
          "color": "black",
          "width": 2
         },
         "mode": "lines",
         "showlegend": false,
         "type": "scatter",
         "x": [
          0,
          1
         ],
         "y": [
          20497,
          20497
         ]
        },
        {
         "line": {
          "color": "black",
          "width": 2
         },
         "mode": "lines",
         "showlegend": false,
         "type": "scatter",
         "x": [
          0,
          1
         ],
         "y": [
          22282,
          22282
         ]
        },
        {
         "line": {
          "color": "black",
          "width": 2
         },
         "mode": "lines",
         "showlegend": false,
         "type": "scatter",
         "x": [
          0,
          1
         ],
         "y": [
          22677,
          22677
         ]
        },
        {
         "line": {
          "color": "black",
          "width": 2
         },
         "mode": "lines",
         "showlegend": false,
         "type": "scatter",
         "x": [
          0,
          1
         ],
         "y": [
          24475,
          24475
         ]
        },
        {
         "line": {
          "color": "black",
          "width": 2
         },
         "mode": "lines",
         "showlegend": false,
         "type": "scatter",
         "x": [
          0,
          1
         ],
         "y": [
          26376,
          26376
         ]
        },
        {
         "line": {
          "color": "black",
          "width": 2
         },
         "mode": "lines",
         "showlegend": false,
         "type": "scatter",
         "x": [
          0,
          1
         ],
         "y": [
          27319,
          27319
         ]
        },
        {
         "line": {
          "color": "black",
          "width": 2
         },
         "mode": "lines",
         "showlegend": false,
         "type": "scatter",
         "x": [
          0,
          1
         ],
         "y": [
          27584,
          27584
         ]
        },
        {
         "line": {
          "color": "black",
          "width": 2
         },
         "mode": "lines",
         "showlegend": false,
         "type": "scatter",
         "x": [
          0,
          1
         ],
         "y": [
          27825,
          27825
         ]
        },
        {
         "line": {
          "color": "black",
          "width": 2
         },
         "mode": "lines",
         "showlegend": false,
         "type": "scatter",
         "x": [
          0,
          1
         ],
         "y": [
          31414,
          31414
         ]
        }
       ],
       "layout": {
        "height": 1100,
        "plot_bgcolor": "white",
        "template": {
         "data": {
          "bar": [
           {
            "error_x": {
             "color": "#2a3f5f"
            },
            "error_y": {
             "color": "#2a3f5f"
            },
            "marker": {
             "line": {
              "color": "#E5ECF6",
              "width": 0.5
             },
             "pattern": {
              "fillmode": "overlay",
              "size": 10,
              "solidity": 0.2
             }
            },
            "type": "bar"
           }
          ],
          "barpolar": [
           {
            "marker": {
             "line": {
              "color": "#E5ECF6",
              "width": 0.5
             },
             "pattern": {
              "fillmode": "overlay",
              "size": 10,
              "solidity": 0.2
             }
            },
            "type": "barpolar"
           }
          ],
          "carpet": [
           {
            "aaxis": {
             "endlinecolor": "#2a3f5f",
             "gridcolor": "white",
             "linecolor": "white",
             "minorgridcolor": "white",
             "startlinecolor": "#2a3f5f"
            },
            "baxis": {
             "endlinecolor": "#2a3f5f",
             "gridcolor": "white",
             "linecolor": "white",
             "minorgridcolor": "white",
             "startlinecolor": "#2a3f5f"
            },
            "type": "carpet"
           }
          ],
          "choropleth": [
           {
            "colorbar": {
             "outlinewidth": 0,
             "ticks": ""
            },
            "type": "choropleth"
           }
          ],
          "contour": [
           {
            "colorbar": {
             "outlinewidth": 0,
             "ticks": ""
            },
            "colorscale": [
             [
              0,
              "#0d0887"
             ],
             [
              0.1111111111111111,
              "#46039f"
             ],
             [
              0.2222222222222222,
              "#7201a8"
             ],
             [
              0.3333333333333333,
              "#9c179e"
             ],
             [
              0.4444444444444444,
              "#bd3786"
             ],
             [
              0.5555555555555556,
              "#d8576b"
             ],
             [
              0.6666666666666666,
              "#ed7953"
             ],
             [
              0.7777777777777778,
              "#fb9f3a"
             ],
             [
              0.8888888888888888,
              "#fdca26"
             ],
             [
              1,
              "#f0f921"
             ]
            ],
            "type": "contour"
           }
          ],
          "contourcarpet": [
           {
            "colorbar": {
             "outlinewidth": 0,
             "ticks": ""
            },
            "type": "contourcarpet"
           }
          ],
          "heatmap": [
           {
            "colorbar": {
             "outlinewidth": 0,
             "ticks": ""
            },
            "colorscale": [
             [
              0,
              "#0d0887"
             ],
             [
              0.1111111111111111,
              "#46039f"
             ],
             [
              0.2222222222222222,
              "#7201a8"
             ],
             [
              0.3333333333333333,
              "#9c179e"
             ],
             [
              0.4444444444444444,
              "#bd3786"
             ],
             [
              0.5555555555555556,
              "#d8576b"
             ],
             [
              0.6666666666666666,
              "#ed7953"
             ],
             [
              0.7777777777777778,
              "#fb9f3a"
             ],
             [
              0.8888888888888888,
              "#fdca26"
             ],
             [
              1,
              "#f0f921"
             ]
            ],
            "type": "heatmap"
           }
          ],
          "heatmapgl": [
           {
            "colorbar": {
             "outlinewidth": 0,
             "ticks": ""
            },
            "colorscale": [
             [
              0,
              "#0d0887"
             ],
             [
              0.1111111111111111,
              "#46039f"
             ],
             [
              0.2222222222222222,
              "#7201a8"
             ],
             [
              0.3333333333333333,
              "#9c179e"
             ],
             [
              0.4444444444444444,
              "#bd3786"
             ],
             [
              0.5555555555555556,
              "#d8576b"
             ],
             [
              0.6666666666666666,
              "#ed7953"
             ],
             [
              0.7777777777777778,
              "#fb9f3a"
             ],
             [
              0.8888888888888888,
              "#fdca26"
             ],
             [
              1,
              "#f0f921"
             ]
            ],
            "type": "heatmapgl"
           }
          ],
          "histogram": [
           {
            "marker": {
             "pattern": {
              "fillmode": "overlay",
              "size": 10,
              "solidity": 0.2
             }
            },
            "type": "histogram"
           }
          ],
          "histogram2d": [
           {
            "colorbar": {
             "outlinewidth": 0,
             "ticks": ""
            },
            "colorscale": [
             [
              0,
              "#0d0887"
             ],
             [
              0.1111111111111111,
              "#46039f"
             ],
             [
              0.2222222222222222,
              "#7201a8"
             ],
             [
              0.3333333333333333,
              "#9c179e"
             ],
             [
              0.4444444444444444,
              "#bd3786"
             ],
             [
              0.5555555555555556,
              "#d8576b"
             ],
             [
              0.6666666666666666,
              "#ed7953"
             ],
             [
              0.7777777777777778,
              "#fb9f3a"
             ],
             [
              0.8888888888888888,
              "#fdca26"
             ],
             [
              1,
              "#f0f921"
             ]
            ],
            "type": "histogram2d"
           }
          ],
          "histogram2dcontour": [
           {
            "colorbar": {
             "outlinewidth": 0,
             "ticks": ""
            },
            "colorscale": [
             [
              0,
              "#0d0887"
             ],
             [
              0.1111111111111111,
              "#46039f"
             ],
             [
              0.2222222222222222,
              "#7201a8"
             ],
             [
              0.3333333333333333,
              "#9c179e"
             ],
             [
              0.4444444444444444,
              "#bd3786"
             ],
             [
              0.5555555555555556,
              "#d8576b"
             ],
             [
              0.6666666666666666,
              "#ed7953"
             ],
             [
              0.7777777777777778,
              "#fb9f3a"
             ],
             [
              0.8888888888888888,
              "#fdca26"
             ],
             [
              1,
              "#f0f921"
             ]
            ],
            "type": "histogram2dcontour"
           }
          ],
          "mesh3d": [
           {
            "colorbar": {
             "outlinewidth": 0,
             "ticks": ""
            },
            "type": "mesh3d"
           }
          ],
          "parcoords": [
           {
            "line": {
             "colorbar": {
              "outlinewidth": 0,
              "ticks": ""
             }
            },
            "type": "parcoords"
           }
          ],
          "pie": [
           {
            "automargin": true,
            "type": "pie"
           }
          ],
          "scatter": [
           {
            "fillpattern": {
             "fillmode": "overlay",
             "size": 10,
             "solidity": 0.2
            },
            "type": "scatter"
           }
          ],
          "scatter3d": [
           {
            "line": {
             "colorbar": {
              "outlinewidth": 0,
              "ticks": ""
             }
            },
            "marker": {
             "colorbar": {
              "outlinewidth": 0,
              "ticks": ""
             }
            },
            "type": "scatter3d"
           }
          ],
          "scattercarpet": [
           {
            "marker": {
             "colorbar": {
              "outlinewidth": 0,
              "ticks": ""
             }
            },
            "type": "scattercarpet"
           }
          ],
          "scattergeo": [
           {
            "marker": {
             "colorbar": {
              "outlinewidth": 0,
              "ticks": ""
             }
            },
            "type": "scattergeo"
           }
          ],
          "scattergl": [
           {
            "marker": {
             "colorbar": {
              "outlinewidth": 0,
              "ticks": ""
             }
            },
            "type": "scattergl"
           }
          ],
          "scattermapbox": [
           {
            "marker": {
             "colorbar": {
              "outlinewidth": 0,
              "ticks": ""
             }
            },
            "type": "scattermapbox"
           }
          ],
          "scatterpolar": [
           {
            "marker": {
             "colorbar": {
              "outlinewidth": 0,
              "ticks": ""
             }
            },
            "type": "scatterpolar"
           }
          ],
          "scatterpolargl": [
           {
            "marker": {
             "colorbar": {
              "outlinewidth": 0,
              "ticks": ""
             }
            },
            "type": "scatterpolargl"
           }
          ],
          "scatterternary": [
           {
            "marker": {
             "colorbar": {
              "outlinewidth": 0,
              "ticks": ""
             }
            },
            "type": "scatterternary"
           }
          ],
          "surface": [
           {
            "colorbar": {
             "outlinewidth": 0,
             "ticks": ""
            },
            "colorscale": [
             [
              0,
              "#0d0887"
             ],
             [
              0.1111111111111111,
              "#46039f"
             ],
             [
              0.2222222222222222,
              "#7201a8"
             ],
             [
              0.3333333333333333,
              "#9c179e"
             ],
             [
              0.4444444444444444,
              "#bd3786"
             ],
             [
              0.5555555555555556,
              "#d8576b"
             ],
             [
              0.6666666666666666,
              "#ed7953"
             ],
             [
              0.7777777777777778,
              "#fb9f3a"
             ],
             [
              0.8888888888888888,
              "#fdca26"
             ],
             [
              1,
              "#f0f921"
             ]
            ],
            "type": "surface"
           }
          ],
          "table": [
           {
            "cells": {
             "fill": {
              "color": "#EBF0F8"
             },
             "line": {
              "color": "white"
             }
            },
            "header": {
             "fill": {
              "color": "#C8D4E3"
             },
             "line": {
              "color": "white"
             }
            },
            "type": "table"
           }
          ]
         },
         "layout": {
          "annotationdefaults": {
           "arrowcolor": "#2a3f5f",
           "arrowhead": 0,
           "arrowwidth": 1
          },
          "autotypenumbers": "strict",
          "coloraxis": {
           "colorbar": {
            "outlinewidth": 0,
            "ticks": ""
           }
          },
          "colorscale": {
           "diverging": [
            [
             0,
             "#8e0152"
            ],
            [
             0.1,
             "#c51b7d"
            ],
            [
             0.2,
             "#de77ae"
            ],
            [
             0.3,
             "#f1b6da"
            ],
            [
             0.4,
             "#fde0ef"
            ],
            [
             0.5,
             "#f7f7f7"
            ],
            [
             0.6,
             "#e6f5d0"
            ],
            [
             0.7,
             "#b8e186"
            ],
            [
             0.8,
             "#7fbc41"
            ],
            [
             0.9,
             "#4d9221"
            ],
            [
             1,
             "#276419"
            ]
           ],
           "sequential": [
            [
             0,
             "#0d0887"
            ],
            [
             0.1111111111111111,
             "#46039f"
            ],
            [
             0.2222222222222222,
             "#7201a8"
            ],
            [
             0.3333333333333333,
             "#9c179e"
            ],
            [
             0.4444444444444444,
             "#bd3786"
            ],
            [
             0.5555555555555556,
             "#d8576b"
            ],
            [
             0.6666666666666666,
             "#ed7953"
            ],
            [
             0.7777777777777778,
             "#fb9f3a"
            ],
            [
             0.8888888888888888,
             "#fdca26"
            ],
            [
             1,
             "#f0f921"
            ]
           ],
           "sequentialminus": [
            [
             0,
             "#0d0887"
            ],
            [
             0.1111111111111111,
             "#46039f"
            ],
            [
             0.2222222222222222,
             "#7201a8"
            ],
            [
             0.3333333333333333,
             "#9c179e"
            ],
            [
             0.4444444444444444,
             "#bd3786"
            ],
            [
             0.5555555555555556,
             "#d8576b"
            ],
            [
             0.6666666666666666,
             "#ed7953"
            ],
            [
             0.7777777777777778,
             "#fb9f3a"
            ],
            [
             0.8888888888888888,
             "#fdca26"
            ],
            [
             1,
             "#f0f921"
            ]
           ]
          },
          "colorway": [
           "#636efa",
           "#EF553B",
           "#00cc96",
           "#ab63fa",
           "#FFA15A",
           "#19d3f3",
           "#FF6692",
           "#B6E880",
           "#FF97FF",
           "#FECB52"
          ],
          "font": {
           "color": "#2a3f5f"
          },
          "geo": {
           "bgcolor": "white",
           "lakecolor": "white",
           "landcolor": "#E5ECF6",
           "showlakes": true,
           "showland": true,
           "subunitcolor": "white"
          },
          "hoverlabel": {
           "align": "left"
          },
          "hovermode": "closest",
          "mapbox": {
           "style": "light"
          },
          "paper_bgcolor": "white",
          "plot_bgcolor": "#E5ECF6",
          "polar": {
           "angularaxis": {
            "gridcolor": "white",
            "linecolor": "white",
            "ticks": ""
           },
           "bgcolor": "#E5ECF6",
           "radialaxis": {
            "gridcolor": "white",
            "linecolor": "white",
            "ticks": ""
           }
          },
          "scene": {
           "xaxis": {
            "backgroundcolor": "#E5ECF6",
            "gridcolor": "white",
            "gridwidth": 2,
            "linecolor": "white",
            "showbackground": true,
            "ticks": "",
            "zerolinecolor": "white"
           },
           "yaxis": {
            "backgroundcolor": "#E5ECF6",
            "gridcolor": "white",
            "gridwidth": 2,
            "linecolor": "white",
            "showbackground": true,
            "ticks": "",
            "zerolinecolor": "white"
           },
           "zaxis": {
            "backgroundcolor": "#E5ECF6",
            "gridcolor": "white",
            "gridwidth": 2,
            "linecolor": "white",
            "showbackground": true,
            "ticks": "",
            "zerolinecolor": "white"
           }
          },
          "shapedefaults": {
           "line": {
            "color": "#2a3f5f"
           }
          },
          "ternary": {
           "aaxis": {
            "gridcolor": "white",
            "linecolor": "white",
            "ticks": ""
           },
           "baxis": {
            "gridcolor": "white",
            "linecolor": "white",
            "ticks": ""
           },
           "bgcolor": "#E5ECF6",
           "caxis": {
            "gridcolor": "white",
            "linecolor": "white",
            "ticks": ""
           }
          },
          "title": {
           "x": 0.05
          },
          "xaxis": {
           "automargin": true,
           "gridcolor": "white",
           "linecolor": "white",
           "ticks": "",
           "title": {
            "standoff": 15
           },
           "zerolinecolor": "white",
           "zerolinewidth": 2
          },
          "yaxis": {
           "automargin": true,
           "gridcolor": "white",
           "linecolor": "white",
           "ticks": "",
           "title": {
            "standoff": 15
           },
           "zerolinecolor": "white",
           "zerolinewidth": 2
          }
         }
        },
        "title": {
         "font": {
          "size": 20
         },
         "text": "Er Energy Level Diagram",
         "x": 0.5,
         "y": 0.95
        },
        "width": 1100,
        "xaxis": {
         "showgrid": false,
         "tickmode": "array",
         "tickvals": []
        },
        "yaxis": {
         "autorange": true,
         "showgrid": false,
         "tickfont": {
          "size": 13
         },
         "tickmode": "array",
         "ticktext": [
          "E0(4I_15_2): 0",
          "E1(4I_13_2): 6632",
          "E2(4I_11_2): 10230",
          "E3(4I_9_2): 12553",
          "E4(4F_9_2): 15306",
          "E5(4S_3_2): 18448",
          "E6(2H2_11_2): 19246",
          "E7(4F_7_2): 20497",
          "E8(4F_5_2): 22282",
          "E9(4F_3_2): 22677",
          "E10(2G1_9_2): 24475",
          "E11(4G_11_2): 26376",
          "E12(4G_9_2): 27319",
          "E13(2K_15_2): 27584",
          "E14(2G1_7_2): 27825",
          "E15(2P_3_2): 31414"
         ],
         "tickvals": [
          0,
          6632,
          10230,
          12553,
          15306,
          18448,
          19246,
          20497,
          22282,
          22677,
          24475,
          26376,
          27319,
          27584,
          27825,
          31414
         ],
         "title": {
          "font": {
           "size": 20
          },
          "text": "Energy (cm⁻¹)"
         },
         "type": "linear"
        }
       }
      }
     },
     "metadata": {},
     "output_type": "display_data"
    }
   ],
   "source": [
    "\n",
    "\n",
    "diagram = Er_EnergyLevelDiagram('Er',Er_energy)\n",
    "diagram.plot_diagram()"
   ]
  },
  {
   "cell_type": "markdown",
   "metadata": {},
   "source": [
    "# `2. def sorted_wavelength(energy_dict)`\n",
    "\n",
    "## Find sorted wavelength start from energy levels"
   ]
  },
  {
   "cell_type": "code",
   "execution_count": 7,
   "metadata": {},
   "outputs": [
    {
     "data": {
      "text/plain": [
       "{'E15(2P_3_2)E0(4I_15_2)': 318,\n",
       " 'E14(2G1_7_2)E0(4I_15_2)': 359,\n",
       " 'E13(2K_15_2)E0(4I_15_2)': 363,\n",
       " 'E12(4G_9_2)E0(4I_15_2)': 366,\n",
       " 'E11(4G_11_2)E0(4I_15_2)': 379,\n",
       " 'E15(2P_3_2)E1(4I_13_2)': 404,\n",
       " 'E10(2G1_9_2)E0(4I_15_2)': 409,\n",
       " 'E9(4F_3_2)E0(4I_15_2)': 441,\n",
       " 'E8(4F_5_2)E0(4I_15_2)': 449,\n",
       " 'E14(2G1_7_2)E1(4I_13_2)': 472,\n",
       " 'E15(2P_3_2)E2(4I_11_2)': 472,\n",
       " 'E13(2K_15_2)E1(4I_13_2)': 477,\n",
       " 'E12(4G_9_2)E1(4I_13_2)': 483,\n",
       " 'E7(4F_7_2)E0(4I_15_2)': 488,\n",
       " 'E11(4G_11_2)E1(4I_13_2)': 506,\n",
       " 'E6(2H2_11_2)E0(4I_15_2)': 520,\n",
       " 'E15(2P_3_2)E3(4I_9_2)': 530,\n",
       " 'E5(4S_3_2)E0(4I_15_2)': 542,\n",
       " 'E10(2G1_9_2)E1(4I_13_2)': 560,\n",
       " 'E14(2G1_7_2)E2(4I_11_2)': 568,\n",
       " 'E13(2K_15_2)E2(4I_11_2)': 576,\n",
       " 'E12(4G_9_2)E2(4I_11_2)': 585,\n",
       " 'E11(4G_11_2)E2(4I_11_2)': 619,\n",
       " 'E15(2P_3_2)E4(4F_9_2)': 621,\n",
       " 'E9(4F_3_2)E1(4I_13_2)': 623,\n",
       " 'E8(4F_5_2)E1(4I_13_2)': 639,\n",
       " 'E4(4F_9_2)E0(4I_15_2)': 653,\n",
       " 'E14(2G1_7_2)E3(4I_9_2)': 655,\n",
       " 'E13(2K_15_2)E3(4I_9_2)': 665,\n",
       " 'E12(4G_9_2)E3(4I_9_2)': 677,\n",
       " 'E10(2G1_9_2)E2(4I_11_2)': 702,\n",
       " 'E7(4F_7_2)E1(4I_13_2)': 721,\n",
       " 'E11(4G_11_2)E3(4I_9_2)': 723,\n",
       " 'E15(2P_3_2)E5(4S_3_2)': 771,\n",
       " 'E6(2H2_11_2)E1(4I_13_2)': 793,\n",
       " 'E3(4I_9_2)E0(4I_15_2)': 797,\n",
       " 'E14(2G1_7_2)E4(4F_9_2)': 799,\n",
       " 'E9(4F_3_2)E2(4I_11_2)': 803,\n",
       " 'E13(2K_15_2)E4(4F_9_2)': 814,\n",
       " 'E15(2P_3_2)E6(2H2_11_2)': 822,\n",
       " 'E8(4F_5_2)E2(4I_11_2)': 830,\n",
       " 'E12(4G_9_2)E4(4F_9_2)': 832,\n",
       " 'E10(2G1_9_2)E3(4I_9_2)': 839,\n",
       " 'E5(4S_3_2)E1(4I_13_2)': 846,\n",
       " 'E11(4G_11_2)E4(4F_9_2)': 903,\n",
       " 'E15(2P_3_2)E7(4F_7_2)': 916,\n",
       " 'E7(4F_7_2)E2(4I_11_2)': 974,\n",
       " 'E2(4I_11_2)E0(4I_15_2)': 978,\n",
       " 'E9(4F_3_2)E3(4I_9_2)': 988,\n",
       " 'E8(4F_5_2)E3(4I_9_2)': 1028,\n",
       " 'E14(2G1_7_2)E5(4S_3_2)': 1066,\n",
       " 'E10(2G1_9_2)E4(4F_9_2)': 1091,\n",
       " 'E13(2K_15_2)E5(4S_3_2)': 1095,\n",
       " 'E15(2P_3_2)E8(4F_5_2)': 1095,\n",
       " 'E6(2H2_11_2)E2(4I_11_2)': 1109,\n",
       " 'E12(4G_9_2)E5(4S_3_2)': 1127,\n",
       " 'E15(2P_3_2)E9(4F_3_2)': 1145,\n",
       " 'E4(4F_9_2)E1(4I_13_2)': 1153,\n",
       " 'E14(2G1_7_2)E6(2H2_11_2)': 1166,\n",
       " 'E13(2K_15_2)E6(2H2_11_2)': 1199,\n",
       " 'E5(4S_3_2)E2(4I_11_2)': 1217,\n",
       " 'E12(4G_9_2)E6(2H2_11_2)': 1239,\n",
       " 'E7(4F_7_2)E3(4I_9_2)': 1259,\n",
       " 'E11(4G_11_2)E5(4S_3_2)': 1261,\n",
       " 'E9(4F_3_2)E4(4F_9_2)': 1357,\n",
       " 'E14(2G1_7_2)E7(4F_7_2)': 1365,\n",
       " 'E11(4G_11_2)E6(2H2_11_2)': 1403,\n",
       " 'E13(2K_15_2)E7(4F_7_2)': 1411,\n",
       " 'E8(4F_5_2)E4(4F_9_2)': 1433,\n",
       " 'E15(2P_3_2)E10(2G1_9_2)': 1441,\n",
       " 'E12(4G_9_2)E7(4F_7_2)': 1466,\n",
       " 'E6(2H2_11_2)E3(4I_9_2)': 1494,\n",
       " 'E1(4I_13_2)E0(4I_15_2)': 1508,\n",
       " 'E10(2G1_9_2)E5(4S_3_2)': 1659,\n",
       " 'E3(4I_9_2)E1(4I_13_2)': 1689,\n",
       " 'E5(4S_3_2)E3(4I_9_2)': 1696,\n",
       " 'E11(4G_11_2)E7(4F_7_2)': 1701,\n",
       " 'E14(2G1_7_2)E8(4F_5_2)': 1804,\n",
       " 'E13(2K_15_2)E8(4F_5_2)': 1886,\n",
       " 'E10(2G1_9_2)E6(2H2_11_2)': 1912,\n",
       " 'E7(4F_7_2)E4(4F_9_2)': 1926,\n",
       " 'E14(2G1_7_2)E9(4F_3_2)': 1943,\n",
       " 'E4(4F_9_2)E2(4I_11_2)': 1970,\n",
       " 'E12(4G_9_2)E8(4F_5_2)': 1985,\n",
       " 'E15(2P_3_2)E11(4G_11_2)': 1985,\n",
       " 'E13(2K_15_2)E9(4F_3_2)': 2038,\n",
       " 'E12(4G_9_2)E9(4F_3_2)': 2154,\n",
       " 'E9(4F_3_2)E5(4S_3_2)': 2365,\n",
       " 'E15(2P_3_2)E12(4G_9_2)': 2442,\n",
       " 'E11(4G_11_2)E8(4F_5_2)': 2443,\n",
       " 'E10(2G1_9_2)E7(4F_7_2)': 2514,\n",
       " 'E6(2H2_11_2)E4(4F_9_2)': 2538,\n",
       " 'E8(4F_5_2)E5(4S_3_2)': 2608,\n",
       " 'E15(2P_3_2)E13(2K_15_2)': 2611,\n",
       " 'E11(4G_11_2)E9(4F_3_2)': 2703,\n",
       " 'E2(4I_11_2)E1(4I_13_2)': 2779,\n",
       " 'E15(2P_3_2)E14(2G1_7_2)': 2786,\n",
       " 'E9(4F_3_2)E6(2H2_11_2)': 2915,\n",
       " 'E14(2G1_7_2)E10(2G1_9_2)': 2985,\n",
       " 'E5(4S_3_2)E4(4F_9_2)': 3183,\n",
       " 'E13(2K_15_2)E10(2G1_9_2)': 3216,\n",
       " 'E8(4F_5_2)E6(2H2_11_2)': 3294,\n",
       " 'E12(4G_9_2)E10(2G1_9_2)': 3516,\n",
       " 'E4(4F_9_2)E3(4I_9_2)': 3632,\n",
       " 'E3(4I_9_2)E2(4I_11_2)': 4305,\n",
       " 'E10(2G1_9_2)E8(4F_5_2)': 4560,\n",
       " 'E9(4F_3_2)E7(4F_7_2)': 4587,\n",
       " 'E7(4F_7_2)E5(4S_3_2)': 4880,\n",
       " 'E11(4G_11_2)E10(2G1_9_2)': 5260,\n",
       " 'E10(2G1_9_2)E9(4F_3_2)': 5562,\n",
       " 'E8(4F_5_2)E7(4F_7_2)': 5602,\n",
       " 'E14(2G1_7_2)E11(4G_11_2)': 6901,\n",
       " 'E7(4F_7_2)E6(2H2_11_2)': 7994,\n",
       " 'E13(2K_15_2)E11(4G_11_2)': 8278,\n",
       " 'E12(4G_9_2)E11(4G_11_2)': 10604,\n",
       " 'E6(2H2_11_2)E5(4S_3_2)': 12531,\n",
       " 'E14(2G1_7_2)E12(4G_9_2)': 19763,\n",
       " 'E9(4F_3_2)E8(4F_5_2)': 25316,\n",
       " 'E13(2K_15_2)E12(4G_9_2)': 37736,\n",
       " 'E14(2G1_7_2)E13(2K_15_2)': 41494}"
      ]
     },
     "execution_count": 7,
     "metadata": {},
     "output_type": "execute_result"
    }
   ],
   "source": [
    "sorted_Er_wavelength = sorted_wavelength(Er_energy)\n",
    "sorted_Er_wavelength"
   ]
  },
  {
   "cell_type": "markdown",
   "metadata": {},
   "source": [
    "# `3. def find_transition(wavelength):`\n",
    "\n",
    "## Find corresponding transitions based on the selected wavelength ranges\n",
    "\n"
   ]
  },
  {
   "cell_type": "code",
   "execution_count": 8,
   "metadata": {},
   "outputs": [
    {
     "name": "stdout",
     "output_type": "stream",
     "text": [
      "\n",
      "For green (500.0 nm to 600.0 nm):\n",
      "Number of selected transitions: 8\n",
      "E11(4G_11_2)E1(4I_13_2): 506 nm\n",
      "E6(2H2_11_2)E0(4I_15_2): 520 nm\n",
      "E15(2P_3_2)E3(4I_9_2): 530 nm\n",
      "E5(4S_3_2)E0(4I_15_2): 542 nm\n",
      "E10(2G1_9_2)E1(4I_13_2): 560 nm\n",
      "E14(2G1_7_2)E2(4I_11_2): 568 nm\n",
      "E13(2K_15_2)E2(4I_11_2): 576 nm\n",
      "E12(4G_9_2)E2(4I_11_2): 585 nm\n",
      "\n",
      "For red (618.0 nm to 750.0 nm):\n",
      "Number of selected transitions: 11\n",
      "E11(4G_11_2)E2(4I_11_2): 619 nm\n",
      "E15(2P_3_2)E4(4F_9_2): 621 nm\n",
      "E9(4F_3_2)E1(4I_13_2): 623 nm\n",
      "E8(4F_5_2)E1(4I_13_2): 639 nm\n",
      "E4(4F_9_2)E0(4I_15_2): 653 nm\n",
      "E14(2G1_7_2)E3(4I_9_2): 655 nm\n",
      "E13(2K_15_2)E3(4I_9_2): 665 nm\n",
      "E12(4G_9_2)E3(4I_9_2): 677 nm\n",
      "E10(2G1_9_2)E2(4I_11_2): 702 nm\n",
      "E7(4F_7_2)E1(4I_13_2): 721 nm\n",
      "E11(4G_11_2)E3(4I_9_2): 723 nm\n"
     ]
    },
    {
     "data": {
      "text/plain": [
       "{'green': {'E11(4G_11_2)E1(4I_13_2)': 506,\n",
       "  'E6(2H2_11_2)E0(4I_15_2)': 520,\n",
       "  'E15(2P_3_2)E3(4I_9_2)': 530,\n",
       "  'E5(4S_3_2)E0(4I_15_2)': 542,\n",
       "  'E10(2G1_9_2)E1(4I_13_2)': 560,\n",
       "  'E14(2G1_7_2)E2(4I_11_2)': 568,\n",
       "  'E13(2K_15_2)E2(4I_11_2)': 576,\n",
       "  'E12(4G_9_2)E2(4I_11_2)': 585},\n",
       " 'red': {'E11(4G_11_2)E2(4I_11_2)': 619,\n",
       "  'E15(2P_3_2)E4(4F_9_2)': 621,\n",
       "  'E9(4F_3_2)E1(4I_13_2)': 623,\n",
       "  'E8(4F_5_2)E1(4I_13_2)': 639,\n",
       "  'E4(4F_9_2)E0(4I_15_2)': 653,\n",
       "  'E14(2G1_7_2)E3(4I_9_2)': 655,\n",
       "  'E13(2K_15_2)E3(4I_9_2)': 665,\n",
       "  'E12(4G_9_2)E3(4I_9_2)': 677,\n",
       "  'E10(2G1_9_2)E2(4I_11_2)': 702,\n",
       "  'E7(4F_7_2)E1(4I_13_2)': 721,\n",
       "  'E11(4G_11_2)E3(4I_9_2)': 723}}"
      ]
     },
     "execution_count": 8,
     "metadata": {},
     "output_type": "execute_result"
    }
   ],
   "source": [
    "find_Er_ED_transition = find_ED_transition(Er_energy)\n",
    "find_Er_ED_transition"
   ]
  },
  {
   "cell_type": "code",
   "execution_count": 9,
   "metadata": {},
   "outputs": [
    {
     "data": {
      "text/plain": [
       "[[('E0(4I_15_2)', 0), ('E1(4I_13_2)', 6632)],\n",
       " [('E1(4I_13_2)', 6632), ('E2(4I_11_2)', 10230)],\n",
       " [('E2(4I_11_2)', 10230), ('E3(4I_9_2)', 12553)],\n",
       " [('E4(4F_9_2)', 15306), ('E7(4F_7_2)', 20497)],\n",
       " [('E7(4F_7_2)', 20497), ('E8(4F_5_2)', 22282)],\n",
       " [('E8(4F_5_2)', 22282), ('E9(4F_3_2)', 22677)],\n",
       " [('E10(2G1_9_2)', 24475), ('E14(2G1_7_2)', 27825)],\n",
       " [('E11(4G_11_2)', 26376), ('E12(4G_9_2)', 27319)]]"
      ]
     },
     "execution_count": 9,
     "metadata": {},
     "output_type": "execute_result"
    }
   ],
   "source": [
    "find_Er_MD_transition = find_MD_transition(Er_energy)\n",
    "find_Er_MD_transition"
   ]
  },
  {
   "cell_type": "markdown",
   "metadata": {},
   "source": [
    "# `4. class EnergyLevelDiagramArrow`\n",
    "\n",
    "## add the selected transitions to energy level diagram"
   ]
  },
  {
   "cell_type": "code",
   "execution_count": 10,
   "metadata": {},
   "outputs": [
    {
     "data": {
      "application/vnd.plotly.v1+json": {
       "config": {
        "plotlyServerURL": "https://plot.ly"
       },
       "data": [
        {
         "line": {
          "color": "black",
          "width": 2
         },
         "mode": "lines",
         "showlegend": false,
         "type": "scatter",
         "x": [
          0,
          1
         ],
         "y": [
          0,
          0
         ]
        },
        {
         "line": {
          "color": "black",
          "width": 2
         },
         "mode": "lines",
         "showlegend": false,
         "type": "scatter",
         "x": [
          0,
          1
         ],
         "y": [
          6632,
          6632
         ]
        },
        {
         "line": {
          "color": "black",
          "width": 2
         },
         "mode": "lines",
         "showlegend": false,
         "type": "scatter",
         "x": [
          0,
          1
         ],
         "y": [
          10230,
          10230
         ]
        },
        {
         "line": {
          "color": "black",
          "width": 2
         },
         "mode": "lines",
         "showlegend": false,
         "type": "scatter",
         "x": [
          0,
          1
         ],
         "y": [
          12553,
          12553
         ]
        },
        {
         "line": {
          "color": "black",
          "width": 2
         },
         "mode": "lines",
         "showlegend": false,
         "type": "scatter",
         "x": [
          0,
          1
         ],
         "y": [
          15306,
          15306
         ]
        },
        {
         "line": {
          "color": "black",
          "width": 2
         },
         "mode": "lines",
         "showlegend": false,
         "type": "scatter",
         "x": [
          0,
          1
         ],
         "y": [
          18448,
          18448
         ]
        },
        {
         "line": {
          "color": "black",
          "width": 2
         },
         "mode": "lines",
         "showlegend": false,
         "type": "scatter",
         "x": [
          0,
          1
         ],
         "y": [
          19246,
          19246
         ]
        },
        {
         "line": {
          "color": "black",
          "width": 2
         },
         "mode": "lines",
         "showlegend": false,
         "type": "scatter",
         "x": [
          0,
          1
         ],
         "y": [
          20497,
          20497
         ]
        },
        {
         "line": {
          "color": "black",
          "width": 2
         },
         "mode": "lines",
         "showlegend": false,
         "type": "scatter",
         "x": [
          0,
          1
         ],
         "y": [
          22282,
          22282
         ]
        },
        {
         "line": {
          "color": "black",
          "width": 2
         },
         "mode": "lines",
         "showlegend": false,
         "type": "scatter",
         "x": [
          0,
          1
         ],
         "y": [
          22677,
          22677
         ]
        },
        {
         "line": {
          "color": "black",
          "width": 2
         },
         "mode": "lines",
         "showlegend": false,
         "type": "scatter",
         "x": [
          0,
          1
         ],
         "y": [
          24475,
          24475
         ]
        },
        {
         "line": {
          "color": "black",
          "width": 2
         },
         "mode": "lines",
         "showlegend": false,
         "type": "scatter",
         "x": [
          0,
          1
         ],
         "y": [
          26376,
          26376
         ]
        },
        {
         "line": {
          "color": "black",
          "width": 2
         },
         "mode": "lines",
         "showlegend": false,
         "type": "scatter",
         "x": [
          0,
          1
         ],
         "y": [
          27319,
          27319
         ]
        },
        {
         "line": {
          "color": "black",
          "width": 2
         },
         "mode": "lines",
         "showlegend": false,
         "type": "scatter",
         "x": [
          0,
          1
         ],
         "y": [
          27584,
          27584
         ]
        },
        {
         "line": {
          "color": "black",
          "width": 2
         },
         "mode": "lines",
         "showlegend": false,
         "type": "scatter",
         "x": [
          0,
          1
         ],
         "y": [
          27825,
          27825
         ]
        },
        {
         "line": {
          "color": "black",
          "width": 2
         },
         "mode": "lines",
         "showlegend": false,
         "type": "scatter",
         "x": [
          0,
          1
         ],
         "y": [
          31414,
          31414
         ]
        },
        {
         "line": {
          "color": "green",
          "width": 2
         },
         "mode": "lines",
         "name": "Green emission (Selected ED)",
         "type": "scatter",
         "x": [
          null
         ],
         "y": [
          null
         ]
        },
        {
         "line": {
          "color": "red",
          "width": 2
         },
         "mode": "lines",
         "name": "Red emission (Selected ED)",
         "type": "scatter",
         "x": [
          null
         ],
         "y": [
          null
         ]
        },
        {
         "line": {
          "color": "orange",
          "width": 2
         },
         "mode": "lines",
         "name": "MPR",
         "type": "scatter",
         "x": [
          null
         ],
         "y": [
          null
         ]
        },
        {
         "line": {
          "color": "black",
          "width": 2
         },
         "mode": "lines",
         "name": "MD",
         "type": "scatter",
         "x": [
          null
         ],
         "y": [
          null
         ]
        }
       ],
       "layout": {
        "annotations": [
         {
          "arrowcolor": "orange",
          "arrowhead": 3,
          "arrowsize": 1,
          "arrowwidth": 2,
          "ax": 0.05,
          "axref": "x",
          "ay": 6632,
          "ayref": "y",
          "font": {
           "color": "orange",
           "size": 10
          },
          "showarrow": true,
          "text": "",
          "x": 0.05,
          "xref": "x",
          "y": 0,
          "yref": "y"
         },
         {
          "arrowcolor": "orange",
          "arrowhead": 3,
          "arrowsize": 1,
          "arrowwidth": 2,
          "ax": 0.05,
          "axref": "x",
          "ay": 10230,
          "ayref": "y",
          "font": {
           "color": "orange",
           "size": 10
          },
          "showarrow": true,
          "text": "",
          "x": 0.05,
          "xref": "x",
          "y": 6632,
          "yref": "y"
         },
         {
          "arrowcolor": "orange",
          "arrowhead": 3,
          "arrowsize": 1,
          "arrowwidth": 2,
          "ax": 0.05,
          "axref": "x",
          "ay": 12553,
          "ayref": "y",
          "font": {
           "color": "orange",
           "size": 10
          },
          "showarrow": true,
          "text": "",
          "x": 0.05,
          "xref": "x",
          "y": 10230,
          "yref": "y"
         },
         {
          "arrowcolor": "orange",
          "arrowhead": 3,
          "arrowsize": 1,
          "arrowwidth": 2,
          "ax": 0.05,
          "axref": "x",
          "ay": 15306,
          "ayref": "y",
          "font": {
           "color": "orange",
           "size": 10
          },
          "showarrow": true,
          "text": "",
          "x": 0.05,
          "xref": "x",
          "y": 12553,
          "yref": "y"
         },
         {
          "arrowcolor": "orange",
          "arrowhead": 3,
          "arrowsize": 1,
          "arrowwidth": 2,
          "ax": 0.05,
          "axref": "x",
          "ay": 18448,
          "ayref": "y",
          "font": {
           "color": "orange",
           "size": 10
          },
          "showarrow": true,
          "text": "",
          "x": 0.05,
          "xref": "x",
          "y": 15306,
          "yref": "y"
         },
         {
          "arrowcolor": "orange",
          "arrowhead": 3,
          "arrowsize": 1,
          "arrowwidth": 2,
          "ax": 0.05,
          "axref": "x",
          "ay": 19246,
          "ayref": "y",
          "font": {
           "color": "orange",
           "size": 10
          },
          "showarrow": true,
          "text": "",
          "x": 0.05,
          "xref": "x",
          "y": 18448,
          "yref": "y"
         },
         {
          "arrowcolor": "orange",
          "arrowhead": 3,
          "arrowsize": 1,
          "arrowwidth": 2,
          "ax": 0.05,
          "axref": "x",
          "ay": 20497,
          "ayref": "y",
          "font": {
           "color": "orange",
           "size": 10
          },
          "showarrow": true,
          "text": "",
          "x": 0.05,
          "xref": "x",
          "y": 19246,
          "yref": "y"
         },
         {
          "arrowcolor": "orange",
          "arrowhead": 3,
          "arrowsize": 1,
          "arrowwidth": 2,
          "ax": 0.05,
          "axref": "x",
          "ay": 22282,
          "ayref": "y",
          "font": {
           "color": "orange",
           "size": 10
          },
          "showarrow": true,
          "text": "",
          "x": 0.05,
          "xref": "x",
          "y": 20497,
          "yref": "y"
         },
         {
          "arrowcolor": "orange",
          "arrowhead": 3,
          "arrowsize": 1,
          "arrowwidth": 2,
          "ax": 0.05,
          "axref": "x",
          "ay": 22677,
          "ayref": "y",
          "font": {
           "color": "orange",
           "size": 10
          },
          "showarrow": true,
          "text": "",
          "x": 0.05,
          "xref": "x",
          "y": 22282,
          "yref": "y"
         },
         {
          "arrowcolor": "orange",
          "arrowhead": 3,
          "arrowsize": 1,
          "arrowwidth": 2,
          "ax": 0.05,
          "axref": "x",
          "ay": 24475,
          "ayref": "y",
          "font": {
           "color": "orange",
           "size": 10
          },
          "showarrow": true,
          "text": "",
          "x": 0.05,
          "xref": "x",
          "y": 22677,
          "yref": "y"
         },
         {
          "arrowcolor": "orange",
          "arrowhead": 3,
          "arrowsize": 1,
          "arrowwidth": 2,
          "ax": 0.05,
          "axref": "x",
          "ay": 26376,
          "ayref": "y",
          "font": {
           "color": "orange",
           "size": 10
          },
          "showarrow": true,
          "text": "",
          "x": 0.05,
          "xref": "x",
          "y": 24475,
          "yref": "y"
         },
         {
          "arrowcolor": "orange",
          "arrowhead": 3,
          "arrowsize": 1,
          "arrowwidth": 2,
          "ax": 0.05,
          "axref": "x",
          "ay": 27319,
          "ayref": "y",
          "font": {
           "color": "orange",
           "size": 10
          },
          "showarrow": true,
          "text": "",
          "x": 0.05,
          "xref": "x",
          "y": 26376,
          "yref": "y"
         },
         {
          "arrowcolor": "orange",
          "arrowhead": 3,
          "arrowsize": 1,
          "arrowwidth": 2,
          "ax": 0.05,
          "axref": "x",
          "ay": 27584,
          "ayref": "y",
          "font": {
           "color": "orange",
           "size": 10
          },
          "showarrow": true,
          "text": "",
          "x": 0.05,
          "xref": "x",
          "y": 27319,
          "yref": "y"
         },
         {
          "arrowcolor": "orange",
          "arrowhead": 3,
          "arrowsize": 1,
          "arrowwidth": 2,
          "ax": 0.05,
          "axref": "x",
          "ay": 27825,
          "ayref": "y",
          "font": {
           "color": "orange",
           "size": 10
          },
          "showarrow": true,
          "text": "",
          "x": 0.05,
          "xref": "x",
          "y": 27584,
          "yref": "y"
         },
         {
          "arrowcolor": "orange",
          "arrowhead": 3,
          "arrowsize": 1,
          "arrowwidth": 2,
          "ax": 0.05,
          "axref": "x",
          "ay": 31414,
          "ayref": "y",
          "font": {
           "color": "orange",
           "size": 10
          },
          "showarrow": true,
          "text": "",
          "x": 0.05,
          "xref": "x",
          "y": 27825,
          "yref": "y"
         },
         {
          "arrowcolor": "black",
          "arrowhead": 3,
          "arrowsize": 1,
          "arrowwidth": 2,
          "ax": 0.1,
          "axref": "x",
          "ay": 6632,
          "ayref": "y",
          "font": {
           "color": "black",
           "size": 10
          },
          "showarrow": true,
          "text": "",
          "x": 0.1,
          "xref": "x",
          "y": 0,
          "yref": "y"
         },
         {
          "arrowcolor": "black",
          "arrowhead": 3,
          "arrowsize": 1,
          "arrowwidth": 2,
          "ax": 0.13,
          "axref": "x",
          "ay": 10230,
          "ayref": "y",
          "font": {
           "color": "black",
           "size": 10
          },
          "showarrow": true,
          "text": "",
          "x": 0.13,
          "xref": "x",
          "y": 6632,
          "yref": "y"
         },
         {
          "arrowcolor": "black",
          "arrowhead": 3,
          "arrowsize": 1,
          "arrowwidth": 2,
          "ax": 0.16,
          "axref": "x",
          "ay": 12553,
          "ayref": "y",
          "font": {
           "color": "black",
           "size": 10
          },
          "showarrow": true,
          "text": "",
          "x": 0.16,
          "xref": "x",
          "y": 10230,
          "yref": "y"
         },
         {
          "arrowcolor": "black",
          "arrowhead": 3,
          "arrowsize": 1,
          "arrowwidth": 2,
          "ax": 0.19,
          "axref": "x",
          "ay": 20497,
          "ayref": "y",
          "font": {
           "color": "black",
           "size": 10
          },
          "showarrow": true,
          "text": "",
          "x": 0.19,
          "xref": "x",
          "y": 15306,
          "yref": "y"
         },
         {
          "arrowcolor": "black",
          "arrowhead": 3,
          "arrowsize": 1,
          "arrowwidth": 2,
          "ax": 0.22,
          "axref": "x",
          "ay": 22282,
          "ayref": "y",
          "font": {
           "color": "black",
           "size": 10
          },
          "showarrow": true,
          "text": "",
          "x": 0.22,
          "xref": "x",
          "y": 20497,
          "yref": "y"
         },
         {
          "arrowcolor": "black",
          "arrowhead": 3,
          "arrowsize": 1,
          "arrowwidth": 2,
          "ax": 0.25,
          "axref": "x",
          "ay": 22677,
          "ayref": "y",
          "font": {
           "color": "black",
           "size": 10
          },
          "showarrow": true,
          "text": "",
          "x": 0.25,
          "xref": "x",
          "y": 22282,
          "yref": "y"
         },
         {
          "arrowcolor": "black",
          "arrowhead": 3,
          "arrowsize": 1,
          "arrowwidth": 2,
          "ax": 0.28,
          "axref": "x",
          "ay": 27825,
          "ayref": "y",
          "font": {
           "color": "black",
           "size": 10
          },
          "showarrow": true,
          "text": "",
          "x": 0.28,
          "xref": "x",
          "y": 24475,
          "yref": "y"
         },
         {
          "arrowcolor": "black",
          "arrowhead": 3,
          "arrowsize": 1,
          "arrowwidth": 2,
          "ax": 0.31,
          "axref": "x",
          "ay": 27319,
          "ayref": "y",
          "font": {
           "color": "black",
           "size": 10
          },
          "showarrow": true,
          "text": "",
          "x": 0.31,
          "xref": "x",
          "y": 26376,
          "yref": "y"
         },
         {
          "arrowcolor": "green",
          "arrowhead": 3,
          "arrowsize": 1,
          "arrowwidth": 2,
          "ax": 0.4,
          "axref": "x",
          "ay": 26726,
          "ayref": "y",
          "font": {
           "color": "black",
           "size": 10
          },
          "showarrow": true,
          "text": "506",
          "x": 0.4,
          "xref": "x",
          "y": 6632,
          "yref": "y"
         },
         {
          "arrowcolor": "green",
          "arrowhead": 3,
          "arrowsize": 1,
          "arrowwidth": 2,
          "ax": 0.43000000000000005,
          "axref": "x",
          "ay": 19596,
          "ayref": "y",
          "font": {
           "color": "black",
           "size": 10
          },
          "showarrow": true,
          "text": "520",
          "x": 0.43000000000000005,
          "xref": "x",
          "y": 0,
          "yref": "y"
         },
         {
          "arrowcolor": "green",
          "arrowhead": 3,
          "arrowsize": 1,
          "arrowwidth": 2,
          "ax": 0.46,
          "axref": "x",
          "ay": 31764,
          "ayref": "y",
          "font": {
           "color": "black",
           "size": 10
          },
          "showarrow": true,
          "text": "530",
          "x": 0.46,
          "xref": "x",
          "y": 12553,
          "yref": "y"
         },
         {
          "arrowcolor": "green",
          "arrowhead": 3,
          "arrowsize": 1,
          "arrowwidth": 2,
          "ax": 0.49,
          "axref": "x",
          "ay": 18798,
          "ayref": "y",
          "font": {
           "color": "black",
           "size": 10
          },
          "showarrow": true,
          "text": "542",
          "x": 0.49,
          "xref": "x",
          "y": 0,
          "yref": "y"
         },
         {
          "arrowcolor": "green",
          "arrowhead": 3,
          "arrowsize": 1,
          "arrowwidth": 2,
          "ax": 0.52,
          "axref": "x",
          "ay": 24825,
          "ayref": "y",
          "font": {
           "color": "black",
           "size": 10
          },
          "showarrow": true,
          "text": "560",
          "x": 0.52,
          "xref": "x",
          "y": 6632,
          "yref": "y"
         },
         {
          "arrowcolor": "green",
          "arrowhead": 3,
          "arrowsize": 1,
          "arrowwidth": 2,
          "ax": 0.55,
          "axref": "x",
          "ay": 28175,
          "ayref": "y",
          "font": {
           "color": "black",
           "size": 10
          },
          "showarrow": true,
          "text": "568",
          "x": 0.55,
          "xref": "x",
          "y": 10230,
          "yref": "y"
         },
         {
          "arrowcolor": "green",
          "arrowhead": 3,
          "arrowsize": 1,
          "arrowwidth": 2,
          "ax": 0.5800000000000001,
          "axref": "x",
          "ay": 27934,
          "ayref": "y",
          "font": {
           "color": "black",
           "size": 10
          },
          "showarrow": true,
          "text": "576",
          "x": 0.5800000000000001,
          "xref": "x",
          "y": 10230,
          "yref": "y"
         },
         {
          "arrowcolor": "green",
          "arrowhead": 3,
          "arrowsize": 1,
          "arrowwidth": 2,
          "ax": 0.61,
          "axref": "x",
          "ay": 27669,
          "ayref": "y",
          "font": {
           "color": "black",
           "size": 10
          },
          "showarrow": true,
          "text": "585",
          "x": 0.61,
          "xref": "x",
          "y": 10230,
          "yref": "y"
         },
         {
          "arrowcolor": "red",
          "arrowhead": 3,
          "arrowsize": 1,
          "arrowwidth": 2,
          "ax": 0.64,
          "axref": "x",
          "ay": 26726,
          "ayref": "y",
          "font": {
           "color": "black",
           "size": 10
          },
          "showarrow": true,
          "text": "619",
          "x": 0.64,
          "xref": "x",
          "y": 10230,
          "yref": "y"
         },
         {
          "arrowcolor": "red",
          "arrowhead": 3,
          "arrowsize": 1,
          "arrowwidth": 2,
          "ax": 0.67,
          "axref": "x",
          "ay": 31764,
          "ayref": "y",
          "font": {
           "color": "black",
           "size": 10
          },
          "showarrow": true,
          "text": "621",
          "x": 0.67,
          "xref": "x",
          "y": 15306,
          "yref": "y"
         },
         {
          "arrowcolor": "red",
          "arrowhead": 3,
          "arrowsize": 1,
          "arrowwidth": 2,
          "ax": 0.7000000000000001,
          "axref": "x",
          "ay": 23027,
          "ayref": "y",
          "font": {
           "color": "black",
           "size": 10
          },
          "showarrow": true,
          "text": "623",
          "x": 0.7000000000000001,
          "xref": "x",
          "y": 6632,
          "yref": "y"
         },
         {
          "arrowcolor": "red",
          "arrowhead": 3,
          "arrowsize": 1,
          "arrowwidth": 2,
          "ax": 0.7300000000000001,
          "axref": "x",
          "ay": 22632,
          "ayref": "y",
          "font": {
           "color": "black",
           "size": 10
          },
          "showarrow": true,
          "text": "639",
          "x": 0.7300000000000001,
          "xref": "x",
          "y": 6632,
          "yref": "y"
         },
         {
          "arrowcolor": "red",
          "arrowhead": 3,
          "arrowsize": 1,
          "arrowwidth": 2,
          "ax": 0.7600000000000001,
          "axref": "x",
          "ay": 15656,
          "ayref": "y",
          "font": {
           "color": "black",
           "size": 10
          },
          "showarrow": true,
          "text": "653",
          "x": 0.7600000000000001,
          "xref": "x",
          "y": 0,
          "yref": "y"
         },
         {
          "arrowcolor": "red",
          "arrowhead": 3,
          "arrowsize": 1,
          "arrowwidth": 2,
          "ax": 0.7900000000000001,
          "axref": "x",
          "ay": 28175,
          "ayref": "y",
          "font": {
           "color": "black",
           "size": 10
          },
          "showarrow": true,
          "text": "655",
          "x": 0.7900000000000001,
          "xref": "x",
          "y": 12553,
          "yref": "y"
         },
         {
          "arrowcolor": "red",
          "arrowhead": 3,
          "arrowsize": 1,
          "arrowwidth": 2,
          "ax": 0.8200000000000002,
          "axref": "x",
          "ay": 27934,
          "ayref": "y",
          "font": {
           "color": "black",
           "size": 10
          },
          "showarrow": true,
          "text": "665",
          "x": 0.8200000000000002,
          "xref": "x",
          "y": 12553,
          "yref": "y"
         },
         {
          "arrowcolor": "red",
          "arrowhead": 3,
          "arrowsize": 1,
          "arrowwidth": 2,
          "ax": 0.8500000000000002,
          "axref": "x",
          "ay": 27669,
          "ayref": "y",
          "font": {
           "color": "black",
           "size": 10
          },
          "showarrow": true,
          "text": "677",
          "x": 0.8500000000000002,
          "xref": "x",
          "y": 12553,
          "yref": "y"
         },
         {
          "arrowcolor": "red",
          "arrowhead": 3,
          "arrowsize": 1,
          "arrowwidth": 2,
          "ax": 0.8800000000000002,
          "axref": "x",
          "ay": 24825,
          "ayref": "y",
          "font": {
           "color": "black",
           "size": 10
          },
          "showarrow": true,
          "text": "702",
          "x": 0.8800000000000002,
          "xref": "x",
          "y": 10230,
          "yref": "y"
         },
         {
          "arrowcolor": "red",
          "arrowhead": 3,
          "arrowsize": 1,
          "arrowwidth": 2,
          "ax": 0.9100000000000003,
          "axref": "x",
          "ay": 20847,
          "ayref": "y",
          "font": {
           "color": "black",
           "size": 10
          },
          "showarrow": true,
          "text": "721",
          "x": 0.9100000000000003,
          "xref": "x",
          "y": 6632,
          "yref": "y"
         },
         {
          "arrowcolor": "red",
          "arrowhead": 3,
          "arrowsize": 1,
          "arrowwidth": 2,
          "ax": 0.9400000000000003,
          "axref": "x",
          "ay": 26726,
          "ayref": "y",
          "font": {
           "color": "black",
           "size": 10
          },
          "showarrow": true,
          "text": "723",
          "x": 0.9400000000000003,
          "xref": "x",
          "y": 12553,
          "yref": "y"
         }
        ],
        "height": 1100,
        "plot_bgcolor": "white",
        "showlegend": true,
        "template": {
         "data": {
          "bar": [
           {
            "error_x": {
             "color": "#2a3f5f"
            },
            "error_y": {
             "color": "#2a3f5f"
            },
            "marker": {
             "line": {
              "color": "#E5ECF6",
              "width": 0.5
             },
             "pattern": {
              "fillmode": "overlay",
              "size": 10,
              "solidity": 0.2
             }
            },
            "type": "bar"
           }
          ],
          "barpolar": [
           {
            "marker": {
             "line": {
              "color": "#E5ECF6",
              "width": 0.5
             },
             "pattern": {
              "fillmode": "overlay",
              "size": 10,
              "solidity": 0.2
             }
            },
            "type": "barpolar"
           }
          ],
          "carpet": [
           {
            "aaxis": {
             "endlinecolor": "#2a3f5f",
             "gridcolor": "white",
             "linecolor": "white",
             "minorgridcolor": "white",
             "startlinecolor": "#2a3f5f"
            },
            "baxis": {
             "endlinecolor": "#2a3f5f",
             "gridcolor": "white",
             "linecolor": "white",
             "minorgridcolor": "white",
             "startlinecolor": "#2a3f5f"
            },
            "type": "carpet"
           }
          ],
          "choropleth": [
           {
            "colorbar": {
             "outlinewidth": 0,
             "ticks": ""
            },
            "type": "choropleth"
           }
          ],
          "contour": [
           {
            "colorbar": {
             "outlinewidth": 0,
             "ticks": ""
            },
            "colorscale": [
             [
              0,
              "#0d0887"
             ],
             [
              0.1111111111111111,
              "#46039f"
             ],
             [
              0.2222222222222222,
              "#7201a8"
             ],
             [
              0.3333333333333333,
              "#9c179e"
             ],
             [
              0.4444444444444444,
              "#bd3786"
             ],
             [
              0.5555555555555556,
              "#d8576b"
             ],
             [
              0.6666666666666666,
              "#ed7953"
             ],
             [
              0.7777777777777778,
              "#fb9f3a"
             ],
             [
              0.8888888888888888,
              "#fdca26"
             ],
             [
              1,
              "#f0f921"
             ]
            ],
            "type": "contour"
           }
          ],
          "contourcarpet": [
           {
            "colorbar": {
             "outlinewidth": 0,
             "ticks": ""
            },
            "type": "contourcarpet"
           }
          ],
          "heatmap": [
           {
            "colorbar": {
             "outlinewidth": 0,
             "ticks": ""
            },
            "colorscale": [
             [
              0,
              "#0d0887"
             ],
             [
              0.1111111111111111,
              "#46039f"
             ],
             [
              0.2222222222222222,
              "#7201a8"
             ],
             [
              0.3333333333333333,
              "#9c179e"
             ],
             [
              0.4444444444444444,
              "#bd3786"
             ],
             [
              0.5555555555555556,
              "#d8576b"
             ],
             [
              0.6666666666666666,
              "#ed7953"
             ],
             [
              0.7777777777777778,
              "#fb9f3a"
             ],
             [
              0.8888888888888888,
              "#fdca26"
             ],
             [
              1,
              "#f0f921"
             ]
            ],
            "type": "heatmap"
           }
          ],
          "heatmapgl": [
           {
            "colorbar": {
             "outlinewidth": 0,
             "ticks": ""
            },
            "colorscale": [
             [
              0,
              "#0d0887"
             ],
             [
              0.1111111111111111,
              "#46039f"
             ],
             [
              0.2222222222222222,
              "#7201a8"
             ],
             [
              0.3333333333333333,
              "#9c179e"
             ],
             [
              0.4444444444444444,
              "#bd3786"
             ],
             [
              0.5555555555555556,
              "#d8576b"
             ],
             [
              0.6666666666666666,
              "#ed7953"
             ],
             [
              0.7777777777777778,
              "#fb9f3a"
             ],
             [
              0.8888888888888888,
              "#fdca26"
             ],
             [
              1,
              "#f0f921"
             ]
            ],
            "type": "heatmapgl"
           }
          ],
          "histogram": [
           {
            "marker": {
             "pattern": {
              "fillmode": "overlay",
              "size": 10,
              "solidity": 0.2
             }
            },
            "type": "histogram"
           }
          ],
          "histogram2d": [
           {
            "colorbar": {
             "outlinewidth": 0,
             "ticks": ""
            },
            "colorscale": [
             [
              0,
              "#0d0887"
             ],
             [
              0.1111111111111111,
              "#46039f"
             ],
             [
              0.2222222222222222,
              "#7201a8"
             ],
             [
              0.3333333333333333,
              "#9c179e"
             ],
             [
              0.4444444444444444,
              "#bd3786"
             ],
             [
              0.5555555555555556,
              "#d8576b"
             ],
             [
              0.6666666666666666,
              "#ed7953"
             ],
             [
              0.7777777777777778,
              "#fb9f3a"
             ],
             [
              0.8888888888888888,
              "#fdca26"
             ],
             [
              1,
              "#f0f921"
             ]
            ],
            "type": "histogram2d"
           }
          ],
          "histogram2dcontour": [
           {
            "colorbar": {
             "outlinewidth": 0,
             "ticks": ""
            },
            "colorscale": [
             [
              0,
              "#0d0887"
             ],
             [
              0.1111111111111111,
              "#46039f"
             ],
             [
              0.2222222222222222,
              "#7201a8"
             ],
             [
              0.3333333333333333,
              "#9c179e"
             ],
             [
              0.4444444444444444,
              "#bd3786"
             ],
             [
              0.5555555555555556,
              "#d8576b"
             ],
             [
              0.6666666666666666,
              "#ed7953"
             ],
             [
              0.7777777777777778,
              "#fb9f3a"
             ],
             [
              0.8888888888888888,
              "#fdca26"
             ],
             [
              1,
              "#f0f921"
             ]
            ],
            "type": "histogram2dcontour"
           }
          ],
          "mesh3d": [
           {
            "colorbar": {
             "outlinewidth": 0,
             "ticks": ""
            },
            "type": "mesh3d"
           }
          ],
          "parcoords": [
           {
            "line": {
             "colorbar": {
              "outlinewidth": 0,
              "ticks": ""
             }
            },
            "type": "parcoords"
           }
          ],
          "pie": [
           {
            "automargin": true,
            "type": "pie"
           }
          ],
          "scatter": [
           {
            "fillpattern": {
             "fillmode": "overlay",
             "size": 10,
             "solidity": 0.2
            },
            "type": "scatter"
           }
          ],
          "scatter3d": [
           {
            "line": {
             "colorbar": {
              "outlinewidth": 0,
              "ticks": ""
             }
            },
            "marker": {
             "colorbar": {
              "outlinewidth": 0,
              "ticks": ""
             }
            },
            "type": "scatter3d"
           }
          ],
          "scattercarpet": [
           {
            "marker": {
             "colorbar": {
              "outlinewidth": 0,
              "ticks": ""
             }
            },
            "type": "scattercarpet"
           }
          ],
          "scattergeo": [
           {
            "marker": {
             "colorbar": {
              "outlinewidth": 0,
              "ticks": ""
             }
            },
            "type": "scattergeo"
           }
          ],
          "scattergl": [
           {
            "marker": {
             "colorbar": {
              "outlinewidth": 0,
              "ticks": ""
             }
            },
            "type": "scattergl"
           }
          ],
          "scattermapbox": [
           {
            "marker": {
             "colorbar": {
              "outlinewidth": 0,
              "ticks": ""
             }
            },
            "type": "scattermapbox"
           }
          ],
          "scatterpolar": [
           {
            "marker": {
             "colorbar": {
              "outlinewidth": 0,
              "ticks": ""
             }
            },
            "type": "scatterpolar"
           }
          ],
          "scatterpolargl": [
           {
            "marker": {
             "colorbar": {
              "outlinewidth": 0,
              "ticks": ""
             }
            },
            "type": "scatterpolargl"
           }
          ],
          "scatterternary": [
           {
            "marker": {
             "colorbar": {
              "outlinewidth": 0,
              "ticks": ""
             }
            },
            "type": "scatterternary"
           }
          ],
          "surface": [
           {
            "colorbar": {
             "outlinewidth": 0,
             "ticks": ""
            },
            "colorscale": [
             [
              0,
              "#0d0887"
             ],
             [
              0.1111111111111111,
              "#46039f"
             ],
             [
              0.2222222222222222,
              "#7201a8"
             ],
             [
              0.3333333333333333,
              "#9c179e"
             ],
             [
              0.4444444444444444,
              "#bd3786"
             ],
             [
              0.5555555555555556,
              "#d8576b"
             ],
             [
              0.6666666666666666,
              "#ed7953"
             ],
             [
              0.7777777777777778,
              "#fb9f3a"
             ],
             [
              0.8888888888888888,
              "#fdca26"
             ],
             [
              1,
              "#f0f921"
             ]
            ],
            "type": "surface"
           }
          ],
          "table": [
           {
            "cells": {
             "fill": {
              "color": "#EBF0F8"
             },
             "line": {
              "color": "white"
             }
            },
            "header": {
             "fill": {
              "color": "#C8D4E3"
             },
             "line": {
              "color": "white"
             }
            },
            "type": "table"
           }
          ]
         },
         "layout": {
          "annotationdefaults": {
           "arrowcolor": "#2a3f5f",
           "arrowhead": 0,
           "arrowwidth": 1
          },
          "autotypenumbers": "strict",
          "coloraxis": {
           "colorbar": {
            "outlinewidth": 0,
            "ticks": ""
           }
          },
          "colorscale": {
           "diverging": [
            [
             0,
             "#8e0152"
            ],
            [
             0.1,
             "#c51b7d"
            ],
            [
             0.2,
             "#de77ae"
            ],
            [
             0.3,
             "#f1b6da"
            ],
            [
             0.4,
             "#fde0ef"
            ],
            [
             0.5,
             "#f7f7f7"
            ],
            [
             0.6,
             "#e6f5d0"
            ],
            [
             0.7,
             "#b8e186"
            ],
            [
             0.8,
             "#7fbc41"
            ],
            [
             0.9,
             "#4d9221"
            ],
            [
             1,
             "#276419"
            ]
           ],
           "sequential": [
            [
             0,
             "#0d0887"
            ],
            [
             0.1111111111111111,
             "#46039f"
            ],
            [
             0.2222222222222222,
             "#7201a8"
            ],
            [
             0.3333333333333333,
             "#9c179e"
            ],
            [
             0.4444444444444444,
             "#bd3786"
            ],
            [
             0.5555555555555556,
             "#d8576b"
            ],
            [
             0.6666666666666666,
             "#ed7953"
            ],
            [
             0.7777777777777778,
             "#fb9f3a"
            ],
            [
             0.8888888888888888,
             "#fdca26"
            ],
            [
             1,
             "#f0f921"
            ]
           ],
           "sequentialminus": [
            [
             0,
             "#0d0887"
            ],
            [
             0.1111111111111111,
             "#46039f"
            ],
            [
             0.2222222222222222,
             "#7201a8"
            ],
            [
             0.3333333333333333,
             "#9c179e"
            ],
            [
             0.4444444444444444,
             "#bd3786"
            ],
            [
             0.5555555555555556,
             "#d8576b"
            ],
            [
             0.6666666666666666,
             "#ed7953"
            ],
            [
             0.7777777777777778,
             "#fb9f3a"
            ],
            [
             0.8888888888888888,
             "#fdca26"
            ],
            [
             1,
             "#f0f921"
            ]
           ]
          },
          "colorway": [
           "#636efa",
           "#EF553B",
           "#00cc96",
           "#ab63fa",
           "#FFA15A",
           "#19d3f3",
           "#FF6692",
           "#B6E880",
           "#FF97FF",
           "#FECB52"
          ],
          "font": {
           "color": "#2a3f5f"
          },
          "geo": {
           "bgcolor": "white",
           "lakecolor": "white",
           "landcolor": "#E5ECF6",
           "showlakes": true,
           "showland": true,
           "subunitcolor": "white"
          },
          "hoverlabel": {
           "align": "left"
          },
          "hovermode": "closest",
          "mapbox": {
           "style": "light"
          },
          "paper_bgcolor": "white",
          "plot_bgcolor": "#E5ECF6",
          "polar": {
           "angularaxis": {
            "gridcolor": "white",
            "linecolor": "white",
            "ticks": ""
           },
           "bgcolor": "#E5ECF6",
           "radialaxis": {
            "gridcolor": "white",
            "linecolor": "white",
            "ticks": ""
           }
          },
          "scene": {
           "xaxis": {
            "backgroundcolor": "#E5ECF6",
            "gridcolor": "white",
            "gridwidth": 2,
            "linecolor": "white",
            "showbackground": true,
            "ticks": "",
            "zerolinecolor": "white"
           },
           "yaxis": {
            "backgroundcolor": "#E5ECF6",
            "gridcolor": "white",
            "gridwidth": 2,
            "linecolor": "white",
            "showbackground": true,
            "ticks": "",
            "zerolinecolor": "white"
           },
           "zaxis": {
            "backgroundcolor": "#E5ECF6",
            "gridcolor": "white",
            "gridwidth": 2,
            "linecolor": "white",
            "showbackground": true,
            "ticks": "",
            "zerolinecolor": "white"
           }
          },
          "shapedefaults": {
           "line": {
            "color": "#2a3f5f"
           }
          },
          "ternary": {
           "aaxis": {
            "gridcolor": "white",
            "linecolor": "white",
            "ticks": ""
           },
           "baxis": {
            "gridcolor": "white",
            "linecolor": "white",
            "ticks": ""
           },
           "bgcolor": "#E5ECF6",
           "caxis": {
            "gridcolor": "white",
            "linecolor": "white",
            "ticks": ""
           }
          },
          "title": {
           "x": 0.05
          },
          "xaxis": {
           "automargin": true,
           "gridcolor": "white",
           "linecolor": "white",
           "ticks": "",
           "title": {
            "standoff": 15
           },
           "zerolinecolor": "white",
           "zerolinewidth": 2
          },
          "yaxis": {
           "automargin": true,
           "gridcolor": "white",
           "linecolor": "white",
           "ticks": "",
           "title": {
            "standoff": 15
           },
           "zerolinecolor": "white",
           "zerolinewidth": 2
          }
         }
        },
        "title": {
         "font": {
          "size": 20
         },
         "text": "Er Energy Level Diagram",
         "x": 0.4,
         "y": 0.95
        },
        "width": 1500,
        "xaxis": {
         "showgrid": false,
         "tickmode": "array",
         "tickvals": []
        },
        "yaxis": {
         "autorange": true,
         "showgrid": false,
         "tickfont": {
          "size": 13
         },
         "tickmode": "array",
         "ticktext": [
          "E0(4I_15_2): 0",
          "E1(4I_13_2): 6632",
          "E2(4I_11_2): 10230",
          "E3(4I_9_2): 12553",
          "E4(4F_9_2): 15306",
          "E5(4S_3_2): 18448",
          "E6(2H2_11_2): 19246",
          "E7(4F_7_2): 20497",
          "E8(4F_5_2): 22282",
          "E9(4F_3_2): 22677",
          "E10(2G1_9_2): 24475",
          "E11(4G_11_2): 26376",
          "E12(4G_9_2): 27319",
          "E13(2K_15_2): 27584",
          "E14(2G1_7_2): 27825",
          "E15(2P_3_2): 31414"
         ],
         "tickvals": [
          0,
          6632,
          10230,
          12553,
          15306,
          18448,
          19246,
          20497,
          22282,
          22677,
          24475,
          26376,
          27319,
          27584,
          27825,
          31414
         ],
         "title": {
          "font": {
           "size": 20
          },
          "text": "Energy (cm⁻¹)"
         },
         "type": "linear"
        }
       }
      }
     },
     "metadata": {},
     "output_type": "display_data"
    },
    {
     "data": {
      "text/plain": [
       "<Er_EnergyLevelDiagram.Er_EnergyLevelDiagramArrow at 0x1160c8ed0>"
      ]
     },
     "execution_count": 10,
     "metadata": {},
     "output_type": "execute_result"
    }
   ],
   "source": [
    "Er_EnergyLevelDiagramArrow('Er', Er_energy, find_Er_ED_transition, find_Er_MD_transition)"
   ]
  },
  {
   "cell_type": "code",
   "execution_count": null,
   "metadata": {},
   "outputs": [],
   "source": []
  }
 ],
 "metadata": {
  "kernelspec": {
   "display_name": "base",
   "language": "python",
   "name": "python3"
  },
  "language_info": {
   "codemirror_mode": {
    "name": "ipython",
    "version": 3
   },
   "file_extension": ".py",
   "mimetype": "text/x-python",
   "name": "python",
   "nbconvert_exporter": "python",
   "pygments_lexer": "ipython3",
   "version": "3.11.4"
  }
 },
 "nbformat": 4,
 "nbformat_minor": 2
}
