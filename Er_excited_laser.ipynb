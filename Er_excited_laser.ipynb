{
 "cells": [
  {
   "cell_type": "code",
   "execution_count": 1,
   "metadata": {},
   "outputs": [
    {
     "name": "stdout",
     "output_type": "stream",
     "text": [
      "Successfully import:\n",
      "\n",
      "Er_energy\n",
      "Er_RME\n",
      "Er_omega\n",
      "\n"
     ]
    }
   ],
   "source": [
    "from Er_inf import *"
   ]
  },
  {
   "cell_type": "code",
   "execution_count": 2,
   "metadata": {},
   "outputs": [
    {
     "data": {
      "text/plain": [
       "{'E0(4I_15_2)': 0,\n",
       " 'E1(4I_13_2)': 6632,\n",
       " 'E2(4I_11_2)': 10230,\n",
       " 'E3(4I_9_2)': 12553,\n",
       " 'E4(4F_9_2)': 15306,\n",
       " 'E5(4S_3_2)': 18448,\n",
       " 'E6(2H2_11_2)': 19246,\n",
       " 'E7(4F_7_2)': 20497,\n",
       " 'E8(4F_5_2)': 22282,\n",
       " 'E9(4F_3_2)': 22677,\n",
       " 'E10(2G1_9_2)': 24475,\n",
       " 'E11(4G_11_2)': 26376,\n",
       " 'E12(4G_9_2)': 27319,\n",
       " 'E13(2K_15_2)': 27584,\n",
       " 'E14(2G1_7_2)': 27825,\n",
       " 'E15(2P_3_2)': 31414,\n",
       " 'E16(2K_13_2)': 33000,\n",
       " 'E17(4G_5_2)': 33300,\n",
       " 'E18(2P_1_2)': 33350,\n",
       " 'E19(4G_7_2)': 33900,\n",
       " 'E20(2D1_5_2)': 34700,\n",
       " 'E21(2H2_9_2)': 36450,\n",
       " 'E22(4D_5_2)': 38450,\n",
       " 'E23(4D_7_2)': 39050,\n",
       " 'E24(2I_11_2)': 40900,\n",
       " 'E25(2L_17_2)': 41600,\n",
       " 'E26(4D_3_2)': 42150,\n",
       " 'E27(2D1_3_2)': 42850,\n",
       " 'E28(2I_13_2)': 43600,\n",
       " 'E29(4D_1_2)': 46950,\n",
       " 'E30(2H1_9_2)': 47750,\n",
       " 'E31(2D2_5_2)': 48900,\n",
       " 'E32(2H1_11_2)': 50900,\n",
       " 'E33(2F2_7_2)': 55050,\n",
       " 'E34(2D2_3_2)': 55100,\n",
       " 'E35(2F2_5_2)': 63150,\n",
       " 'E36(2G2_7_2)': 65350,\n",
       " 'E37(2G2_9_2)': 69450}"
      ]
     },
     "execution_count": 2,
     "metadata": {},
     "output_type": "execute_result"
    }
   ],
   "source": [
    "Er_energy"
   ]
  },
  {
   "cell_type": "markdown",
   "metadata": {},
   "source": [
    "### Find some pairs, that can be upconverted into higher levels with Yb"
   ]
  },
  {
   "cell_type": "code",
   "execution_count": 3,
   "metadata": {},
   "outputs": [
    {
     "data": {
      "text/plain": [
       "10246"
      ]
     },
     "execution_count": 3,
     "metadata": {},
     "output_type": "execute_result"
    }
   ],
   "source": [
    "Yb_energy = {'S0':0, 'S1': 10246}\n",
    "\n",
    "\n",
    "target_difference = Yb_energy['S1']-Yb_energy['S0']\n",
    "\n",
    "target_difference"
   ]
  },
  {
   "cell_type": "code",
   "execution_count": 14,
   "metadata": {},
   "outputs": [],
   "source": [
    "\n",
    "def find_pairs(energy_levels, target_difference, margin):\n",
    "\n",
    "    keys = list(energy_levels.keys())\n",
    "    values = list(energy_levels.values())\n",
    "\n",
    "\n",
    "    valid_pairs = []\n",
    "\n",
    "    for i in range(len(values)):\n",
    "        for j in range(i+1, len(values)):\n",
    "\n",
    "            delta_E = abs(values[i] - values[j])\n",
    "\n",
    "            net_diff = abs(delta_E - target_difference)\n",
    "\n",
    "            if net_diff < margin:\n",
    "\n",
    "                valid_pairs.append((keys[i], keys[j], net_diff))\n",
    "\n",
    "    return valid_pairs\n"
   ]
  },
  {
   "cell_type": "code",
   "execution_count": 15,
   "metadata": {},
   "outputs": [
    {
     "name": "stdout",
     "output_type": "stream",
     "text": [
      "11\n"
     ]
    },
    {
     "data": {
      "text/plain": [
       "[('E0(4I_15_2)', 'E2(4I_11_2)', 16),\n",
       " ('E2(4I_11_2)', 'E7(4F_7_2)', 21),\n",
       " ('E3(4I_9_2)', 'E9(4F_3_2)', 122),\n",
       " ('E9(4F_3_2)', 'E16(2K_13_2)', 77),\n",
       " ('E10(2G1_9_2)', 'E20(2D1_5_2)', 21),\n",
       " ('E11(4G_11_2)', 'E21(2H2_9_2)', 172),\n",
       " ('E15(2P_3_2)', 'E25(2L_17_2)', 60),\n",
       " ('E17(4G_5_2)', 'E28(2I_13_2)', 54),\n",
       " ('E18(2P_1_2)', 'E28(2I_13_2)', 4),\n",
       " ('E33(2F2_7_2)', 'E36(2G2_7_2)', 54),\n",
       " ('E34(2D2_3_2)', 'E36(2G2_7_2)', 4)]"
      ]
     },
     "execution_count": 15,
     "metadata": {},
     "output_type": "execute_result"
    }
   ],
   "source": [
    "Yb_energy = {'S0':0, 'S1': 10246}\n",
    "\n",
    "target_difference = Yb_energy['S1']-Yb_energy['S0']\n",
    "\n",
    "\n",
    "margin = 200\n",
    "\n",
    "pairs = find_pairs(Er_energy, target_difference, margin)\n",
    "\n",
    "print(len(pairs))\n",
    "pairs\n"
   ]
  },
  {
   "cell_type": "markdown",
   "metadata": {},
   "source": [
    "## We will use the following pairs for Er simulation"
   ]
  },
  {
   "cell_type": "code",
   "execution_count": 16,
   "metadata": {},
   "outputs": [
    {
     "name": "stdout",
     "output_type": "stream",
     "text": [
      "9\n"
     ]
    },
    {
     "data": {
      "text/plain": [
       "[('E0(4I_15_2)', 'E2(4I_11_2)', 16),\n",
       " ('E2(4I_11_2)', 'E7(4F_7_2)', 21),\n",
       " ('E9(4F_3_2)', 'E16(2K_13_2)', 77),\n",
       " ('E10(2G1_9_2)', 'E20(2D1_5_2)', 21),\n",
       " ('E15(2P_3_2)', 'E25(2L_17_2)', 60),\n",
       " ('E17(4G_5_2)', 'E28(2I_13_2)', 54),\n",
       " ('E18(2P_1_2)', 'E28(2I_13_2)', 4),\n",
       " ('E33(2F2_7_2)', 'E36(2G2_7_2)', 54),\n",
       " ('E34(2D2_3_2)', 'E36(2G2_7_2)', 4)]"
      ]
     },
     "execution_count": 16,
     "metadata": {},
     "output_type": "execute_result"
    }
   ],
   "source": [
    "margin = 100\n",
    "\n",
    "pairs = find_pairs(Er_energy, target_difference, margin)\n",
    "\n",
    "print(len(pairs))\n",
    "pairs"
   ]
  },
  {
   "cell_type": "code",
   "execution_count": null,
   "metadata": {},
   "outputs": [],
   "source": []
  }
 ],
 "metadata": {
  "kernelspec": {
   "display_name": "base",
   "language": "python",
   "name": "python3"
  },
  "language_info": {
   "codemirror_mode": {
    "name": "ipython",
    "version": 3
   },
   "file_extension": ".py",
   "mimetype": "text/x-python",
   "name": "python",
   "nbconvert_exporter": "python",
   "pygments_lexer": "ipython3",
   "version": "3.11.4"
  }
 },
 "nbformat": 4,
 "nbformat_minor": 2
}
