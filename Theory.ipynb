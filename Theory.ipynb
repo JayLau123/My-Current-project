{
 "cells": [
  {
   "cell_type": "markdown",
   "metadata": {},
   "source": [
    "# $Tm$ energy levels\n"
   ]
  },
  {
   "cell_type": "code",
   "execution_count": 1,
   "metadata": {},
   "outputs": [
    {
     "name": "stdout",
     "output_type": "stream",
     "text": [
      "Successfully import:\n",
      "\n",
      "Tm_energy\n",
      "Tm_RME\n",
      "Tm_omega\n",
      "\n",
      "Successfully import: \n",
      "\n",
      "sorted_wavelength(energy_dict)\n",
      "find_ED_transition(energy_dict)\n",
      "find_MD_transition(energy_dict)\n",
      "\n",
      "Successfully import:\n",
      "\n",
      "class EnergyLevelDiagram(ion_name, energy_levels)\n",
      "class EnergyLevelDiagramArrow(ion_name, energy_levels, ED_transitions, MD_transitions)\n",
      "\n",
      "Successfully import:\n",
      "\n",
      "ED_cal(energy_dict, omega, RME_square, n)\n",
      "MD_cal(energy_dict, n)\n",
      "MPR_cal(energy_dict, W0, alpha, phonon)\n",
      "\n"
     ]
    }
   ],
   "source": [
    "from Tm_inf import *\n",
    "from TmEnergy import *\n",
    "from EnergyLevelDiagram import *\n",
    "from RateCalculation import *\n"
   ]
  },
  {
   "cell_type": "markdown",
   "metadata": {},
   "source": [
    "# `0. Rate calculation`"
   ]
  },
  {
   "cell_type": "markdown",
   "metadata": {},
   "source": [
    "# 1. ED-induced radiative transition\n",
    "\n",
    "#### $$S_{i j}^{\\mathrm{ED}}=\\sum_{\\lambda=2,4,6} \\Omega_\\lambda\\left|\\left\\langle[\\mathrm{SL}] J_i\\left\\|U^{(\\lambda)}\\right\\|[\\mathrm{SL}] J_j\\right\\rangle\\right|^2$$\n",
    "\n",
    "\n",
    "\n",
    "#### $$A_{i j}^{\\mathrm{ED}}=\\dfrac{64 \\pi^4 e^2 \\widetilde{\\nu}^3}{3 h(2 J+1)}\\left[\\dfrac{n\\left(n^2+2\\right)^2}{9}\\right] S_{i j}^{\\mathrm{ED}}=constant\\times\\dfrac{\\widetilde{\\nu}^3}{2 J+1}\\times n_{term} \\times S_{ij}^{\\mathrm{ED}}$$\n",
    "\n",
    "#### $$A_{i j}^{\\mathrm{ED}}=\\dfrac{64 \\pi^4 e^2 \\widetilde{\\nu}^3}{3 h(2 J+1)}\\left[\\dfrac{n\\left(n^2+2\\right)^2}{9}\\right] S_{i j}^{\\mathrm{ED}}=constant\\times\\dfrac{\\widetilde{\\nu}^3}{2 J+1}\\times n_{term} \\times \\sum_{\\lambda=2,4,6} \\Omega_\\lambda\\left|\\left\\langle[\\mathrm{SL}] J_i\\left\\|U^{(\\lambda)}\\right\\|[\\mathrm{SL}] J_j\\right\\rangle\\right|^2$$\n",
    "\n",
    "\n",
    "\n",
    "Now, we merge some basic constants together as a total constant, it's unlikely to change:\n",
    "\n",
    "$$constant=\\dfrac{64 \\pi^4 e^2 }{3 h}$$\n",
    "\n",
    "#### Gaussian unit system:\n",
    "\n",
    "1. Elementary charge: $e = 4.8 \\times 10^{-10} g^{1/2}\\cdot cm^{3/2}\\cdot s^{-1}$\n",
    "\n",
    "2. Planck constant: $h = 6.6261 \\times 10^{-27}g\\cdot cm^2\\cdot s^{-1}$\n",
    "\n",
    "3. Energy difference of transition in wavenumbers: $\\widetilde{\\nu}(cm^{-1})$\n",
    "\n",
    "4. Judd-Ofelt intensity/Phenomenological parameter/ (host-dependent): $\\Omega_{\\lambda} (10^{-20}cm^2)$\n",
    "\n",
    "\n",
    "\n",
    "\n",
    "\n"
   ]
  },
  {
   "cell_type": "markdown",
   "metadata": {},
   "source": [
    "# MD-induced radiative transition\n",
    "\n",
    "## $$A_{i j}^{\\mathrm{MD}}=\\dfrac{4h \\pi^2 e_{cgs}^2\\widetilde{\\nu}^3 n^3}{3 (2 J_i+1) m_{\\mathrm{e}}^2 c^2} \\left|\\left\\langle[\\mathrm{SL}] J_i\\|\\mathbf{L}+2 \\mathbf{S}\\|[\\mathrm{SL}] J_j\\right\\rangle\\right|^2$$\n",
    "\n",
    "---\n",
    "\n",
    "1. $J_j = J_i+1$\n",
    "\n",
    "$$\\left\\langle f^N \\alpha S L J\\|\\mathbf{M}\\| f^N \\alpha^{\\prime} S^{\\prime} L^{\\prime} J+1\\right\\rangle=\\delta\\left(\\alpha, \\alpha^{\\prime}\\right) \\delta\\left(S, S^{\\prime}\\right) \\delta\\left(L, L^{\\prime}\\right) \\left\\{\\frac{\\left((S+L+1)^2-(J+1)^2\\right]\\left[(J+1)^2-(L-S)^2\\right]}{4(J+1)}\\right\\}^{1 / 2}$$\n",
    "\n",
    "\n",
    "2. $J_j = J_i-1$\n",
    "\n",
    "\n",
    "$$\\left\\langle f^N \\alpha S L J\\|\\mathbf{M}\\| f^N \\alpha^{\\prime} S^{\\prime} L^{\\prime} J-1\\right\\rangle=\\delta\\left(\\alpha, \\alpha^{\\prime}\\right) \\delta\\left(S, S^{\\prime}\\right) \\delta\\left(L, L^{\\prime}\\right) \\left\\{\\frac{\\left[(S+L+1)^2-J^2\\right]\\left[J^2-(L-S)^2\\right]}{4 J}\\right\\}^{1 / 2}$$\n",
    "\n",
    "\n",
    "3. $J_j = J_i$\n",
    "\n",
    "$$\\left(f^N \\alpha S L J\\|\\mathbf{M}\\| f^N \\alpha^{\\prime} S^{\\prime} L^{\\prime} J\\right)=\\delta\\left(\\alpha, \\alpha^{\\prime}\\right) \\delta\\left(S, S^{\\prime}\\right) \\delta\\left(L, L^{\\prime}\\right) [(2 J+1) / 4 J(J+1)]^{1 / 2}$$\n",
    "\n",
    "---\n",
    "\n",
    "### $$A_{i j}^{\\mathrm{MD}}=\\dfrac{4h \\pi^2 e_{cgs}^2\\widetilde{\\nu}^3 n^3}{3 (2 J+1) m_{\\mathrm{e}}^2 c^2} \\left|\\left\\langle[\\mathrm{SL}] J_i\\|\\mathbf{L}+2 \\mathbf{S}\\|[\\mathrm{SL}] J_j\\right\\rangle\\right|^2=constant ~\\times \\dfrac{\\widetilde{\\nu}^3}{2J+1} \\times \\left|\\left\\langle[\\mathrm{SL}] J_i\\|\\mathbf{L}+2 \\mathbf{S}\\|[\\mathrm{SL}] J_j\\right\\rangle\\right|^2$$\n",
    "\n",
    "where:\n",
    "\n",
    " - $constant = \\dfrac{4h \\pi^2 e_{cgs}^2  n^3}{3 m_{\\mathrm{e}}^2 c^2}$\n",
    "\n",
    " $= \\dfrac{4 \\times (6.626 \\times 10^{-27} g \\cdot cm^2 \\cdot s^{-1}) \\times 3.14^2 \\times \\left[4.8 \\times 10^{-10 } g^{1/2} \\cdot cm^{3/2} \\cdot s^{-1}\\right]^2 \\times 1.5^3}{3 \\times \\left[ 9.11 \\times 10^{-28}g \\right]^2 \\times \\left[ 3 \\times 10^{10} cm \\cdot s^{-1} \\right]^2} $\n",
    "\n",
    " $= 9.068 \\times 10^{-11} cm^3 \\cdot s^{-1}$"
   ]
  },
  {
   "cell_type": "markdown",
   "metadata": {},
   "source": [
    "# Merge all rates together"
   ]
  },
  {
   "cell_type": "code",
   "execution_count": 9,
   "metadata": {},
   "outputs": [],
   "source": [
    "# refractive index\n",
    "n = 1.5\n",
    "\n",
    "# zero-phonon relaxation rate\n",
    "W0=2*10**7\n",
    "\n",
    "# MPR rate constant\n",
    "alpha=3.5*10**-3\n",
    "\n",
    "# phonon energy\n",
    "phonon=450\n",
    "\n",
    "\n",
    "tag_Tm_ED = ED_cal(Tm_energy, Tm_omega, Tm_RME, n)\n",
    "tag_Tm_MD = MD_cal(Tm_energy, n)\n",
    "tag_Tm_mpr = MPR_cal(Tm_energy, W0, alpha, phonon)\n",
    "\n",
    "# manually input for Yb\n",
    "tag_Yb = {'c0':7e-39, # Yb-Yb resonant energy transfer\n",
    "          'Ws': 834,} # Yb ED+MD\n",
    "\n",
    "\n",
    "tag_default = tag_Tm_ED\n",
    "\n",
    "for key in tag_Yb:\n",
    "    tag_default[key] = tag_Yb[key]\n",
    "\n",
    "# MD+ED\n",
    "for key in tag_Tm_MD:\n",
    "    tag_default[key] = tag_default[key] + tag_Tm_MD[key]\n",
    "\n",
    "# MD+ED+MPR\n",
    "for key in tag_Tm_mpr:\n",
    "    tag_default[key] = tag_default[key] + tag_Tm_mpr[key]\n",
    "\n"
   ]
  },
  {
   "cell_type": "code",
   "execution_count": 10,
   "metadata": {},
   "outputs": [
    {
     "data": {
      "text/plain": [
       "{'E1E0': 126.5931388175079,\n",
       " 'E2E1': 58296.64136815793,\n",
       " 'E2E0': 227.01839385585447,\n",
       " 'E3E2': 161.57570406073285,\n",
       " 'E3E1': 66.54090079350377,\n",
       " 'E3E0': 778.6223334161804,\n",
       " 'E4E3': 687449.4288754665,\n",
       " 'E4E2': 146.53082969740504,\n",
       " 'E4E1': 317.71110569322514,\n",
       " 'E4E0': 1725.685918453449,\n",
       " 'E5E4': 60869502.79536963,\n",
       " 'E5E3': 5.142484506889417,\n",
       " 'E5E2': 192.81631278900016,\n",
       " 'E5E1': 362.10251583753916,\n",
       " 'E5E0': 548.8209590762159,\n",
       " 'E6E5': 12.46627396275855,\n",
       " 'E6E4': 45.243463132798716,\n",
       " 'E6E3': 23.045067137896037,\n",
       " 'E6E2': 494.8335554945873,\n",
       " 'E6E1': 790.6119449426245,\n",
       " 'E6E0': 612.1894036274351,\n",
       " 'E7E6': 95.11725495439337,\n",
       " 'E7E5': 686.9558866118873,\n",
       " 'E7E4': 488.5169554820362,\n",
       " 'E7E3': 2125.9773631820567,\n",
       " 'E7E2': 94.77917251652532,\n",
       " 'E7E1': 2862.4113298030165,\n",
       " 'E7E0': 7073.7489463917145,\n",
       " 'E8E7': 36.37711810459383,\n",
       " 'E8E6': 569.6516174960112,\n",
       " 'E8E5': 12032.350149796916,\n",
       " 'E8E4': 0.0,\n",
       " 'E8E3': 12900.2316312164,\n",
       " 'E8E2': 0.0,\n",
       " 'E8E1': 2187.1540079844326,\n",
       " 'E8E0': 9927.473226890408,\n",
       " 'E9E8': 57153022.362250134,\n",
       " 'E9E7': 92.02566943051052,\n",
       " 'E9E6': 1821.4670182763978,\n",
       " 'E9E5': 830.6733816463998,\n",
       " 'E9E4': 24.831884624739615,\n",
       " 'E9E3': 3347.4442413228044,\n",
       " 'E9E2': 47.629920257740245,\n",
       " 'E9E1': 3947.2568763835907,\n",
       " 'E9E0': 886.4651309513591,\n",
       " 'E10E9': 20000000.000835583,\n",
       " 'E10E8': 0.2040370195274009,\n",
       " 'E10E7': 384.94530942879226,\n",
       " 'E10E6': 24.780471461156164,\n",
       " 'E10E5': 1932.3866509383674,\n",
       " 'E10E4': 11701.39579382536,\n",
       " 'E10E3': 2070.270151288934,\n",
       " 'E10E2': 11169.388410903926,\n",
       " 'E10E1': 16852.549991893735,\n",
       " 'E10E0': 6148.3298289008,\n",
       " 'E11E10': 719451.6839219563,\n",
       " 'E11E9': 10.632357583847941,\n",
       " 'E11E8': 4.152306926420422,\n",
       " 'E11E7': 145.78586549966536,\n",
       " 'E11E6': 2870.8263210603573,\n",
       " 'E11E5': 512.9026534772217,\n",
       " 'E11E4': 4398.79486047782,\n",
       " 'E11E3': 3243.3217145047865,\n",
       " 'E11E2': 7747.609950763437,\n",
       " 'E11E1': 8907.227766388574,\n",
       " 'E11E0': 13879.298417790638,\n",
       " 'c0': 7e-39,\n",
       " 'Ws': 834}"
      ]
     },
     "execution_count": 10,
     "metadata": {},
     "output_type": "execute_result"
    }
   ],
   "source": [
    "tag_default"
   ]
  },
  {
   "cell_type": "markdown",
   "metadata": {},
   "source": []
  },
  {
   "cell_type": "code",
   "execution_count": 6,
   "metadata": {},
   "outputs": [],
   "source": []
  },
  {
   "cell_type": "markdown",
   "metadata": {},
   "source": [
    "# `1. class EnergyLevelDiagram`\n",
    "\n",
    "## Visualization of energy level diagram"
   ]
  },
  {
   "cell_type": "code",
   "execution_count": 2,
   "metadata": {},
   "outputs": [
    {
     "name": "stdout",
     "output_type": "stream",
     "text": [
      "Successfully import:  class EnergyLevelDiagram, class EnergyLevelDiagramArrow, \n"
     ]
    },
    {
     "data": {
      "application/vnd.plotly.v1+json": {
       "config": {
        "plotlyServerURL": "https://plot.ly"
       },
       "data": [
        {
         "line": {
          "color": "black",
          "width": 2
         },
         "mode": "lines",
         "showlegend": false,
         "type": "scatter",
         "x": [
          0,
          1
         ],
         "y": [
          153,
          153
         ]
        },
        {
         "line": {
          "color": "black",
          "width": 2
         },
         "mode": "lines",
         "showlegend": false,
         "type": "scatter",
         "x": [
          0,
          1
         ],
         "y": [
          5828,
          5828
         ]
        },
        {
         "line": {
          "color": "black",
          "width": 2
         },
         "mode": "lines",
         "showlegend": false,
         "type": "scatter",
         "x": [
          0,
          1
         ],
         "y": [
          8396,
          8396
         ]
        },
        {
         "line": {
          "color": "black",
          "width": 2
         },
         "mode": "lines",
         "showlegend": false,
         "type": "scatter",
         "x": [
          0,
          1
         ],
         "y": [
          12735,
          12735
         ]
        },
        {
         "line": {
          "color": "black",
          "width": 2
         },
         "mode": "lines",
         "showlegend": false,
         "type": "scatter",
         "x": [
          0,
          1
         ],
         "y": [
          14598,
          14598
         ]
        },
        {
         "line": {
          "color": "black",
          "width": 2
         },
         "mode": "lines",
         "showlegend": false,
         "type": "scatter",
         "x": [
          0,
          1
         ],
         "y": [
          15180,
          15180
         ]
        },
        {
         "line": {
          "color": "black",
          "width": 2
         },
         "mode": "lines",
         "showlegend": false,
         "type": "scatter",
         "x": [
          0,
          1
         ],
         "y": [
          21352,
          21352
         ]
        },
        {
         "line": {
          "color": "black",
          "width": 2
         },
         "mode": "lines",
         "showlegend": false,
         "type": "scatter",
         "x": [
          0,
          1
         ],
         "y": [
          28028,
          28028
         ]
        },
        {
         "line": {
          "color": "black",
          "width": 2
         },
         "mode": "lines",
         "showlegend": false,
         "type": "scatter",
         "x": [
          0,
          1
         ],
         "y": [
          34900,
          34900
         ]
        },
        {
         "line": {
          "color": "black",
          "width": 2
         },
         "mode": "lines",
         "showlegend": false,
         "type": "scatter",
         "x": [
          0,
          1
         ],
         "y": [
          35500,
          35500
         ]
        },
        {
         "line": {
          "color": "black",
          "width": 2
         },
         "mode": "lines",
         "showlegend": false,
         "type": "scatter",
         "x": [
          0,
          1
         ],
         "y": [
          36400,
          36400
         ]
        },
        {
         "line": {
          "color": "black",
          "width": 2
         },
         "mode": "lines",
         "showlegend": false,
         "type": "scatter",
         "x": [
          0,
          1
         ],
         "y": [
          38250,
          38250
         ]
        }
       ],
       "layout": {
        "height": 1100,
        "plot_bgcolor": "white",
        "template": {
         "data": {
          "bar": [
           {
            "error_x": {
             "color": "#2a3f5f"
            },
            "error_y": {
             "color": "#2a3f5f"
            },
            "marker": {
             "line": {
              "color": "#E5ECF6",
              "width": 0.5
             },
             "pattern": {
              "fillmode": "overlay",
              "size": 10,
              "solidity": 0.2
             }
            },
            "type": "bar"
           }
          ],
          "barpolar": [
           {
            "marker": {
             "line": {
              "color": "#E5ECF6",
              "width": 0.5
             },
             "pattern": {
              "fillmode": "overlay",
              "size": 10,
              "solidity": 0.2
             }
            },
            "type": "barpolar"
           }
          ],
          "carpet": [
           {
            "aaxis": {
             "endlinecolor": "#2a3f5f",
             "gridcolor": "white",
             "linecolor": "white",
             "minorgridcolor": "white",
             "startlinecolor": "#2a3f5f"
            },
            "baxis": {
             "endlinecolor": "#2a3f5f",
             "gridcolor": "white",
             "linecolor": "white",
             "minorgridcolor": "white",
             "startlinecolor": "#2a3f5f"
            },
            "type": "carpet"
           }
          ],
          "choropleth": [
           {
            "colorbar": {
             "outlinewidth": 0,
             "ticks": ""
            },
            "type": "choropleth"
           }
          ],
          "contour": [
           {
            "colorbar": {
             "outlinewidth": 0,
             "ticks": ""
            },
            "colorscale": [
             [
              0,
              "#0d0887"
             ],
             [
              0.1111111111111111,
              "#46039f"
             ],
             [
              0.2222222222222222,
              "#7201a8"
             ],
             [
              0.3333333333333333,
              "#9c179e"
             ],
             [
              0.4444444444444444,
              "#bd3786"
             ],
             [
              0.5555555555555556,
              "#d8576b"
             ],
             [
              0.6666666666666666,
              "#ed7953"
             ],
             [
              0.7777777777777778,
              "#fb9f3a"
             ],
             [
              0.8888888888888888,
              "#fdca26"
             ],
             [
              1,
              "#f0f921"
             ]
            ],
            "type": "contour"
           }
          ],
          "contourcarpet": [
           {
            "colorbar": {
             "outlinewidth": 0,
             "ticks": ""
            },
            "type": "contourcarpet"
           }
          ],
          "heatmap": [
           {
            "colorbar": {
             "outlinewidth": 0,
             "ticks": ""
            },
            "colorscale": [
             [
              0,
              "#0d0887"
             ],
             [
              0.1111111111111111,
              "#46039f"
             ],
             [
              0.2222222222222222,
              "#7201a8"
             ],
             [
              0.3333333333333333,
              "#9c179e"
             ],
             [
              0.4444444444444444,
              "#bd3786"
             ],
             [
              0.5555555555555556,
              "#d8576b"
             ],
             [
              0.6666666666666666,
              "#ed7953"
             ],
             [
              0.7777777777777778,
              "#fb9f3a"
             ],
             [
              0.8888888888888888,
              "#fdca26"
             ],
             [
              1,
              "#f0f921"
             ]
            ],
            "type": "heatmap"
           }
          ],
          "heatmapgl": [
           {
            "colorbar": {
             "outlinewidth": 0,
             "ticks": ""
            },
            "colorscale": [
             [
              0,
              "#0d0887"
             ],
             [
              0.1111111111111111,
              "#46039f"
             ],
             [
              0.2222222222222222,
              "#7201a8"
             ],
             [
              0.3333333333333333,
              "#9c179e"
             ],
             [
              0.4444444444444444,
              "#bd3786"
             ],
             [
              0.5555555555555556,
              "#d8576b"
             ],
             [
              0.6666666666666666,
              "#ed7953"
             ],
             [
              0.7777777777777778,
              "#fb9f3a"
             ],
             [
              0.8888888888888888,
              "#fdca26"
             ],
             [
              1,
              "#f0f921"
             ]
            ],
            "type": "heatmapgl"
           }
          ],
          "histogram": [
           {
            "marker": {
             "pattern": {
              "fillmode": "overlay",
              "size": 10,
              "solidity": 0.2
             }
            },
            "type": "histogram"
           }
          ],
          "histogram2d": [
           {
            "colorbar": {
             "outlinewidth": 0,
             "ticks": ""
            },
            "colorscale": [
             [
              0,
              "#0d0887"
             ],
             [
              0.1111111111111111,
              "#46039f"
             ],
             [
              0.2222222222222222,
              "#7201a8"
             ],
             [
              0.3333333333333333,
              "#9c179e"
             ],
             [
              0.4444444444444444,
              "#bd3786"
             ],
             [
              0.5555555555555556,
              "#d8576b"
             ],
             [
              0.6666666666666666,
              "#ed7953"
             ],
             [
              0.7777777777777778,
              "#fb9f3a"
             ],
             [
              0.8888888888888888,
              "#fdca26"
             ],
             [
              1,
              "#f0f921"
             ]
            ],
            "type": "histogram2d"
           }
          ],
          "histogram2dcontour": [
           {
            "colorbar": {
             "outlinewidth": 0,
             "ticks": ""
            },
            "colorscale": [
             [
              0,
              "#0d0887"
             ],
             [
              0.1111111111111111,
              "#46039f"
             ],
             [
              0.2222222222222222,
              "#7201a8"
             ],
             [
              0.3333333333333333,
              "#9c179e"
             ],
             [
              0.4444444444444444,
              "#bd3786"
             ],
             [
              0.5555555555555556,
              "#d8576b"
             ],
             [
              0.6666666666666666,
              "#ed7953"
             ],
             [
              0.7777777777777778,
              "#fb9f3a"
             ],
             [
              0.8888888888888888,
              "#fdca26"
             ],
             [
              1,
              "#f0f921"
             ]
            ],
            "type": "histogram2dcontour"
           }
          ],
          "mesh3d": [
           {
            "colorbar": {
             "outlinewidth": 0,
             "ticks": ""
            },
            "type": "mesh3d"
           }
          ],
          "parcoords": [
           {
            "line": {
             "colorbar": {
              "outlinewidth": 0,
              "ticks": ""
             }
            },
            "type": "parcoords"
           }
          ],
          "pie": [
           {
            "automargin": true,
            "type": "pie"
           }
          ],
          "scatter": [
           {
            "fillpattern": {
             "fillmode": "overlay",
             "size": 10,
             "solidity": 0.2
            },
            "type": "scatter"
           }
          ],
          "scatter3d": [
           {
            "line": {
             "colorbar": {
              "outlinewidth": 0,
              "ticks": ""
             }
            },
            "marker": {
             "colorbar": {
              "outlinewidth": 0,
              "ticks": ""
             }
            },
            "type": "scatter3d"
           }
          ],
          "scattercarpet": [
           {
            "marker": {
             "colorbar": {
              "outlinewidth": 0,
              "ticks": ""
             }
            },
            "type": "scattercarpet"
           }
          ],
          "scattergeo": [
           {
            "marker": {
             "colorbar": {
              "outlinewidth": 0,
              "ticks": ""
             }
            },
            "type": "scattergeo"
           }
          ],
          "scattergl": [
           {
            "marker": {
             "colorbar": {
              "outlinewidth": 0,
              "ticks": ""
             }
            },
            "type": "scattergl"
           }
          ],
          "scattermapbox": [
           {
            "marker": {
             "colorbar": {
              "outlinewidth": 0,
              "ticks": ""
             }
            },
            "type": "scattermapbox"
           }
          ],
          "scatterpolar": [
           {
            "marker": {
             "colorbar": {
              "outlinewidth": 0,
              "ticks": ""
             }
            },
            "type": "scatterpolar"
           }
          ],
          "scatterpolargl": [
           {
            "marker": {
             "colorbar": {
              "outlinewidth": 0,
              "ticks": ""
             }
            },
            "type": "scatterpolargl"
           }
          ],
          "scatterternary": [
           {
            "marker": {
             "colorbar": {
              "outlinewidth": 0,
              "ticks": ""
             }
            },
            "type": "scatterternary"
           }
          ],
          "surface": [
           {
            "colorbar": {
             "outlinewidth": 0,
             "ticks": ""
            },
            "colorscale": [
             [
              0,
              "#0d0887"
             ],
             [
              0.1111111111111111,
              "#46039f"
             ],
             [
              0.2222222222222222,
              "#7201a8"
             ],
             [
              0.3333333333333333,
              "#9c179e"
             ],
             [
              0.4444444444444444,
              "#bd3786"
             ],
             [
              0.5555555555555556,
              "#d8576b"
             ],
             [
              0.6666666666666666,
              "#ed7953"
             ],
             [
              0.7777777777777778,
              "#fb9f3a"
             ],
             [
              0.8888888888888888,
              "#fdca26"
             ],
             [
              1,
              "#f0f921"
             ]
            ],
            "type": "surface"
           }
          ],
          "table": [
           {
            "cells": {
             "fill": {
              "color": "#EBF0F8"
             },
             "line": {
              "color": "white"
             }
            },
            "header": {
             "fill": {
              "color": "#C8D4E3"
             },
             "line": {
              "color": "white"
             }
            },
            "type": "table"
           }
          ]
         },
         "layout": {
          "annotationdefaults": {
           "arrowcolor": "#2a3f5f",
           "arrowhead": 0,
           "arrowwidth": 1
          },
          "autotypenumbers": "strict",
          "coloraxis": {
           "colorbar": {
            "outlinewidth": 0,
            "ticks": ""
           }
          },
          "colorscale": {
           "diverging": [
            [
             0,
             "#8e0152"
            ],
            [
             0.1,
             "#c51b7d"
            ],
            [
             0.2,
             "#de77ae"
            ],
            [
             0.3,
             "#f1b6da"
            ],
            [
             0.4,
             "#fde0ef"
            ],
            [
             0.5,
             "#f7f7f7"
            ],
            [
             0.6,
             "#e6f5d0"
            ],
            [
             0.7,
             "#b8e186"
            ],
            [
             0.8,
             "#7fbc41"
            ],
            [
             0.9,
             "#4d9221"
            ],
            [
             1,
             "#276419"
            ]
           ],
           "sequential": [
            [
             0,
             "#0d0887"
            ],
            [
             0.1111111111111111,
             "#46039f"
            ],
            [
             0.2222222222222222,
             "#7201a8"
            ],
            [
             0.3333333333333333,
             "#9c179e"
            ],
            [
             0.4444444444444444,
             "#bd3786"
            ],
            [
             0.5555555555555556,
             "#d8576b"
            ],
            [
             0.6666666666666666,
             "#ed7953"
            ],
            [
             0.7777777777777778,
             "#fb9f3a"
            ],
            [
             0.8888888888888888,
             "#fdca26"
            ],
            [
             1,
             "#f0f921"
            ]
           ],
           "sequentialminus": [
            [
             0,
             "#0d0887"
            ],
            [
             0.1111111111111111,
             "#46039f"
            ],
            [
             0.2222222222222222,
             "#7201a8"
            ],
            [
             0.3333333333333333,
             "#9c179e"
            ],
            [
             0.4444444444444444,
             "#bd3786"
            ],
            [
             0.5555555555555556,
             "#d8576b"
            ],
            [
             0.6666666666666666,
             "#ed7953"
            ],
            [
             0.7777777777777778,
             "#fb9f3a"
            ],
            [
             0.8888888888888888,
             "#fdca26"
            ],
            [
             1,
             "#f0f921"
            ]
           ]
          },
          "colorway": [
           "#636efa",
           "#EF553B",
           "#00cc96",
           "#ab63fa",
           "#FFA15A",
           "#19d3f3",
           "#FF6692",
           "#B6E880",
           "#FF97FF",
           "#FECB52"
          ],
          "font": {
           "color": "#2a3f5f"
          },
          "geo": {
           "bgcolor": "white",
           "lakecolor": "white",
           "landcolor": "#E5ECF6",
           "showlakes": true,
           "showland": true,
           "subunitcolor": "white"
          },
          "hoverlabel": {
           "align": "left"
          },
          "hovermode": "closest",
          "mapbox": {
           "style": "light"
          },
          "paper_bgcolor": "white",
          "plot_bgcolor": "#E5ECF6",
          "polar": {
           "angularaxis": {
            "gridcolor": "white",
            "linecolor": "white",
            "ticks": ""
           },
           "bgcolor": "#E5ECF6",
           "radialaxis": {
            "gridcolor": "white",
            "linecolor": "white",
            "ticks": ""
           }
          },
          "scene": {
           "xaxis": {
            "backgroundcolor": "#E5ECF6",
            "gridcolor": "white",
            "gridwidth": 2,
            "linecolor": "white",
            "showbackground": true,
            "ticks": "",
            "zerolinecolor": "white"
           },
           "yaxis": {
            "backgroundcolor": "#E5ECF6",
            "gridcolor": "white",
            "gridwidth": 2,
            "linecolor": "white",
            "showbackground": true,
            "ticks": "",
            "zerolinecolor": "white"
           },
           "zaxis": {
            "backgroundcolor": "#E5ECF6",
            "gridcolor": "white",
            "gridwidth": 2,
            "linecolor": "white",
            "showbackground": true,
            "ticks": "",
            "zerolinecolor": "white"
           }
          },
          "shapedefaults": {
           "line": {
            "color": "#2a3f5f"
           }
          },
          "ternary": {
           "aaxis": {
            "gridcolor": "white",
            "linecolor": "white",
            "ticks": ""
           },
           "baxis": {
            "gridcolor": "white",
            "linecolor": "white",
            "ticks": ""
           },
           "bgcolor": "#E5ECF6",
           "caxis": {
            "gridcolor": "white",
            "linecolor": "white",
            "ticks": ""
           }
          },
          "title": {
           "x": 0.05
          },
          "xaxis": {
           "automargin": true,
           "gridcolor": "white",
           "linecolor": "white",
           "ticks": "",
           "title": {
            "standoff": 15
           },
           "zerolinecolor": "white",
           "zerolinewidth": 2
          },
          "yaxis": {
           "automargin": true,
           "gridcolor": "white",
           "linecolor": "white",
           "ticks": "",
           "title": {
            "standoff": 15
           },
           "zerolinecolor": "white",
           "zerolinewidth": 2
          }
         }
        },
        "title": {
         "font": {
          "size": 20
         },
         "text": "Tm Energy Level Diagram",
         "x": 0.5,
         "y": 0.95
        },
        "width": 900,
        "xaxis": {
         "showgrid": false,
         "tickmode": "array",
         "tickvals": []
        },
        "yaxis": {
         "autorange": true,
         "showgrid": false,
         "tickfont": {
          "size": 13
         },
         "tickmode": "array",
         "ticktext": [
          "E0(3H6): 153",
          "E1(3F4): 5828",
          "E2(3H5): 8396",
          "E3(3H4): 12735",
          "E4(3F3): 14598",
          "E5(3F2): 15180",
          "E6(1G4): 21352",
          "E7(1D2): 28028",
          "E8(3P0): 34900",
          "E9(1I6): 35500",
          "E10(3P1): 36400",
          "E11(3P2): 38250"
         ],
         "tickvals": [
          153,
          5828,
          8396,
          12735,
          14598,
          15180,
          21352,
          28028,
          34900,
          35500,
          36400,
          38250
         ],
         "title": {
          "font": {
           "size": 20
          },
          "text": "Energy (cm⁻¹)"
         },
         "type": "linear"
        }
       }
      }
     },
     "metadata": {},
     "output_type": "display_data"
    }
   ],
   "source": [
    "\n",
    "diagram = EnergyLevelDiagram('Tm',Tm_energy)\n",
    "diagram.plot_diagram()"
   ]
  },
  {
   "cell_type": "markdown",
   "metadata": {},
   "source": [
    "# `2. def sorted_wavelength(energy_dict)`\n",
    "\n",
    "## Find sorted wavelength start from energy levels"
   ]
  },
  {
   "cell_type": "code",
   "execution_count": 3,
   "metadata": {},
   "outputs": [
    {
     "data": {
      "text/plain": [
       "{'E11(3P2)E0(3H6)': 262,\n",
       " 'E10(3P1)E0(3H6)': 276,\n",
       " 'E9(1I6)E0(3H6)': 283,\n",
       " 'E8(3P0)E0(3H6)': 288,\n",
       " 'E11(3P2)E1(3F4)': 308,\n",
       " 'E10(3P1)E1(3F4)': 327,\n",
       " 'E11(3P2)E2(3H5)': 335,\n",
       " 'E9(1I6)E1(3F4)': 337,\n",
       " 'E8(3P0)E1(3F4)': 344,\n",
       " 'E10(3P1)E2(3H5)': 357,\n",
       " 'E7(1D2)E0(3H6)': 359,\n",
       " 'E9(1I6)E2(3H5)': 369,\n",
       " 'E8(3P0)E2(3H5)': 377,\n",
       " 'E11(3P2)E3(3H4)': 392,\n",
       " 'E10(3P1)E3(3H4)': 423,\n",
       " 'E11(3P2)E4(3F3)': 423,\n",
       " 'E11(3P2)E5(3F2)': 433,\n",
       " 'E9(1I6)E3(3H4)': 439,\n",
       " 'E7(1D2)E1(3F4)': 450,\n",
       " 'E8(3P0)E3(3H4)': 451,\n",
       " 'E10(3P1)E4(3F3)': 459,\n",
       " 'E10(3P1)E5(3F2)': 471,\n",
       " 'E6(1G4)E0(3H6)': 472,\n",
       " 'E9(1I6)E4(3F3)': 478,\n",
       " 'E9(1I6)E5(3F2)': 492,\n",
       " 'E8(3P0)E4(3F3)': 493,\n",
       " 'E8(3P0)E5(3F2)': 507,\n",
       " 'E7(1D2)E2(3H5)': 509,\n",
       " 'E11(3P2)E6(1G4)': 592,\n",
       " 'E6(1G4)E1(3F4)': 644,\n",
       " 'E7(1D2)E3(3H4)': 654,\n",
       " 'E5(3F2)E0(3H6)': 665,\n",
       " 'E10(3P1)E6(1G4)': 665,\n",
       " 'E4(3F3)E0(3H6)': 692,\n",
       " 'E9(1I6)E6(1G4)': 707,\n",
       " 'E8(3P0)E6(1G4)': 738,\n",
       " 'E7(1D2)E4(3F3)': 745,\n",
       " 'E6(1G4)E2(3H5)': 772,\n",
       " 'E7(1D2)E5(3F2)': 778,\n",
       " 'E3(3H4)E0(3H6)': 795,\n",
       " 'E11(3P2)E7(1D2)': 978,\n",
       " 'E5(3F2)E1(3F4)': 1069,\n",
       " 'E4(3F3)E1(3F4)': 1140,\n",
       " 'E6(1G4)E3(3H4)': 1160,\n",
       " 'E10(3P1)E7(1D2)': 1194,\n",
       " 'E2(3H5)E0(3H6)': 1213,\n",
       " 'E9(1I6)E7(1D2)': 1338,\n",
       " 'E3(3H4)E1(3F4)': 1448,\n",
       " 'E8(3P0)E7(1D2)': 1455,\n",
       " 'E5(3F2)E2(3H5)': 1474,\n",
       " 'E6(1G4)E4(3F3)': 1481,\n",
       " 'E7(1D2)E6(1G4)': 1498,\n",
       " 'E4(3F3)E2(3H5)': 1612,\n",
       " 'E6(1G4)E5(3F2)': 1620,\n",
       " 'E1(3F4)E0(3H6)': 1762,\n",
       " 'E3(3H4)E2(3H5)': 2305,\n",
       " 'E11(3P2)E8(3P0)': 2985,\n",
       " 'E11(3P2)E9(1I6)': 3636,\n",
       " 'E2(3H5)E1(3F4)': 3894,\n",
       " 'E5(3F2)E3(3H4)': 4090,\n",
       " 'E4(3F3)E3(3H4)': 5368,\n",
       " 'E11(3P2)E10(3P1)': 5405,\n",
       " 'E10(3P1)E8(3P0)': 6667,\n",
       " 'E10(3P1)E9(1I6)': 11111,\n",
       " 'E9(1I6)E8(3P0)': 16667,\n",
       " 'E5(3F2)E4(3F3)': 17182}"
      ]
     },
     "execution_count": 3,
     "metadata": {},
     "output_type": "execute_result"
    }
   ],
   "source": [
    "sorted_Tm_wavelength = sorted_wavelength(Tm_energy)\n",
    "sorted_Tm_wavelength"
   ]
  },
  {
   "cell_type": "markdown",
   "metadata": {},
   "source": [
    "# `3. def find_transition(wavelength):`\n",
    "\n",
    "## Find corresponding transitions based on the selected wavelength ranges\n",
    "\n"
   ]
  },
  {
   "cell_type": "code",
   "execution_count": 4,
   "metadata": {},
   "outputs": [
    {
     "name": "stdout",
     "output_type": "stream",
     "text": [
      "\n",
      "For red (705.0 nm to 850.0 nm):\n",
      "Number of selected transitions: 6\n",
      "E9(1I6)E6(1G4): 707 nm\n",
      "E8(3P0)E6(1G4): 738 nm\n",
      "E7(1D2)E4(3F3): 745 nm\n",
      "E6(1G4)E2(3H5): 772 nm\n",
      "E7(1D2)E5(3F2): 778 nm\n",
      "E3(3H4)E0(3H6): 795 nm\n",
      "\n",
      "For blue (400.0 nm to 510.0 nm):\n",
      "Number of selected transitions: 14\n",
      "E10(3P1)E3(3H4): 423 nm\n",
      "E11(3P2)E4(3F3): 423 nm\n",
      "E11(3P2)E5(3F2): 433 nm\n",
      "E9(1I6)E3(3H4): 439 nm\n",
      "E7(1D2)E1(3F4): 450 nm\n",
      "E8(3P0)E3(3H4): 451 nm\n",
      "E10(3P1)E4(3F3): 459 nm\n",
      "E10(3P1)E5(3F2): 471 nm\n",
      "E6(1G4)E0(3H6): 472 nm\n",
      "E9(1I6)E4(3F3): 478 nm\n",
      "E9(1I6)E5(3F2): 492 nm\n",
      "E8(3P0)E4(3F3): 493 nm\n",
      "E8(3P0)E5(3F2): 507 nm\n",
      "E7(1D2)E2(3H5): 509 nm\n"
     ]
    },
    {
     "data": {
      "text/plain": [
       "{'red': {'E9(1I6)E6(1G4)': 707,\n",
       "  'E8(3P0)E6(1G4)': 738,\n",
       "  'E7(1D2)E4(3F3)': 745,\n",
       "  'E6(1G4)E2(3H5)': 772,\n",
       "  'E7(1D2)E5(3F2)': 778,\n",
       "  'E3(3H4)E0(3H6)': 795},\n",
       " 'blue': {'E10(3P1)E3(3H4)': 423,\n",
       "  'E11(3P2)E4(3F3)': 423,\n",
       "  'E11(3P2)E5(3F2)': 433,\n",
       "  'E9(1I6)E3(3H4)': 439,\n",
       "  'E7(1D2)E1(3F4)': 450,\n",
       "  'E8(3P0)E3(3H4)': 451,\n",
       "  'E10(3P1)E4(3F3)': 459,\n",
       "  'E10(3P1)E5(3F2)': 471,\n",
       "  'E6(1G4)E0(3H6)': 472,\n",
       "  'E9(1I6)E4(3F3)': 478,\n",
       "  'E9(1I6)E5(3F2)': 492,\n",
       "  'E8(3P0)E4(3F3)': 493,\n",
       "  'E8(3P0)E5(3F2)': 507,\n",
       "  'E7(1D2)E2(3H5)': 509}}"
      ]
     },
     "execution_count": 4,
     "metadata": {},
     "output_type": "execute_result"
    }
   ],
   "source": [
    "find_Tm_ED_transition = find_ED_transition(Tm_energy)\n",
    "find_Tm_ED_transition"
   ]
  },
  {
   "cell_type": "code",
   "execution_count": 5,
   "metadata": {},
   "outputs": [
    {
     "data": {
      "text/plain": [
       "[[('E0(3H6)', 153), ('E2(3H5)', 8396)],\n",
       " [('E1(3F4)', 5828), ('E4(3F3)', 14598)],\n",
       " [('E2(3H5)', 8396), ('E3(3H4)', 12735)],\n",
       " [('E4(3F3)', 14598), ('E5(3F2)', 15180)],\n",
       " [('E8(3P0)', 34900), ('E10(3P1)', 36400)],\n",
       " [('E10(3P1)', 36400), ('E11(3P2)', 38250)]]"
      ]
     },
     "execution_count": 5,
     "metadata": {},
     "output_type": "execute_result"
    }
   ],
   "source": [
    "find_Tm_MD_transition = find_MD_transition(Tm_energy)\n",
    "find_Tm_MD_transition"
   ]
  },
  {
   "cell_type": "markdown",
   "metadata": {},
   "source": [
    "# `4. class EnergyLevelDiagramArrow`\n",
    "\n",
    "## add the selected transitions to energy level diagram"
   ]
  },
  {
   "cell_type": "code",
   "execution_count": 7,
   "metadata": {},
   "outputs": [
    {
     "data": {
      "application/vnd.plotly.v1+json": {
       "config": {
        "plotlyServerURL": "https://plot.ly"
       },
       "data": [
        {
         "line": {
          "color": "black",
          "width": 2
         },
         "mode": "lines",
         "showlegend": false,
         "type": "scatter",
         "x": [
          0,
          1
         ],
         "y": [
          153,
          153
         ]
        },
        {
         "line": {
          "color": "black",
          "width": 2
         },
         "mode": "lines",
         "showlegend": false,
         "type": "scatter",
         "x": [
          0,
          1
         ],
         "y": [
          5828,
          5828
         ]
        },
        {
         "line": {
          "color": "black",
          "width": 2
         },
         "mode": "lines",
         "showlegend": false,
         "type": "scatter",
         "x": [
          0,
          1
         ],
         "y": [
          8396,
          8396
         ]
        },
        {
         "line": {
          "color": "black",
          "width": 2
         },
         "mode": "lines",
         "showlegend": false,
         "type": "scatter",
         "x": [
          0,
          1
         ],
         "y": [
          12735,
          12735
         ]
        },
        {
         "line": {
          "color": "black",
          "width": 2
         },
         "mode": "lines",
         "showlegend": false,
         "type": "scatter",
         "x": [
          0,
          1
         ],
         "y": [
          14598,
          14598
         ]
        },
        {
         "line": {
          "color": "black",
          "width": 2
         },
         "mode": "lines",
         "showlegend": false,
         "type": "scatter",
         "x": [
          0,
          1
         ],
         "y": [
          15180,
          15180
         ]
        },
        {
         "line": {
          "color": "black",
          "width": 2
         },
         "mode": "lines",
         "showlegend": false,
         "type": "scatter",
         "x": [
          0,
          1
         ],
         "y": [
          21352,
          21352
         ]
        },
        {
         "line": {
          "color": "black",
          "width": 2
         },
         "mode": "lines",
         "showlegend": false,
         "type": "scatter",
         "x": [
          0,
          1
         ],
         "y": [
          28028,
          28028
         ]
        },
        {
         "line": {
          "color": "black",
          "width": 2
         },
         "mode": "lines",
         "showlegend": false,
         "type": "scatter",
         "x": [
          0,
          1
         ],
         "y": [
          34900,
          34900
         ]
        },
        {
         "line": {
          "color": "black",
          "width": 2
         },
         "mode": "lines",
         "showlegend": false,
         "type": "scatter",
         "x": [
          0,
          1
         ],
         "y": [
          35500,
          35500
         ]
        },
        {
         "line": {
          "color": "black",
          "width": 2
         },
         "mode": "lines",
         "showlegend": false,
         "type": "scatter",
         "x": [
          0,
          1
         ],
         "y": [
          36400,
          36400
         ]
        },
        {
         "line": {
          "color": "black",
          "width": 2
         },
         "mode": "lines",
         "showlegend": false,
         "type": "scatter",
         "x": [
          0,
          1
         ],
         "y": [
          38250,
          38250
         ]
        },
        {
         "line": {
          "color": "red",
          "width": 2
         },
         "mode": "lines",
         "name": "Red emission (Selected ED)",
         "type": "scatter",
         "x": [
          null
         ],
         "y": [
          null
         ]
        },
        {
         "line": {
          "color": "blue",
          "width": 2
         },
         "mode": "lines",
         "name": "Blue emission (Selected ED)",
         "type": "scatter",
         "x": [
          null
         ],
         "y": [
          null
         ]
        },
        {
         "line": {
          "color": "orange",
          "width": 2
         },
         "mode": "lines",
         "name": "MPR",
         "type": "scatter",
         "x": [
          null
         ],
         "y": [
          null
         ]
        },
        {
         "line": {
          "color": "black",
          "width": 2
         },
         "mode": "lines",
         "name": "MD",
         "type": "scatter",
         "x": [
          null
         ],
         "y": [
          null
         ]
        }
       ],
       "layout": {
        "annotations": [
         {
          "arrowcolor": "orange",
          "arrowhead": 3,
          "arrowsize": 1,
          "arrowwidth": 2,
          "ax": 0.05,
          "axref": "x",
          "ay": 5828,
          "ayref": "y",
          "font": {
           "color": "orange",
           "size": 10
          },
          "showarrow": true,
          "text": "",
          "x": 0.05,
          "xref": "x",
          "y": 153,
          "yref": "y"
         },
         {
          "arrowcolor": "orange",
          "arrowhead": 3,
          "arrowsize": 1,
          "arrowwidth": 2,
          "ax": 0.05,
          "axref": "x",
          "ay": 8396,
          "ayref": "y",
          "font": {
           "color": "orange",
           "size": 10
          },
          "showarrow": true,
          "text": "",
          "x": 0.05,
          "xref": "x",
          "y": 5828,
          "yref": "y"
         },
         {
          "arrowcolor": "orange",
          "arrowhead": 3,
          "arrowsize": 1,
          "arrowwidth": 2,
          "ax": 0.05,
          "axref": "x",
          "ay": 12735,
          "ayref": "y",
          "font": {
           "color": "orange",
           "size": 10
          },
          "showarrow": true,
          "text": "",
          "x": 0.05,
          "xref": "x",
          "y": 8396,
          "yref": "y"
         },
         {
          "arrowcolor": "orange",
          "arrowhead": 3,
          "arrowsize": 1,
          "arrowwidth": 2,
          "ax": 0.05,
          "axref": "x",
          "ay": 14598,
          "ayref": "y",
          "font": {
           "color": "orange",
           "size": 10
          },
          "showarrow": true,
          "text": "",
          "x": 0.05,
          "xref": "x",
          "y": 12735,
          "yref": "y"
         },
         {
          "arrowcolor": "orange",
          "arrowhead": 3,
          "arrowsize": 1,
          "arrowwidth": 2,
          "ax": 0.05,
          "axref": "x",
          "ay": 15180,
          "ayref": "y",
          "font": {
           "color": "orange",
           "size": 10
          },
          "showarrow": true,
          "text": "",
          "x": 0.05,
          "xref": "x",
          "y": 14598,
          "yref": "y"
         },
         {
          "arrowcolor": "orange",
          "arrowhead": 3,
          "arrowsize": 1,
          "arrowwidth": 2,
          "ax": 0.05,
          "axref": "x",
          "ay": 21352,
          "ayref": "y",
          "font": {
           "color": "orange",
           "size": 10
          },
          "showarrow": true,
          "text": "",
          "x": 0.05,
          "xref": "x",
          "y": 15180,
          "yref": "y"
         },
         {
          "arrowcolor": "orange",
          "arrowhead": 3,
          "arrowsize": 1,
          "arrowwidth": 2,
          "ax": 0.05,
          "axref": "x",
          "ay": 28028,
          "ayref": "y",
          "font": {
           "color": "orange",
           "size": 10
          },
          "showarrow": true,
          "text": "",
          "x": 0.05,
          "xref": "x",
          "y": 21352,
          "yref": "y"
         },
         {
          "arrowcolor": "orange",
          "arrowhead": 3,
          "arrowsize": 1,
          "arrowwidth": 2,
          "ax": 0.05,
          "axref": "x",
          "ay": 34900,
          "ayref": "y",
          "font": {
           "color": "orange",
           "size": 10
          },
          "showarrow": true,
          "text": "",
          "x": 0.05,
          "xref": "x",
          "y": 28028,
          "yref": "y"
         },
         {
          "arrowcolor": "orange",
          "arrowhead": 3,
          "arrowsize": 1,
          "arrowwidth": 2,
          "ax": 0.05,
          "axref": "x",
          "ay": 35500,
          "ayref": "y",
          "font": {
           "color": "orange",
           "size": 10
          },
          "showarrow": true,
          "text": "",
          "x": 0.05,
          "xref": "x",
          "y": 34900,
          "yref": "y"
         },
         {
          "arrowcolor": "orange",
          "arrowhead": 3,
          "arrowsize": 1,
          "arrowwidth": 2,
          "ax": 0.05,
          "axref": "x",
          "ay": 36400,
          "ayref": "y",
          "font": {
           "color": "orange",
           "size": 10
          },
          "showarrow": true,
          "text": "",
          "x": 0.05,
          "xref": "x",
          "y": 35500,
          "yref": "y"
         },
         {
          "arrowcolor": "orange",
          "arrowhead": 3,
          "arrowsize": 1,
          "arrowwidth": 2,
          "ax": 0.05,
          "axref": "x",
          "ay": 38250,
          "ayref": "y",
          "font": {
           "color": "orange",
           "size": 10
          },
          "showarrow": true,
          "text": "",
          "x": 0.05,
          "xref": "x",
          "y": 36400,
          "yref": "y"
         },
         {
          "arrowcolor": "black",
          "arrowhead": 3,
          "arrowsize": 1,
          "arrowwidth": 2,
          "ax": 0.1,
          "axref": "x",
          "ay": 8396,
          "ayref": "y",
          "font": {
           "color": "black",
           "size": 10
          },
          "showarrow": true,
          "text": "",
          "x": 0.1,
          "xref": "x",
          "y": 153,
          "yref": "y"
         },
         {
          "arrowcolor": "black",
          "arrowhead": 3,
          "arrowsize": 1,
          "arrowwidth": 2,
          "ax": 0.13,
          "axref": "x",
          "ay": 14598,
          "ayref": "y",
          "font": {
           "color": "black",
           "size": 10
          },
          "showarrow": true,
          "text": "",
          "x": 0.13,
          "xref": "x",
          "y": 5828,
          "yref": "y"
         },
         {
          "arrowcolor": "black",
          "arrowhead": 3,
          "arrowsize": 1,
          "arrowwidth": 2,
          "ax": 0.16,
          "axref": "x",
          "ay": 12735,
          "ayref": "y",
          "font": {
           "color": "black",
           "size": 10
          },
          "showarrow": true,
          "text": "",
          "x": 0.16,
          "xref": "x",
          "y": 8396,
          "yref": "y"
         },
         {
          "arrowcolor": "black",
          "arrowhead": 3,
          "arrowsize": 1,
          "arrowwidth": 2,
          "ax": 0.19,
          "axref": "x",
          "ay": 15180,
          "ayref": "y",
          "font": {
           "color": "black",
           "size": 10
          },
          "showarrow": true,
          "text": "",
          "x": 0.19,
          "xref": "x",
          "y": 14598,
          "yref": "y"
         },
         {
          "arrowcolor": "black",
          "arrowhead": 3,
          "arrowsize": 1,
          "arrowwidth": 2,
          "ax": 0.22,
          "axref": "x",
          "ay": 36400,
          "ayref": "y",
          "font": {
           "color": "black",
           "size": 10
          },
          "showarrow": true,
          "text": "",
          "x": 0.22,
          "xref": "x",
          "y": 34900,
          "yref": "y"
         },
         {
          "arrowcolor": "black",
          "arrowhead": 3,
          "arrowsize": 1,
          "arrowwidth": 2,
          "ax": 0.25,
          "axref": "x",
          "ay": 38250,
          "ayref": "y",
          "font": {
           "color": "black",
           "size": 10
          },
          "showarrow": true,
          "text": "",
          "x": 0.25,
          "xref": "x",
          "y": 36400,
          "yref": "y"
         },
         {
          "arrowcolor": "red",
          "arrowhead": 3,
          "arrowsize": 1,
          "arrowwidth": 2,
          "ax": 0.3,
          "axref": "x",
          "ay": 35850,
          "ayref": "y",
          "font": {
           "color": "black",
           "size": 10
          },
          "showarrow": true,
          "text": "707",
          "x": 0.3,
          "xref": "x",
          "y": 21352,
          "yref": "y"
         },
         {
          "arrowcolor": "red",
          "arrowhead": 3,
          "arrowsize": 1,
          "arrowwidth": 2,
          "ax": 0.32999999999999996,
          "axref": "x",
          "ay": 35250,
          "ayref": "y",
          "font": {
           "color": "black",
           "size": 10
          },
          "showarrow": true,
          "text": "738",
          "x": 0.32999999999999996,
          "xref": "x",
          "y": 21352,
          "yref": "y"
         },
         {
          "arrowcolor": "red",
          "arrowhead": 3,
          "arrowsize": 1,
          "arrowwidth": 2,
          "ax": 0.36,
          "axref": "x",
          "ay": 28378,
          "ayref": "y",
          "font": {
           "color": "black",
           "size": 10
          },
          "showarrow": true,
          "text": "745",
          "x": 0.36,
          "xref": "x",
          "y": 14598,
          "yref": "y"
         },
         {
          "arrowcolor": "red",
          "arrowhead": 3,
          "arrowsize": 1,
          "arrowwidth": 2,
          "ax": 0.39,
          "axref": "x",
          "ay": 21702,
          "ayref": "y",
          "font": {
           "color": "black",
           "size": 10
          },
          "showarrow": true,
          "text": "772",
          "x": 0.39,
          "xref": "x",
          "y": 8396,
          "yref": "y"
         },
         {
          "arrowcolor": "red",
          "arrowhead": 3,
          "arrowsize": 1,
          "arrowwidth": 2,
          "ax": 0.42,
          "axref": "x",
          "ay": 28378,
          "ayref": "y",
          "font": {
           "color": "black",
           "size": 10
          },
          "showarrow": true,
          "text": "778",
          "x": 0.42,
          "xref": "x",
          "y": 15180,
          "yref": "y"
         },
         {
          "arrowcolor": "red",
          "arrowhead": 3,
          "arrowsize": 1,
          "arrowwidth": 2,
          "ax": 0.44999999999999996,
          "axref": "x",
          "ay": 13085,
          "ayref": "y",
          "font": {
           "color": "black",
           "size": 10
          },
          "showarrow": true,
          "text": "795",
          "x": 0.44999999999999996,
          "xref": "x",
          "y": 153,
          "yref": "y"
         },
         {
          "arrowcolor": "blue",
          "arrowhead": 3,
          "arrowsize": 1,
          "arrowwidth": 2,
          "ax": 0.48,
          "axref": "x",
          "ay": 36750,
          "ayref": "y",
          "font": {
           "color": "black",
           "size": 10
          },
          "showarrow": true,
          "text": "423",
          "x": 0.48,
          "xref": "x",
          "y": 12735,
          "yref": "y"
         },
         {
          "arrowcolor": "blue",
          "arrowhead": 3,
          "arrowsize": 1,
          "arrowwidth": 2,
          "ax": 0.51,
          "axref": "x",
          "ay": 38600,
          "ayref": "y",
          "font": {
           "color": "black",
           "size": 10
          },
          "showarrow": true,
          "text": "423",
          "x": 0.51,
          "xref": "x",
          "y": 14598,
          "yref": "y"
         },
         {
          "arrowcolor": "blue",
          "arrowhead": 3,
          "arrowsize": 1,
          "arrowwidth": 2,
          "ax": 0.54,
          "axref": "x",
          "ay": 38600,
          "ayref": "y",
          "font": {
           "color": "black",
           "size": 10
          },
          "showarrow": true,
          "text": "433",
          "x": 0.54,
          "xref": "x",
          "y": 15180,
          "yref": "y"
         },
         {
          "arrowcolor": "blue",
          "arrowhead": 3,
          "arrowsize": 1,
          "arrowwidth": 2,
          "ax": 0.5700000000000001,
          "axref": "x",
          "ay": 35850,
          "ayref": "y",
          "font": {
           "color": "black",
           "size": 10
          },
          "showarrow": true,
          "text": "439",
          "x": 0.5700000000000001,
          "xref": "x",
          "y": 12735,
          "yref": "y"
         },
         {
          "arrowcolor": "blue",
          "arrowhead": 3,
          "arrowsize": 1,
          "arrowwidth": 2,
          "ax": 0.6000000000000001,
          "axref": "x",
          "ay": 28378,
          "ayref": "y",
          "font": {
           "color": "black",
           "size": 10
          },
          "showarrow": true,
          "text": "450",
          "x": 0.6000000000000001,
          "xref": "x",
          "y": 5828,
          "yref": "y"
         },
         {
          "arrowcolor": "blue",
          "arrowhead": 3,
          "arrowsize": 1,
          "arrowwidth": 2,
          "ax": 0.6300000000000001,
          "axref": "x",
          "ay": 35250,
          "ayref": "y",
          "font": {
           "color": "black",
           "size": 10
          },
          "showarrow": true,
          "text": "451",
          "x": 0.6300000000000001,
          "xref": "x",
          "y": 12735,
          "yref": "y"
         },
         {
          "arrowcolor": "blue",
          "arrowhead": 3,
          "arrowsize": 1,
          "arrowwidth": 2,
          "ax": 0.6600000000000001,
          "axref": "x",
          "ay": 36750,
          "ayref": "y",
          "font": {
           "color": "black",
           "size": 10
          },
          "showarrow": true,
          "text": "459",
          "x": 0.6600000000000001,
          "xref": "x",
          "y": 14598,
          "yref": "y"
         },
         {
          "arrowcolor": "blue",
          "arrowhead": 3,
          "arrowsize": 1,
          "arrowwidth": 2,
          "ax": 0.6900000000000002,
          "axref": "x",
          "ay": 36750,
          "ayref": "y",
          "font": {
           "color": "black",
           "size": 10
          },
          "showarrow": true,
          "text": "471",
          "x": 0.6900000000000002,
          "xref": "x",
          "y": 15180,
          "yref": "y"
         },
         {
          "arrowcolor": "blue",
          "arrowhead": 3,
          "arrowsize": 1,
          "arrowwidth": 2,
          "ax": 0.7200000000000002,
          "axref": "x",
          "ay": 21702,
          "ayref": "y",
          "font": {
           "color": "black",
           "size": 10
          },
          "showarrow": true,
          "text": "472",
          "x": 0.7200000000000002,
          "xref": "x",
          "y": 153,
          "yref": "y"
         },
         {
          "arrowcolor": "blue",
          "arrowhead": 3,
          "arrowsize": 1,
          "arrowwidth": 2,
          "ax": 0.7500000000000002,
          "axref": "x",
          "ay": 35850,
          "ayref": "y",
          "font": {
           "color": "black",
           "size": 10
          },
          "showarrow": true,
          "text": "478",
          "x": 0.7500000000000002,
          "xref": "x",
          "y": 14598,
          "yref": "y"
         },
         {
          "arrowcolor": "blue",
          "arrowhead": 3,
          "arrowsize": 1,
          "arrowwidth": 2,
          "ax": 0.7800000000000002,
          "axref": "x",
          "ay": 35850,
          "ayref": "y",
          "font": {
           "color": "black",
           "size": 10
          },
          "showarrow": true,
          "text": "492",
          "x": 0.7800000000000002,
          "xref": "x",
          "y": 15180,
          "yref": "y"
         },
         {
          "arrowcolor": "blue",
          "arrowhead": 3,
          "arrowsize": 1,
          "arrowwidth": 2,
          "ax": 0.8100000000000003,
          "axref": "x",
          "ay": 35250,
          "ayref": "y",
          "font": {
           "color": "black",
           "size": 10
          },
          "showarrow": true,
          "text": "493",
          "x": 0.8100000000000003,
          "xref": "x",
          "y": 14598,
          "yref": "y"
         },
         {
          "arrowcolor": "blue",
          "arrowhead": 3,
          "arrowsize": 1,
          "arrowwidth": 2,
          "ax": 0.8400000000000003,
          "axref": "x",
          "ay": 35250,
          "ayref": "y",
          "font": {
           "color": "black",
           "size": 10
          },
          "showarrow": true,
          "text": "507",
          "x": 0.8400000000000003,
          "xref": "x",
          "y": 15180,
          "yref": "y"
         },
         {
          "arrowcolor": "blue",
          "arrowhead": 3,
          "arrowsize": 1,
          "arrowwidth": 2,
          "ax": 0.8700000000000003,
          "axref": "x",
          "ay": 28378,
          "ayref": "y",
          "font": {
           "color": "black",
           "size": 10
          },
          "showarrow": true,
          "text": "509",
          "x": 0.8700000000000003,
          "xref": "x",
          "y": 8396,
          "yref": "y"
         }
        ],
        "height": 1100,
        "plot_bgcolor": "white",
        "showlegend": true,
        "template": {
         "data": {
          "bar": [
           {
            "error_x": {
             "color": "#2a3f5f"
            },
            "error_y": {
             "color": "#2a3f5f"
            },
            "marker": {
             "line": {
              "color": "#E5ECF6",
              "width": 0.5
             },
             "pattern": {
              "fillmode": "overlay",
              "size": 10,
              "solidity": 0.2
             }
            },
            "type": "bar"
           }
          ],
          "barpolar": [
           {
            "marker": {
             "line": {
              "color": "#E5ECF6",
              "width": 0.5
             },
             "pattern": {
              "fillmode": "overlay",
              "size": 10,
              "solidity": 0.2
             }
            },
            "type": "barpolar"
           }
          ],
          "carpet": [
           {
            "aaxis": {
             "endlinecolor": "#2a3f5f",
             "gridcolor": "white",
             "linecolor": "white",
             "minorgridcolor": "white",
             "startlinecolor": "#2a3f5f"
            },
            "baxis": {
             "endlinecolor": "#2a3f5f",
             "gridcolor": "white",
             "linecolor": "white",
             "minorgridcolor": "white",
             "startlinecolor": "#2a3f5f"
            },
            "type": "carpet"
           }
          ],
          "choropleth": [
           {
            "colorbar": {
             "outlinewidth": 0,
             "ticks": ""
            },
            "type": "choropleth"
           }
          ],
          "contour": [
           {
            "colorbar": {
             "outlinewidth": 0,
             "ticks": ""
            },
            "colorscale": [
             [
              0,
              "#0d0887"
             ],
             [
              0.1111111111111111,
              "#46039f"
             ],
             [
              0.2222222222222222,
              "#7201a8"
             ],
             [
              0.3333333333333333,
              "#9c179e"
             ],
             [
              0.4444444444444444,
              "#bd3786"
             ],
             [
              0.5555555555555556,
              "#d8576b"
             ],
             [
              0.6666666666666666,
              "#ed7953"
             ],
             [
              0.7777777777777778,
              "#fb9f3a"
             ],
             [
              0.8888888888888888,
              "#fdca26"
             ],
             [
              1,
              "#f0f921"
             ]
            ],
            "type": "contour"
           }
          ],
          "contourcarpet": [
           {
            "colorbar": {
             "outlinewidth": 0,
             "ticks": ""
            },
            "type": "contourcarpet"
           }
          ],
          "heatmap": [
           {
            "colorbar": {
             "outlinewidth": 0,
             "ticks": ""
            },
            "colorscale": [
             [
              0,
              "#0d0887"
             ],
             [
              0.1111111111111111,
              "#46039f"
             ],
             [
              0.2222222222222222,
              "#7201a8"
             ],
             [
              0.3333333333333333,
              "#9c179e"
             ],
             [
              0.4444444444444444,
              "#bd3786"
             ],
             [
              0.5555555555555556,
              "#d8576b"
             ],
             [
              0.6666666666666666,
              "#ed7953"
             ],
             [
              0.7777777777777778,
              "#fb9f3a"
             ],
             [
              0.8888888888888888,
              "#fdca26"
             ],
             [
              1,
              "#f0f921"
             ]
            ],
            "type": "heatmap"
           }
          ],
          "heatmapgl": [
           {
            "colorbar": {
             "outlinewidth": 0,
             "ticks": ""
            },
            "colorscale": [
             [
              0,
              "#0d0887"
             ],
             [
              0.1111111111111111,
              "#46039f"
             ],
             [
              0.2222222222222222,
              "#7201a8"
             ],
             [
              0.3333333333333333,
              "#9c179e"
             ],
             [
              0.4444444444444444,
              "#bd3786"
             ],
             [
              0.5555555555555556,
              "#d8576b"
             ],
             [
              0.6666666666666666,
              "#ed7953"
             ],
             [
              0.7777777777777778,
              "#fb9f3a"
             ],
             [
              0.8888888888888888,
              "#fdca26"
             ],
             [
              1,
              "#f0f921"
             ]
            ],
            "type": "heatmapgl"
           }
          ],
          "histogram": [
           {
            "marker": {
             "pattern": {
              "fillmode": "overlay",
              "size": 10,
              "solidity": 0.2
             }
            },
            "type": "histogram"
           }
          ],
          "histogram2d": [
           {
            "colorbar": {
             "outlinewidth": 0,
             "ticks": ""
            },
            "colorscale": [
             [
              0,
              "#0d0887"
             ],
             [
              0.1111111111111111,
              "#46039f"
             ],
             [
              0.2222222222222222,
              "#7201a8"
             ],
             [
              0.3333333333333333,
              "#9c179e"
             ],
             [
              0.4444444444444444,
              "#bd3786"
             ],
             [
              0.5555555555555556,
              "#d8576b"
             ],
             [
              0.6666666666666666,
              "#ed7953"
             ],
             [
              0.7777777777777778,
              "#fb9f3a"
             ],
             [
              0.8888888888888888,
              "#fdca26"
             ],
             [
              1,
              "#f0f921"
             ]
            ],
            "type": "histogram2d"
           }
          ],
          "histogram2dcontour": [
           {
            "colorbar": {
             "outlinewidth": 0,
             "ticks": ""
            },
            "colorscale": [
             [
              0,
              "#0d0887"
             ],
             [
              0.1111111111111111,
              "#46039f"
             ],
             [
              0.2222222222222222,
              "#7201a8"
             ],
             [
              0.3333333333333333,
              "#9c179e"
             ],
             [
              0.4444444444444444,
              "#bd3786"
             ],
             [
              0.5555555555555556,
              "#d8576b"
             ],
             [
              0.6666666666666666,
              "#ed7953"
             ],
             [
              0.7777777777777778,
              "#fb9f3a"
             ],
             [
              0.8888888888888888,
              "#fdca26"
             ],
             [
              1,
              "#f0f921"
             ]
            ],
            "type": "histogram2dcontour"
           }
          ],
          "mesh3d": [
           {
            "colorbar": {
             "outlinewidth": 0,
             "ticks": ""
            },
            "type": "mesh3d"
           }
          ],
          "parcoords": [
           {
            "line": {
             "colorbar": {
              "outlinewidth": 0,
              "ticks": ""
             }
            },
            "type": "parcoords"
           }
          ],
          "pie": [
           {
            "automargin": true,
            "type": "pie"
           }
          ],
          "scatter": [
           {
            "fillpattern": {
             "fillmode": "overlay",
             "size": 10,
             "solidity": 0.2
            },
            "type": "scatter"
           }
          ],
          "scatter3d": [
           {
            "line": {
             "colorbar": {
              "outlinewidth": 0,
              "ticks": ""
             }
            },
            "marker": {
             "colorbar": {
              "outlinewidth": 0,
              "ticks": ""
             }
            },
            "type": "scatter3d"
           }
          ],
          "scattercarpet": [
           {
            "marker": {
             "colorbar": {
              "outlinewidth": 0,
              "ticks": ""
             }
            },
            "type": "scattercarpet"
           }
          ],
          "scattergeo": [
           {
            "marker": {
             "colorbar": {
              "outlinewidth": 0,
              "ticks": ""
             }
            },
            "type": "scattergeo"
           }
          ],
          "scattergl": [
           {
            "marker": {
             "colorbar": {
              "outlinewidth": 0,
              "ticks": ""
             }
            },
            "type": "scattergl"
           }
          ],
          "scattermapbox": [
           {
            "marker": {
             "colorbar": {
              "outlinewidth": 0,
              "ticks": ""
             }
            },
            "type": "scattermapbox"
           }
          ],
          "scatterpolar": [
           {
            "marker": {
             "colorbar": {
              "outlinewidth": 0,
              "ticks": ""
             }
            },
            "type": "scatterpolar"
           }
          ],
          "scatterpolargl": [
           {
            "marker": {
             "colorbar": {
              "outlinewidth": 0,
              "ticks": ""
             }
            },
            "type": "scatterpolargl"
           }
          ],
          "scatterternary": [
           {
            "marker": {
             "colorbar": {
              "outlinewidth": 0,
              "ticks": ""
             }
            },
            "type": "scatterternary"
           }
          ],
          "surface": [
           {
            "colorbar": {
             "outlinewidth": 0,
             "ticks": ""
            },
            "colorscale": [
             [
              0,
              "#0d0887"
             ],
             [
              0.1111111111111111,
              "#46039f"
             ],
             [
              0.2222222222222222,
              "#7201a8"
             ],
             [
              0.3333333333333333,
              "#9c179e"
             ],
             [
              0.4444444444444444,
              "#bd3786"
             ],
             [
              0.5555555555555556,
              "#d8576b"
             ],
             [
              0.6666666666666666,
              "#ed7953"
             ],
             [
              0.7777777777777778,
              "#fb9f3a"
             ],
             [
              0.8888888888888888,
              "#fdca26"
             ],
             [
              1,
              "#f0f921"
             ]
            ],
            "type": "surface"
           }
          ],
          "table": [
           {
            "cells": {
             "fill": {
              "color": "#EBF0F8"
             },
             "line": {
              "color": "white"
             }
            },
            "header": {
             "fill": {
              "color": "#C8D4E3"
             },
             "line": {
              "color": "white"
             }
            },
            "type": "table"
           }
          ]
         },
         "layout": {
          "annotationdefaults": {
           "arrowcolor": "#2a3f5f",
           "arrowhead": 0,
           "arrowwidth": 1
          },
          "autotypenumbers": "strict",
          "coloraxis": {
           "colorbar": {
            "outlinewidth": 0,
            "ticks": ""
           }
          },
          "colorscale": {
           "diverging": [
            [
             0,
             "#8e0152"
            ],
            [
             0.1,
             "#c51b7d"
            ],
            [
             0.2,
             "#de77ae"
            ],
            [
             0.3,
             "#f1b6da"
            ],
            [
             0.4,
             "#fde0ef"
            ],
            [
             0.5,
             "#f7f7f7"
            ],
            [
             0.6,
             "#e6f5d0"
            ],
            [
             0.7,
             "#b8e186"
            ],
            [
             0.8,
             "#7fbc41"
            ],
            [
             0.9,
             "#4d9221"
            ],
            [
             1,
             "#276419"
            ]
           ],
           "sequential": [
            [
             0,
             "#0d0887"
            ],
            [
             0.1111111111111111,
             "#46039f"
            ],
            [
             0.2222222222222222,
             "#7201a8"
            ],
            [
             0.3333333333333333,
             "#9c179e"
            ],
            [
             0.4444444444444444,
             "#bd3786"
            ],
            [
             0.5555555555555556,
             "#d8576b"
            ],
            [
             0.6666666666666666,
             "#ed7953"
            ],
            [
             0.7777777777777778,
             "#fb9f3a"
            ],
            [
             0.8888888888888888,
             "#fdca26"
            ],
            [
             1,
             "#f0f921"
            ]
           ],
           "sequentialminus": [
            [
             0,
             "#0d0887"
            ],
            [
             0.1111111111111111,
             "#46039f"
            ],
            [
             0.2222222222222222,
             "#7201a8"
            ],
            [
             0.3333333333333333,
             "#9c179e"
            ],
            [
             0.4444444444444444,
             "#bd3786"
            ],
            [
             0.5555555555555556,
             "#d8576b"
            ],
            [
             0.6666666666666666,
             "#ed7953"
            ],
            [
             0.7777777777777778,
             "#fb9f3a"
            ],
            [
             0.8888888888888888,
             "#fdca26"
            ],
            [
             1,
             "#f0f921"
            ]
           ]
          },
          "colorway": [
           "#636efa",
           "#EF553B",
           "#00cc96",
           "#ab63fa",
           "#FFA15A",
           "#19d3f3",
           "#FF6692",
           "#B6E880",
           "#FF97FF",
           "#FECB52"
          ],
          "font": {
           "color": "#2a3f5f"
          },
          "geo": {
           "bgcolor": "white",
           "lakecolor": "white",
           "landcolor": "#E5ECF6",
           "showlakes": true,
           "showland": true,
           "subunitcolor": "white"
          },
          "hoverlabel": {
           "align": "left"
          },
          "hovermode": "closest",
          "mapbox": {
           "style": "light"
          },
          "paper_bgcolor": "white",
          "plot_bgcolor": "#E5ECF6",
          "polar": {
           "angularaxis": {
            "gridcolor": "white",
            "linecolor": "white",
            "ticks": ""
           },
           "bgcolor": "#E5ECF6",
           "radialaxis": {
            "gridcolor": "white",
            "linecolor": "white",
            "ticks": ""
           }
          },
          "scene": {
           "xaxis": {
            "backgroundcolor": "#E5ECF6",
            "gridcolor": "white",
            "gridwidth": 2,
            "linecolor": "white",
            "showbackground": true,
            "ticks": "",
            "zerolinecolor": "white"
           },
           "yaxis": {
            "backgroundcolor": "#E5ECF6",
            "gridcolor": "white",
            "gridwidth": 2,
            "linecolor": "white",
            "showbackground": true,
            "ticks": "",
            "zerolinecolor": "white"
           },
           "zaxis": {
            "backgroundcolor": "#E5ECF6",
            "gridcolor": "white",
            "gridwidth": 2,
            "linecolor": "white",
            "showbackground": true,
            "ticks": "",
            "zerolinecolor": "white"
           }
          },
          "shapedefaults": {
           "line": {
            "color": "#2a3f5f"
           }
          },
          "ternary": {
           "aaxis": {
            "gridcolor": "white",
            "linecolor": "white",
            "ticks": ""
           },
           "baxis": {
            "gridcolor": "white",
            "linecolor": "white",
            "ticks": ""
           },
           "bgcolor": "#E5ECF6",
           "caxis": {
            "gridcolor": "white",
            "linecolor": "white",
            "ticks": ""
           }
          },
          "title": {
           "x": 0.05
          },
          "xaxis": {
           "automargin": true,
           "gridcolor": "white",
           "linecolor": "white",
           "ticks": "",
           "title": {
            "standoff": 15
           },
           "zerolinecolor": "white",
           "zerolinewidth": 2
          },
          "yaxis": {
           "automargin": true,
           "gridcolor": "white",
           "linecolor": "white",
           "ticks": "",
           "title": {
            "standoff": 15
           },
           "zerolinecolor": "white",
           "zerolinewidth": 2
          }
         }
        },
        "title": {
         "font": {
          "size": 20
         },
         "text": "Tm Energy Level Diagram",
         "x": 0.4,
         "y": 0.95
        },
        "width": 1200,
        "xaxis": {
         "showgrid": false,
         "tickmode": "array",
         "tickvals": []
        },
        "yaxis": {
         "autorange": true,
         "showgrid": false,
         "tickfont": {
          "size": 13
         },
         "tickmode": "array",
         "ticktext": [
          "E0(3H6): 153",
          "E1(3F4): 5828",
          "E2(3H5): 8396",
          "E3(3H4): 12735",
          "E4(3F3): 14598",
          "E5(3F2): 15180",
          "E6(1G4): 21352",
          "E7(1D2): 28028",
          "E8(3P0): 34900",
          "E9(1I6): 35500",
          "E10(3P1): 36400",
          "E11(3P2): 38250"
         ],
         "tickvals": [
          153,
          5828,
          8396,
          12735,
          14598,
          15180,
          21352,
          28028,
          34900,
          35500,
          36400,
          38250
         ],
         "title": {
          "font": {
           "size": 20
          },
          "text": "Energy (cm⁻¹)"
         },
         "type": "linear"
        }
       }
      }
     },
     "metadata": {},
     "output_type": "display_data"
    },
    {
     "data": {
      "text/plain": [
       "<EnergyLevelDiagram.EnergyLevelDiagramArrow at 0x115ab0710>"
      ]
     },
     "execution_count": 7,
     "metadata": {},
     "output_type": "execute_result"
    }
   ],
   "source": [
    "EnergyLevelDiagramArrow('Tm', Tm_energy, find_Tm_MD_transition, find_Tm_ED_transition)"
   ]
  },
  {
   "cell_type": "markdown",
   "metadata": {},
   "source": []
  },
  {
   "cell_type": "code",
   "execution_count": null,
   "metadata": {},
   "outputs": [],
   "source": []
  },
  {
   "cell_type": "code",
   "execution_count": null,
   "metadata": {},
   "outputs": [],
   "source": []
  },
  {
   "cell_type": "code",
   "execution_count": null,
   "metadata": {},
   "outputs": [],
   "source": []
  },
  {
   "cell_type": "code",
   "execution_count": null,
   "metadata": {},
   "outputs": [],
   "source": []
  },
  {
   "cell_type": "markdown",
   "metadata": {},
   "source": [
    "# $Er$ energy levels\n",
    "\n",
    "\n",
    "\n"
   ]
  },
  {
   "cell_type": "code",
   "execution_count": 81,
   "metadata": {},
   "outputs": [
    {
     "data": {
      "text/plain": [
       "{'E1E0': 6632,\n",
       " 'E2E0': 10230,\n",
       " 'E3E0': 12553,\n",
       " 'E4E0': 15306,\n",
       " 'E5E0': 18448,\n",
       " 'E6E0': 19246,\n",
       " 'E7E0': 20497,\n",
       " 'E8E0': 22282,\n",
       " 'E9E0': 22677,\n",
       " 'E10E0': 24475,\n",
       " 'E11E0': 26376,\n",
       " 'E12E0': 27319,\n",
       " 'E13E0': 27584,\n",
       " 'E14E0': 27825,\n",
       " 'E15E0': 31414,\n",
       " 'E2E1': 3598,\n",
       " 'E3E1': 5921,\n",
       " 'E4E1': 8674,\n",
       " 'E5E1': 11816,\n",
       " 'E6E1': 12614,\n",
       " 'E7E1': 13865,\n",
       " 'E8E1': 15650,\n",
       " 'E9E1': 16045,\n",
       " 'E10E1': 17843,\n",
       " 'E11E1': 19744,\n",
       " 'E12E1': 20687,\n",
       " 'E13E1': 20952,\n",
       " 'E14E1': 21193,\n",
       " 'E15E1': 24782,\n",
       " 'E3E2': 2323,\n",
       " 'E4E2': 5076,\n",
       " 'E5E2': 8218,\n",
       " 'E6E2': 9016,\n",
       " 'E7E2': 10267,\n",
       " 'E8E2': 12052,\n",
       " 'E9E2': 12447,\n",
       " 'E10E2': 14245,\n",
       " 'E11E2': 16146,\n",
       " 'E12E2': 17089,\n",
       " 'E13E2': 17354,\n",
       " 'E14E2': 17595,\n",
       " 'E15E2': 21184,\n",
       " 'E4E3': 2753,\n",
       " 'E5E3': 5895,\n",
       " 'E6E3': 6693,\n",
       " 'E7E3': 7944,\n",
       " 'E8E3': 9729,\n",
       " 'E9E3': 10124,\n",
       " 'E10E3': 11922,\n",
       " 'E11E3': 13823,\n",
       " 'E12E3': 14766,\n",
       " 'E13E3': 15031,\n",
       " 'E14E3': 15272,\n",
       " 'E15E3': 18861,\n",
       " 'E5E4': 3142,\n",
       " 'E6E4': 3940,\n",
       " 'E7E4': 5191,\n",
       " 'E8E4': 6976,\n",
       " 'E9E4': 7371,\n",
       " 'E10E4': 9169,\n",
       " 'E11E4': 11070,\n",
       " 'E12E4': 12013,\n",
       " 'E13E4': 12278,\n",
       " 'E14E4': 12519,\n",
       " 'E15E4': 16108,\n",
       " 'E6E5': 798,\n",
       " 'E7E5': 2049,\n",
       " 'E8E5': 3834,\n",
       " 'E9E5': 4229,\n",
       " 'E10E5': 6027,\n",
       " 'E11E5': 7928,\n",
       " 'E12E5': 8871,\n",
       " 'E13E5': 9136,\n",
       " 'E14E5': 9377,\n",
       " 'E15E5': 12966,\n",
       " 'E7E6': 1251,\n",
       " 'E8E6': 3036,\n",
       " 'E9E6': 3431,\n",
       " 'E10E6': 5229,\n",
       " 'E11E6': 7130,\n",
       " 'E12E6': 8073,\n",
       " 'E13E6': 8338,\n",
       " 'E14E6': 8579,\n",
       " 'E15E6': 12168,\n",
       " 'E8E7': 1785,\n",
       " 'E9E7': 2180,\n",
       " 'E10E7': 3978,\n",
       " 'E11E7': 5879,\n",
       " 'E12E7': 6822,\n",
       " 'E13E7': 7087,\n",
       " 'E14E7': 7328,\n",
       " 'E15E7': 10917,\n",
       " 'E9E8': 395,\n",
       " 'E10E8': 2193,\n",
       " 'E11E8': 4094,\n",
       " 'E12E8': 5037,\n",
       " 'E13E8': 5302,\n",
       " 'E14E8': 5543,\n",
       " 'E15E8': 9132,\n",
       " 'E10E9': 1798,\n",
       " 'E11E9': 3699,\n",
       " 'E12E9': 4642,\n",
       " 'E13E9': 4907,\n",
       " 'E14E9': 5148,\n",
       " 'E15E9': 8737,\n",
       " 'E11E10': 1901,\n",
       " 'E12E10': 2844,\n",
       " 'E13E10': 3109,\n",
       " 'E14E10': 3350,\n",
       " 'E15E10': 6939,\n",
       " 'E12E11': 943,\n",
       " 'E13E11': 1208,\n",
       " 'E14E11': 1449,\n",
       " 'E15E11': 5038,\n",
       " 'E13E12': 265,\n",
       " 'E14E12': 506,\n",
       " 'E15E12': 4095,\n",
       " 'E14E13': 241,\n",
       " 'E15E13': 3830,\n",
       " 'E15E14': 3589}"
      ]
     },
     "execution_count": 81,
     "metadata": {},
     "output_type": "execute_result"
    }
   ],
   "source": [
    "Er_energy_15 = {'E0':0, 'E1': 6632, 'E2': 10230, 'E3':12553, 'E4':15306, 'E5':18448, 'E6': 19246, 'E7':20497, 'E8':22282, 'E9':22677, 'E10':24475,\n",
    "                'E11':26376, 'E12':27319, 'E13':27584, 'E14':27825, 'E15':31414}\n",
    "\n",
    "Er_energy_gap_15 = calculate_energy_gaps(Er_energy_15)\n",
    "Er_energy_gap_15 "
   ]
  },
  {
   "cell_type": "code",
   "execution_count": 82,
   "metadata": {},
   "outputs": [
    {
     "data": {
      "text/plain": [
       "120"
      ]
     },
     "execution_count": 82,
     "metadata": {},
     "output_type": "execute_result"
    }
   ],
   "source": [
    "len(Er_energy_gap_15)"
   ]
  },
  {
   "cell_type": "code",
   "execution_count": 83,
   "metadata": {},
   "outputs": [
    {
     "name": "stdout",
     "output_type": "stream",
     "text": [
      "Er_green_500_600: {'E14E12': 506}\n",
      "1\n",
      "Er_red_620_750: {}\n",
      "0\n"
     ]
    }
   ],
   "source": [
    "\n",
    "Er_green_500_600 = {k: v for k, v in Er_energy_gap_15.items() if 500 < v < 600}\n",
    "\n",
    "Er_red_620_750 = {k: v for k, v in Er_energy_gap_15.items() if 620 < v < 750}\n",
    "\n",
    "print(\"Er_green_500_600:\", Er_green_500_600)\n",
    "print(len(Er_green_500_600))\n",
    "print(\"Er_red_620_750:\", Er_red_620_750)\n",
    "print(len(Er_red_620_750))\n"
   ]
  },
  {
   "cell_type": "code",
   "execution_count": 84,
   "metadata": {},
   "outputs": [],
   "source": [
    "Er_energy_15 = {'E0':0, 'E1': 6632, 'E2': 10230, 'E3':12553, 'E4':15306, 'E5':18448, 'E6': 19246, 'E7':20497, 'E8':22282, 'E9':22677, 'E10':24475,\n",
    "                'E11':26376, 'E12':27319, 'E13':27584, 'E14':27825, 'E15':31414}\n",
    "\n",
    "def calculate_energy_gaps(energy_dict):\n",
    "    keys = list(energy_dict.keys())\n",
    "    energy_gaps = {}\n",
    "    for i in range(len(keys)):\n",
    "        for j in range(i+1, len(keys)):\n",
    "            key_gap = f\"{keys[j]}{keys[i]}\"\n",
    "            energy_gaps[key_gap] = energy_dict[keys[j]] - energy_dict[keys[i]]\n",
    "\n",
    "    return energy_gaps\n"
   ]
  },
  {
   "cell_type": "code",
   "execution_count": 85,
   "metadata": {},
   "outputs": [
    {
     "data": {
      "text/plain": [
       "{'E1E0': 234.19357674668208,\n",
       " 'E2E1': 36.48214920947327,\n",
       " 'E2E0': 279.04878423290467,\n",
       " 'E3E2': 1.8348950804080335,\n",
       " 'E3E1': 106.47367263616786,\n",
       " 'E3E0': 284.5539682255383,\n",
       " 'E4E3': 3.758292820833475,\n",
       " 'E4E2': 130.54627421203003,\n",
       " 'E4E1': 119.88853577346649,\n",
       " 'E4E0': 2683.0097319032766,\n",
       " 'E5E4': 1.4592206971801525,\n",
       " 'E5E3': 123.52151701278059,\n",
       " 'E5E2': 76.77205292828604,\n",
       " 'E5E1': 1004.916870499008,\n",
       " 'E5E0': 2442.464381887624,\n",
       " 'E6E5': 0.06954615456844053,\n",
       " 'E6E4': 23.496081836421926,\n",
       " 'E6E3': 126.49636435131974,\n",
       " 'E6E2': 109.19583101346804,\n",
       " 'E6E1': 189.62696112029883,\n",
       " 'E6E0': 7474.855209508651,\n",
       " 'E7E6': 1.0875871593847235,\n",
       " 'E7E5': 0.05060088794638878,\n",
       " 'E7E4': 9.159551632749611,\n",
       " 'E7E3': 248.31533420826972,\n",
       " 'E7E2': 433.1301610708214,\n",
       " 'E7E1': 887.8824126146679,\n",
       " 'E7E0': 5995.916388325338,\n",
       " 'E8E7': 1.9366440337442885,\n",
       " 'E8E6': 8.15062647460899,\n",
       " 'E8E5': 1.234493223123385,\n",
       " 'E8E4': 250.63157068675014,\n",
       " 'E8E3': 200.04012960976218,\n",
       " 'E8E2': 231.49614773290102,\n",
       " 'E8E1': 2441.973198671484,\n",
       " 'E8E0': 2897.6878543659127,\n",
       " 'E9E8': 0.015852265098760566,\n",
       " 'E9E7': 1.2837348349717523,\n",
       " 'E9E6': 0.2530950964257081,\n",
       " 'E9E5': 5.984124972863224,\n",
       " 'E9E4': 45.09155465320311,\n",
       " 'E9E3': 573.2330217097451,\n",
       " 'E9E2': 2002.5487212643186,\n",
       " 'E9E1': 250.74361688945373,\n",
       " 'E9E0': 2609.970137190361,\n",
       " 'E10E9': 0.1311440723752023,\n",
       " 'E10E8': 0.4218399187951731,\n",
       " 'E10E7': 11.59806882019245,\n",
       " 'E10E6': 32.768078402353126,\n",
       " 'E10E5': 0.7139607667353927,\n",
       " 'E10E4': 44.309391209930574,\n",
       " 'E10E3': 43.752221452162864,\n",
       " 'E10E2': 568.3214214784786,\n",
       " 'E10E1': 2488.7542766804754,\n",
       " 'E10E0': 2546.9964221479136,\n",
       " 'E11E10': 3.0894963391169954,\n",
       " 'E11E9': 3.519848771136085,\n",
       " 'E11E8': 4.988291245154049,\n",
       " 'E11E7': 37.19433535204971,\n",
       " 'E11E6': 47.388850997873774,\n",
       " 'E11E5': 44.015932300761826,\n",
       " 'E11E4': 627.6846497690501,\n",
       " 'E11E3': 251.0202497372874,\n",
       " 'E11E2': 171.86278702755266,\n",
       " 'E11E1': 3305.6810206811233,\n",
       " 'E11E0': 24707.055575580296,\n",
       " 'E12E11': 0.23118242154399282,\n",
       " 'E12E10': 1.484985774184352,\n",
       " 'E12E9': 21.184816383394068,\n",
       " 'E12E8': 33.93019372015301,\n",
       " 'E12E7': 264.2580647055989,\n",
       " 'E12E6': 205.46499412138942,\n",
       " 'E12E5': 96.00461125498626,\n",
       " 'E12E4': 1351.461818048788,\n",
       " 'E12E3': 36.791113457986114,\n",
       " 'E12E2': 1194.7564076918486,\n",
       " 'E12E1': 14317.307215712615,\n",
       " 'E12E0': 5662.327363758994,\n",
       " 'E13E12': 0.0005943136216788753,\n",
       " 'E13E11': 0.7012151126875914,\n",
       " 'E13E10': 11.550222774733543,\n",
       " 'E13E9': 0.005197324213973688,\n",
       " 'E13E8': 3.0223985415091987,\n",
       " 'E13E7': 0.04889720989383956,\n",
       " 'E13E6': 335.2780794178507,\n",
       " 'E13E5': 1.073371071602318,\n",
       " 'E13E4': 81.12459255409088,\n",
       " 'E13E3': 522.3962535196482,\n",
       " 'E13E2': 762.7064893520134,\n",
       " 'E13E1': 113.56524222292883,\n",
       " 'E13E0': 1091.0598096521544,\n",
       " 'E14E13': 0.0016278205022790602,\n",
       " 'E14E12': 0.04304198598377692,\n",
       " 'E14E11': 0.30262846291337325,\n",
       " 'E14E10': 1.7154659504119394,\n",
       " 'E14E9': 23.766138112227182,\n",
       " 'E14E8': 102.34349123239036,\n",
       " 'E14E7': 93.12557552042617,\n",
       " 'E14E6': 171.70878716901072,\n",
       " 'E14E5': 185.6641202081686,\n",
       " 'E14E4': 38.109012792119714,\n",
       " 'E14E3': 2819.4892383899637,\n",
       " 'E14E2': 6348.791277435896,\n",
       " 'E14E1': 1210.1077347967155,\n",
       " 'E14E0': 2574.4989944814424,\n",
       " 'E15E14': 1.7950461651347167,\n",
       " 'E15E13': 2.6492487780150746,\n",
       " 'E15E12': 2.336360552723416,\n",
       " 'E15E11': 9.128015914100411,\n",
       " 'E15E10': 289.8268356989925,\n",
       " 'E15E9': 24.963551418888326,\n",
       " 'E15E8': 105.24556411524632,\n",
       " 'E15E7': 103.08015059113028,\n",
       " 'E15E6': 143.17156150867774,\n",
       " 'E15E5': 539.29059788968,\n",
       " 'E15E4': 427.2965461646275,\n",
       " 'E15E3': 659.5521665858909,\n",
       " 'E15E2': 2538.0332696896526,\n",
       " 'E15E1': 3957.993883532341,\n",
       " 'E15E0': 938.1878230957219}"
      ]
     },
     "execution_count": 85,
     "metadata": {},
     "output_type": "execute_result"
    }
   ],
   "source": [
    "constant = (64*3.14**4*(4.8*10**-10)**2)/(3*6.6261*10**-27)\n",
    "\n",
    "Er_omega={'2':2.11*10**-20, '4':1.37*10**-20, '6':1.22*10**-20}\n",
    "\n",
    "n=2\n",
    "n_term = (n*(n**2+2)**2)/9\n",
    "\n",
    "\n",
    "Er_energy_gap_15 = calculate_energy_gaps(Er_energy_15)\n",
    "\n",
    "Er_g_15={'E1E0':14,\n",
    "       'E2E1':12,'E2E0':12,\n",
    "       'E3E2':10,'E3E1':10,'E3E0':10,\n",
    "       'E4E3':10,'E4E2':10,'E4E1':10,'E4E0':10,\n",
    "       'E5E4':4,'E5E3':4,'E5E2':4,'E5E1':4,'E5E0':4,\n",
    "       'E6E5':12,'E6E4':12,'E6E3':12,'E6E2':12,'E6E1':12,'E6E0':12,\n",
    "       'E7E6':8,'E7E5':8,'E7E4':8,'E7E3':8,'E7E2':8,'E7E1':8,'E7E0':8,\n",
    "       'E8E7':6,'E8E6':6,'E8E5':6,'E8E4':6,'E8E3':6,'E8E2':6,'E8E1':6,'E8E0':6,\n",
    "       'E9E8':4,'E9E7':4,'E9E6':4,'E9E5':4,'E9E4':4,'E9E3':4,'E9E2':4,'E9E1':4,'E9E0':4,\n",
    "       'E10E9':10,'E10E8':10,'E10E7':10,'E10E6':10,'E10E5':10,'E10E4':10,'E10E3':10,'E10E2':10,'E10E1':10,'E10E0':10,\n",
    "       'E11E10':12,'E11E9':12,'E11E8':12,'E11E7':12,'E11E6':12,'E11E5':12,'E11E4':12,'E11E3':12,'E11E2':12,'E11E1':12,'E11E0':12,\n",
    "       'E12E11':10,'E12E10':10,'E12E9':10,'E12E8':10,'E12E7':10,'E12E6':10,'E12E5':10,'E12E4':10,'E12E3':10,'E12E2':10,'E12E1':10,'E12E0':10,\n",
    "       'E13E12':16, 'E13E11':16,'E13E10':16,'E13E9':16,'E13E8':16,'E13E7':16,'E13E6':16,'E13E5':16,'E13E4':16,'E13E3':16,'E13E2':16,'E13E1':16,'E13E0':16,\n",
    "       'E14E13':8, 'E14E12':8, 'E14E11':8,'E14E10':8,'E14E9':8,'E14E8':8,'E14E7':8,'E14E6':8,'E14E5':8,'E14E4':8,'E14E3':8,'E14E2':8,'E14E1':8,'E14E0':8,\n",
    "       'E15E14':4, 'E15E13':4, 'E15E12':4, 'E15E11':4,'E15E10':4,'E15E9':4,'E15E8':4,'E15E7':4,'E15E6':4,'E15E5':4,'E15E4':4,'E15E3':4,'E15E2':4,'E15E1':4,'E15E0':4,\n",
    "      }\n",
    "\n",
    "\n",
    "Er_RME_15={\n",
    "       'E1E0':[0.0195, 0.1173, 1.4316],\n",
    "       'E2E1':[0.0331, 0.1708, 1.0864],'E2E0':[0.0282, 0.0003, 0.3953],\n",
    "       'E3E2':[0.0030, 0.0674, 0.1271],'E3E1':[0.0004, 0.0106, 0.7162],'E3E0':[0, 0.1732, 0.0099],\n",
    "       'E4E3':[0.1279, 0.0059, 0.0281],'E4E2':[0.0704, 0.0112, 1.2839],'E4E1':[0.0101, 0.1533, 0.0714],'E4E0':[0, 0.5354, 0.4619],\n",
    "       'E5E4':[0, 0.0003, 0.0264],'E5E3':[0, 0.0788, 0.2542],'E5E2':[0, 0.0042, 0.0739],'E5E1':[0, 0, 0.3462],'E5E0':[0, 0, 0.2211],\n",
    "       'E6E5':[0, 0.1988, 0.0101],'E6E4':[0.3629, 0.0224, 0.0022],'E6E3':[0.2077, 0.0662, 0.2858],'E6E2':[0.0357, 0.1382, 0.0371],'E6E1':[0.0230, 0.0611, 0.0527],'E6E0':[0.7125, 0.4123, 0.0925],\n",
    "       'E7E6':[0.1229, 0.0153, 0.4017],'E7E5':[0.0001, 0.0058, 0],'E7E4':[0.0121, 0.0342, 0.0151],'E7E3':[0.0163, 0.0954, 0.4277],'E7E2':[0.0035, 0.2648, 0.1515],'E7E1':[0, 0.3371, 0.0001],'E7E0':[0, 0.1468, 0.6266],\n",
    "       'E8E7':[0.0765, 0.0503, 0.1015],'E8E6':[0, 0.0586, 0.1825],'E8E5':[0.0082, 0.0040, 0],'E8E4':[0.0004, 0.2415, 0.3575],'E8E3':[0.0107, 0.0576, 0.1020],'E8E2':[0, 0.0979, 0.0028],'E8E1':[0, 0.1783, 0.3429],'E8E0':[0, 0, 0.2233],\n",
    "       'E9E8':[0.0618, 0.0350, 0],'E9E7':[0.0028, 0.0584, 0],'E9E6':[0, 0.0005, 0.0030],'E9E5':[0.0260, 0, 0],'E9E4':[0, 0.0040, 0.0595],'E9E3':[0, 0.2299, 0.0558],'E9E2':[0, 0.0927, 0.4861],'E9E1':[0, 0, 0.0345],'E9E0':[0, 0, 0.1272],\n",
    "       'E10E9':[0, 0.0208, 0.0087],'E10E8':[0.0124,\t0.0259,\t0.0063],'E10E7':[0.1058, 0.0488, 0.0240],'E10E6':[0.0308, 0.1828, 0.0671],'E10E5':[0, 0.0019, 0.0025],'E10E4':[0.0055, 0.0314, 0.0369],'E10E3':[0.0147, 0.0062, 0.0043],'E10E2':[0.0428, 0.0824, 0.1128],'E10E1':[0.0780, 0.1194, 0.3535],'E10E0':[0, 0.0190, 0.2255],\n",
    "       'E11E10':[0.2906, 0.1170, 0.1328],'E11E9':[0, 0.0234, 0.0923],'E11E8':[0, 0.0378, 0.0815],'E11E7':[0.0877, 0.1287, 0.0159],'E11E6':[0.0004, 0.1539, 0.0494],'E11E5':[0, 0.1302, 0.0044],'E11E4':[0.4252, 0.0368, 0.0122],'E11E3':[0.0716, 0.0131, 0.0235],'E11E2':[0.0003, 0.0496, 0.0134],'E11E1':[0.1013, 0.2651, 0.2594],'E11E0':[0.9181, 0.5261, 0.1171],\n",
    "       'E12E11':[0.0005, 0.2021, 0.1639],'E12E10':[0.0269, 0, 0.0452],'E12E9':[0, 0.1710, 0.1089],'E12E8':[0.1630, 0.0824, 0.0028],'E12E7':[0.6062, 0.0088, 0.1243],'E12E6':[0.0218, 0.3274, 0.1495],'E12E5':[0, 0.1651, 0.0100],'E12E4':[0.2201, 0.3121, 0.3765],'E12E3':[0.0051, 0.0042, 0.0027],'E12E2':[0.0894, 0.1524, 0.0144],'E12E1':[1.0908, 0.3520, 0.0160],'E12E0':[0, 0.2415, 0.1234],\n",
    "       'E13E12':[0, 0.0114, 0.0598],'E13E11':[0.0965, 0.0595, 0.6706],'E13E10':[0, 0.7106, 0.0758],'E13E9':[0, 0, 0.0001],'E13E8':[0, 0, 0.0461],'E13E7':[0, 0.0001, 0.0002],'E13E6':[0.0977, 0.0001, 1.1458],'E13E5':[0, 0, 0.0032],'E13E4':[0, 0.0776, 0.0125],'E13E3':[0, 0.2221, 0.1003],'E13E2':[0.0468, 0.0018, 0.2488],'E13E1':[0.0001, 0.0016, 0.0261],'E13E0':[0.0219, 0.0041, 0.0757],\n",
    "       'E14E13':[0, 0.1154, 0.0026],'E14E12':[0.0041, 0.1891, 0.1582],'E14E11':[0.0150, 0.0604, 0.0193],'E14E10':[0.0145, 0.0056, 0.0205],'E14E9':[0.0941, 0.0314, 0],'E14E8':[0.3716, 0.0023, 0.0378],'E14E7':[0.1239, 0.0424, 0.0071],'E14E6':[0.0019, 0.0344, 0.2672],'E14E5':[0.0445, 0.1594, 0],'E14E4':[0.0003, 0.0078, 0.0128],'E14E3':[0.1586, 0.3607, 0.2204],'E14E2':[0.4934, 0.2708, 0.1674],'E14E1':[0, 0.1009, 0.0312],'E14E0':[0, 0.0174, 0.1163],\n",
    "       'E15E14':[0.0125, 0.0004, 0], 'E15E13':[0, 0, 0.0268],'E15E12':[0, 0.0125, 0.0053],'E15E11':[0, 0.0266, 0.0107],'E15E10':[0, 0.2083, 0.2591],'E15E9':[0.0123, 0, 0],'E15E8':[0.0173, 0.0433, 0],'E15E7':[0.0211, 0.0076, 0],'E15E6':[0, 0.0168, 0.0263],'E15E5':[0.0813, 0, 0],'E15E4':[0, 0.0464, 0.0060],'E15E3':[0, 0.0461, 0.0041],'E15E2':[0, 0.0995, 0.0400],'E15E1':[0, 0, 0.1478],'E15E0':[0, 0, 0.0172],\n",
    "       }\n",
    "\n",
    "\n",
    "def ED_cal(omega, RME, energy_gap, dic_g):\n",
    "\n",
    "    dic_ED={}\n",
    "\n",
    "    for key in RME:\n",
    "\n",
    "        S=omega['2']*RME[key][0]+omega['4']*RME[key][1]+omega['6']*RME[key][2]\n",
    "        dic_ED[key] = constant*(energy_gap[key]**3/dic_g[key])*n_term*S\n",
    "\n",
    "    return dic_ED\n",
    "\n",
    "Er_ED = ED_cal(Er_omega, Er_RME_15, Er_energy_gap_15, Er_g_15)\n",
    "Er_ED\n"
   ]
  },
  {
   "cell_type": "code",
   "execution_count": 37,
   "metadata": {},
   "outputs": [
    {
     "data": {
      "text/plain": [
       "120"
      ]
     },
     "execution_count": 37,
     "metadata": {},
     "output_type": "execute_result"
    }
   ],
   "source": [
    "len(Er_ED)"
   ]
  },
  {
   "cell_type": "code",
   "execution_count": 58,
   "metadata": {},
   "outputs": [
    {
     "name": "stdout",
     "output_type": "stream",
     "text": [
      "{'E1E0': 234.19357674668208, 'E2E1': 36.48214920947327, 'E2E0': 279.04878423290467, 'E3E2': 1.8348950804080335, 'E3E1': 106.47367263616786, 'E3E0': 284.5539682255383, 'E4E3': 3.758292820833475, 'E4E2': 130.54627421203003, 'E4E1': 119.88853577346649, 'E4E0': 2683.0097319032766, 'E5E4': 1.4592206971801525, 'E5E3': 123.52151701278059, 'E5E2': 76.77205292828604, 'E5E1': 1004.916870499008, 'E5E0': 2442.464381887624, 'E6E5': 0.06954615456844053, 'E6E4': 23.496081836421926, 'E6E3': 126.49636435131974, 'E6E2': 109.19583101346804, 'E6E1': 189.62696112029883, 'E6E0': 7474.855209508651, 'E7E6': 1.0875871593847235, 'E7E5': 0.05060088794638878, 'E7E4': 9.159551632749611, 'E7E3': 248.31533420826972, 'E7E2': 433.1301610708214, 'E7E1': 887.8824126146679, 'E7E0': 5995.916388325338, 'E8E7': 1.9366440337442885, 'E8E6': 8.15062647460899, 'E8E5': 1.234493223123385, 'E8E4': 250.63157068675014, 'E8E3': 200.04012960976218, 'E8E2': 231.49614773290102, 'E8E1': 2441.973198671484, 'E8E0': 2897.6878543659127, 'E9E8': 0.015852265098760566, 'E9E7': 1.2837348349717523, 'E9E6': 0.2530950964257081, 'E9E5': 5.984124972863224, 'E9E4': 45.09155465320311, 'E9E3': 573.2330217097451, 'E9E2': 2002.5487212643186, 'E9E1': 250.74361688945373, 'E9E0': 2609.970137190361, 'E10E9': 0.1311440723752023, 'E10E8': 0.4218399187951731, 'E10E7': 11.59806882019245, 'E10E6': 32.768078402353126, 'E10E5': 0.7139607667353927, 'E10E4': 44.309391209930574, 'E10E3': 43.752221452162864, 'E10E2': 568.3214214784786, 'E10E1': 2488.7542766804754, 'E10E0': 2546.9964221479136, 'E11E10': 3.0894963391169954, 'E11E9': 3.519848771136085, 'E11E8': 4.988291245154049, 'E11E7': 37.19433535204971, 'E11E6': 47.388850997873774, 'E11E5': 44.015932300761826, 'E11E4': 627.6846497690501, 'E11E3': 251.0202497372874, 'E11E2': 171.86278702755266, 'E11E1': 3305.6810206811233, 'E11E0': 24707.055575580296, 'E12E11': 0.23118242154399282, 'E12E10': 1.484985774184352, 'E12E9': 21.184816383394068, 'E12E8': 33.93019372015301, 'E12E7': 264.2580647055989, 'E12E6': 205.46499412138942, 'E12E5': 96.00461125498626, 'E12E4': 1351.461818048788, 'E12E3': 36.791113457986114, 'E12E2': 1194.7564076918486, 'E12E1': 14317.307215712615, 'E12E0': 5662.327363758994, 'E13E12': 0.0005943136216788753, 'E13E11': 0.7012151126875914, 'E13E10': 11.550222774733543, 'E13E9': 0.005197324213973688, 'E13E8': 3.0223985415091987, 'E13E7': 0.04889720989383956, 'E13E6': 335.2780794178507, 'E13E5': 1.073371071602318, 'E13E4': 81.12459255409088, 'E13E3': 522.3962535196482, 'E13E2': 762.7064893520134, 'E13E1': 113.56524222292883, 'E13E0': 1091.0598096521544, 'E14E13': 0.0016278205022790602, 'E14E12': 0.04304198598377692, 'E14E11': 0.30262846291337325, 'E14E10': 1.7154659504119394, 'E14E9': 23.766138112227182, 'E14E8': 102.34349123239036, 'E14E7': 93.12557552042617, 'E14E6': 171.70878716901072, 'E14E5': 185.6641202081686, 'E14E4': 38.109012792119714, 'E14E3': 2819.4892383899637, 'E14E2': 6348.791277435896, 'E14E1': 1210.1077347967155, 'E14E0': 2574.4989944814424, 'E15E14': 1.7950461651347167, 'E15E13': 2.6492487780150746, 'E15E12': 2.336360552723416, 'E15E11': 9.128015914100411, 'E15E10': 289.8268356989925, 'E15E9': 24.963551418888326, 'E15E8': 105.24556411524632, 'E15E7': 103.08015059113028, 'E15E6': 143.17156150867774, 'E15E5': 539.29059788968, 'E15E4': 427.2965461646275, 'E15E3': 659.5521665858909, 'E15E2': 2538.0332696896526, 'E15E1': 3957.993883532341, 'E15E0': 938.1878230957219}\n"
     ]
    }
   ],
   "source": [
    "print(Er_ED)"
   ]
  },
  {
   "cell_type": "code",
   "execution_count": null,
   "metadata": {},
   "outputs": [],
   "source": []
  },
  {
   "cell_type": "code",
   "execution_count": null,
   "metadata": {},
   "outputs": [],
   "source": []
  },
  {
   "cell_type": "code",
   "execution_count": null,
   "metadata": {},
   "outputs": [],
   "source": []
  },
  {
   "cell_type": "code",
   "execution_count": null,
   "metadata": {},
   "outputs": [],
   "source": []
  },
  {
   "cell_type": "code",
   "execution_count": 40,
   "metadata": {},
   "outputs": [
    {
     "data": {
      "text/plain": [
       "{'E39E0': 102.88065843621399,\n",
       " 'E38E0': 107.00909577314071,\n",
       " 'E39E1': 110.41427435738892,\n",
       " 'E39E2': 114.98217776244682,\n",
       " 'E38E1': 115.18348729526136,\n",
       " 'E39E3': 118.13767764953276,\n",
       " 'E38E2': 120.1634222542658,\n",
       " 'E39E4': 122.10906781937626,\n",
       " 'E38E3': 123.61397826866262,\n",
       " 'E39E5': 126.98090207232832,\n",
       " 'E38E4': 127.96887796887796,\n",
       " 'E39E6': 128.28078097339457,\n",
       " 'E39E7': 130.37299714483137,\n",
       " 'E38E5': 133.32977787259006,\n",
       " 'E39E8': 133.47927066926508,\n",
       " 'E39E9': 134.1867611341465,\n",
       " 'E38E6': 134.7636246024473,\n",
       " 'E38E7': 137.07455485038312,\n",
       " 'E39E10': 137.50429700928154,\n",
       " 'E38E8': 140.51258992805757,\n",
       " 'E39E11': 141.19507511577996,\n",
       " 'E38E9': 141.29682223446795,\n",
       " 'E39E12': 143.1004135601952,\n",
       " 'E39E13': 143.6451390484946,\n",
       " 'E37E0': 143.98848092152627,\n",
       " 'E39E14': 144.14414414414415,\n",
       " 'E38E10': 144.98006524102937,\n",
       " 'E38E11': 149.08906580791364,\n",
       " 'E38E12': 151.21501262645356,\n",
       " 'E38E13': 151.82339902225732,\n",
       " 'E39E15': 152.00802602377405,\n",
       " 'E38E14': 152.38095238095238,\n",
       " 'E36E0': 153.0221882172915,\n",
       " 'E39E16': 155.76323987538942,\n",
       " 'E39E17': 156.49452269170578,\n",
       " 'E39E18': 156.61707126076743,\n",
       " 'E39E19': 157.9778830963665,\n",
       " 'E35E0': 158.3531274742676,\n",
       " 'E37E1': 159.1900410710306,\n",
       " 'E39E20': 160.0,\n",
       " 'E38E15': 161.19672448255852,\n",
       " 'E39E21': 164.6090534979424,\n",
       " 'E38E16': 165.42597187758477,\n",
       " 'E38E17': 166.25103906899417,\n",
       " 'E38E18': 166.38935108153078,\n",
       " 'E38E19': 167.9261125104954,\n",
       " 'E37E2': 168.86187098953056,\n",
       " 'E38E20': 170.2127659574468,\n",
       " 'E39E22': 170.2127659574468,\n",
       " 'E36E1': 170.3055281174427,\n",
       " 'E39E23': 171.96904557179707,\n",
       " 'E38E21': 175.43859649122808,\n",
       " 'E37E3': 175.75619101182838,\n",
       " 'E35E1': 176.934781839414,\n",
       " 'E39E24': 177.61989342806393,\n",
       " 'E39E25': 179.85611510791367,\n",
       " 'E36E2': 181.42235123367198,\n",
       " 'E34E0': 181.48820326678765,\n",
       " 'E33E0': 181.65304268846504,\n",
       " 'E39E26': 181.65304268846504,\n",
       " 'E38E22': 181.8181818181818,\n",
       " 'E38E23': 183.8235294117647,\n",
       " 'E39E27': 183.99264029438822,\n",
       " 'E37E4': 184.69267139479905,\n",
       " 'E39E28': 186.56716417910448,\n",
       " 'E35E2': 188.96447467876038,\n",
       " 'E36E3': 189.40470102467944,\n",
       " 'E38E24': 190.29495718363464,\n",
       " 'E38E25': 192.86403085824494,\n",
       " 'E38E26': 194.9317738791423,\n",
       " 'E37E5': 196.07074232383044,\n",
       " 'E32E0': 196.46365422396858,\n",
       " 'E38E27': 197.62845849802372,\n",
       " 'E35E3': 197.64017629503726,\n",
       " 'E39E29': 199.00497512437812,\n",
       " 'E37E6': 199.18731575173294,\n",
       " 'E36E4': 199.82415474382543,\n",
       " 'E38E28': 200.60180541624874,\n",
       " 'E39E30': 202.22446916076845,\n",
       " 'E37E7': 204.27757236533,\n",
       " 'E31E0': 204.49897750511246,\n",
       " 'E34E1': 206.3216967896344,\n",
       " 'E33E1': 206.53475980007434,\n",
       " 'E39E31': 207.0393374741201,\n",
       " 'E35E4': 209.0126243625115,\n",
       " 'E30E0': 209.4240837696335,\n",
       " 'E37E8': 212.00814111261872,\n",
       " 'E29E0': 212.99254526091588,\n",
       " 'E36E5': 213.21052407146817,\n",
       " 'E37E9': 213.79855899771235,\n",
       " 'E38E29': 215.05376344086022,\n",
       " 'E39E32': 215.9827213822894,\n",
       " 'E36E6': 216.90091965989936,\n",
       " 'E38E30': 218.8183807439825,\n",
       " 'E37E10': 222.34574763757644,\n",
       " 'E34E2': 222.86605749944283,\n",
       " 'E36E7': 222.95052727799703,\n",
       " 'E33E2': 223.11468094600625,\n",
       " 'E35E5': 223.70363742114446,\n",
       " 'E38E31': 224.4668911335578,\n",
       " 'E32E1': 225.89681033703803,\n",
       " 'E35E6': 227.76967930029156,\n",
       " 'E28E0': 229.3577981651376,\n",
       " 'E37E11': 232.1586107628732,\n",
       " 'E36E8': 232.19095384043837,\n",
       " 'E27E0': 233.37222870478413,\n",
       " 'E36E9': 234.3402151243175,\n",
       " 'E35E7': 234.45009729679037,\n",
       " 'E38E32': 235.01762632197415,\n",
       " 'E34E3': 235.03419747573273,\n",
       " 'E33E3': 235.31072781608114,\n",
       " 'E31E1': 236.58559666887479,\n",
       " 'E26E0': 237.2479240806643,\n",
       " 'E39E33': 237.2479240806643,\n",
       " 'E37E12': 237.35491680710166,\n",
       " 'E39E34': 237.52969121140143,\n",
       " 'E37E13': 238.85730664501028,\n",
       " 'E37E14': 240.24024024024024,\n",
       " 'E25E0': 240.3846153846154,\n",
       " 'E30E1': 243.20249039350162,\n",
       " 'E24E0': 244.49877750611248,\n",
       " 'E36E10': 244.64831804281346,\n",
       " 'E35E8': 244.69022217872174,\n",
       " 'E32E2': 245.88148512417015,\n",
       " 'E35E9': 247.0782991129889,\n",
       " 'E29E1': 248.02817600079368,\n",
       " 'E34E4': 251.29416494948987,\n",
       " 'E33E4': 251.61030595813205,\n",
       " 'E23E0': 256.0819462227913,\n",
       " 'E36E11': 256.5813106173346,\n",
       " 'E35E10': 258.5649644473174,\n",
       " 'E31E2': 258.5983966899405,\n",
       " 'E22E0': 260.0780234070221,\n",
       " 'E38E33': 260.4166666666667,\n",
       " 'E38E34': 260.7561929595828,\n",
       " 'E32E3': 260.77659269303985,\n",
       " 'E37E15': 262.90882322010725,\n",
       " 'E36E12': 262.94338828850147,\n",
       " 'E36E13': 264.78843404120107,\n",
       " 'E36E14': 266.4890073284477,\n",
       " 'E30E2': 266.52452025586354,\n",
       " 'E28E1': 270.5042198658299,\n",
       " 'E35E11': 271.9312557785392,\n",
       " 'E29E2': 272.33115468409585,\n",
       " 'E34E5': 272.8364072901888,\n",
       " 'E33E5': 273.2091142560516,\n",
       " 'E21E0': 274.34842249657066,\n",
       " 'E37E16': 274.34842249657066,\n",
       " 'E31E3': 275.12587008556415,\n",
       " 'E27E1': 276.1058037439947,\n",
       " 'E37E17': 276.62517289073304,\n",
       " 'E37E18': 277.0083102493075,\n",
       " 'E34E6': 278.9089083505327,\n",
       " 'E35E12': 279.08794061008626,\n",
       " 'E33E6': 279.2984024131382,\n",
       " 'E32E4': 280.94622689217283,\n",
       " 'E35E13': 281.167407074172,\n",
       " 'E37E19': 281.29395218002816,\n",
       " 'E26E1': 281.5473844247987,\n",
       " 'E35E14': 283.0856334041047,\n",
       " 'E30E3': 284.11512344802117,\n",
       " 'E25E1': 285.9757492564631,\n",
       " 'E37E20': 287.76978417266184,\n",
       " 'E20E0': 288.1844380403458,\n",
       " 'E34E7': 288.99228390601974,\n",
       " 'E33E7': 289.4104708708361,\n",
       " 'E29E3': 290.72302817106146,\n",
       " 'E24E1': 291.8174390101552,\n",
       " 'E39E35': 293.68575624082234,\n",
       " 'E36E15': 294.6723243752947,\n",
       " 'E19E0': 294.9852507374631,\n",
       " 'E31E4': 297.67220336964937,\n",
       " 'E28E2': 299.6703626011387,\n",
       " 'E18E0': 299.85007496251876,\n",
       " 'E17E0': 300.3003003003003,\n",
       " 'E16E0': 303.030303030303,\n",
       " 'E37E21': 303.030303030303,\n",
       " 'E34E8': 304.7108294228777,\n",
       " 'E33E8': 305.17578125,\n",
       " 'E27E2': 306.5603923973023,\n",
       " 'E32E5': 308.14741772463947,\n",
       " 'E30E4': 308.22340032055234,\n",
       " 'E34E9': 308.42303303210684,\n",
       " 'E23E1': 308.47060275155775,\n",
       " 'E33E9': 308.8993914681988,\n",
       " 'E36E16': 309.1190108191654,\n",
       " 'E36E17': 312.01248049922,\n",
       " 'E36E18': 312.5,\n",
       " 'E26E2': 313.28320802005015,\n",
       " 'E39E36': 313.9717425431711,\n",
       " 'E22E1': 314.2875102143441,\n",
       " 'E35E15': 315.0995714645828,\n",
       " 'E32E6': 315.91584002021864,\n",
       " 'E29E4': 316.0156743774491,\n",
       " 'E36E19': 317.9650238473768,\n",
       " 'E15E0': 318.3294072706437,\n",
       " 'E25E2': 318.77590054191904,\n",
       " 'E28E3': 322.09231165652074,\n",
       " 'E37E22': 322.5806451612903,\n",
       " 'E24E2': 326.0515161395501,\n",
       " 'E36E20': 326.2642740619902,\n",
       " 'E34E10': 326.53061224489795,\n",
       " 'E33E10': 327.0645952575634,\n",
       " 'E31E5': 328.3856561145409,\n",
       " 'E32E7': 328.9149097128573,\n",
       " 'E37E23': 328.94736842105266,\n",
       " 'E38E35': 330.03300330033005,\n",
       " 'E27E3': 330.06568307093113,\n",
       " 'E35E16': 331.6749585406302,\n",
       " 'E35E17': 335.00837520938023,\n",
       " 'E21E1': 335.3678985847475,\n",
       " 'E35E18': 335.5704697986577,\n",
       " 'E31E6': 337.2226343832198,\n",
       " 'E26E3': 337.8720816298949,\n",
       " 'E30E5': 341.27363319909904,\n",
       " 'E35E19': 341.88034188034186,\n",
       " 'E25E3': 344.26963197576345,\n",
       " 'E36E21': 346.02076124567475,\n",
       " 'E23E2': 346.98126301179735,\n",
       " 'E34E11': 348.1409274474307,\n",
       " 'E33E11': 348.74799469903047,\n",
       " 'E32E8': 349.4304284017052,\n",
       " 'E37E24': 350.2626970227671,\n",
       " 'E30E6': 350.82795397137244,\n",
       " 'E29E5': 350.85257174935094,\n",
       " 'E35E20': 351.493848857645,\n",
       " 'E31E7': 352.0754849839806,\n",
       " 'E24E3': 352.77101633329806,\n",
       " 'E28E4': 353.43182300134305,\n",
       " 'E32E9': 354.3209439109946,\n",
       " 'E22E2': 354.3586109142452,\n",
       " 'E38E36': 355.87188612099646,\n",
       " 'E20E1': 356.2776115148924,\n",
       " 'E37E25': 359.0664272890485,\n",
       " 'E14E0': 359.38903863432165,\n",
       " 'E34E12': 359.95824484359815,\n",
       " 'E39E37': 360.36036036036035,\n",
       " 'E33E12': 360.60726263026936,\n",
       " 'E29E6': 360.9587063239965,\n",
       " 'E13E0': 362.5290023201856,\n",
       " 'E27E4': 363.05547487656116,\n",
       " 'E34E13': 363.4249164122692,\n",
       " 'E33E13': 364.0865069540523,\n",
       " 'E12E0': 366.04560928291664,\n",
       " 'E37E26': 366.3003663003663,\n",
       " 'E34E14': 366.6361136571952,\n",
       " 'E19E1': 366.73023324042833,\n",
       " 'E30E7': 366.93208087183064,\n",
       " 'E33E14': 367.30945821854914,\n",
       " 'E36E22': 371.74721189591077,\n",
       " 'E26E4': 372.52272388615705,\n",
       " 'E18E1': 374.27951193951645,\n",
       " 'E35E21': 374.53183520599254,\n",
       " 'E17E1': 374.9812509374531,\n",
       " 'E31E8': 375.68562626793897,\n",
       " 'E37E27': 375.9398496240602,\n",
       " 'E23E3': 377.40121523191306,\n",
       " 'E29E7': 378.0289570181076,\n",
       " 'E32E10': 378.4295175023652,\n",
       " 'E11E0': 379.1325447376403,\n",
       " 'E16E1': 379.247572815534,\n",
       " 'E36E23': 380.22813688212926,\n",
       " 'E25E4': 380.3149007378109,\n",
       " 'E31E9': 381.3446211341189,\n",
       " 'E21E2': 381.38825324180016,\n",
       " 'E22E3': 386.14511333359076,\n",
       " 'E37E28': 386.84719535783364,\n",
       " 'E24E4': 390.7165741970774,\n",
       " 'E30E8': 392.64959949740853,\n",
       " 'E28E5': 397.5826972010178,\n",
       " 'E30E9': 398.83540063015994,\n",
       " 'E15E1': 403.518682915019,\n",
       " 'E35E22': 404.8582995951417,\n",
       " 'E29E8': 405.3834927841738,\n",
       " 'E32E11': 407.76382319360624,\n",
       " 'E10E0': 408.58018386108273,\n",
       " 'E20E2': 408.6636697997548,\n",
       " 'E36E24': 408.9979550102249,\n",
       " 'E31E10': 409.41658137154553,\n",
       " 'E27E5': 409.80247520695025,\n",
       " 'E28E6': 410.61016670772767,\n",
       " 'E29E9': 411.9803897334487,\n",
       " 'E35E23': 414.9377593360996,\n",
       " 'E38E37': 416.6666666666667,\n",
       " 'E21E3': 418.4625685232456,\n",
       " 'E36E25': 421.05263157894734,\n",
       " 'E23E4': 421.1590296495957,\n",
       " 'E26E5': 421.9053244451945,\n",
       " 'E34E15': 422.1903233977877,\n",
       " 'E19E2': 422.4757076468103,\n",
       " 'E33E15': 423.0834320528008,\n",
       " 'E27E6': 423.6570072869005,\n",
       " 'E32E12': 424.0702260294305,\n",
       " 'E32E13': 428.8900325956425,\n",
       " 'E30E10': 429.64554242749733,\n",
       " 'E36E26': 431.0344827586207,\n",
       " 'E25E5': 431.9281271596406,\n",
       " 'E22E4': 432.07742827514693,\n",
       " 'E18E2': 432.52595155709344,\n",
       " 'E28E7': 432.8442193654504,\n",
       " 'E32E14': 433.3694474539545,\n",
       " 'E17E2': 433.4633723450368,\n",
       " 'E26E6': 436.6049598323437,\n",
       " 'E16E2': 439.17435221783046,\n",
       " 'E9E0': 440.9754376681219,\n",
       " 'E31E11': 443.9708755105665,\n",
       " 'E36E27': 444.44444444444446,\n",
       " 'E37E29': 444.44444444444446,\n",
       " 'E29E10': 444.9388209121246,\n",
       " 'E24E5': 445.3946196329948,\n",
       " 'E25E6': 447.3472309206406,\n",
       " 'E27E7': 447.3672437704111,\n",
       " 'E8E0': 448.79274750920024,\n",
       " 'E35E24': 449.438202247191,\n",
       " 'E20E3': 451.52842371427283,\n",
       " 'E34E16': 452.4886877828054,\n",
       " 'E33E16': 453.51473922902494,\n",
       " 'E34E17': 458.7155963302752,\n",
       " 'E33E17': 459.7701149425287,\n",
       " 'E34E18': 459.7701149425287,\n",
       " 'E36E28': 459.7701149425287,\n",
       " 'E33E18': 460.8294930875576,\n",
       " 'E37E30': 460.8294930875576,\n",
       " 'E24E6': 461.80844185831717,\n",
       " 'E26E7': 461.829769546945,\n",
       " 'E31E12': 463.3705574347806,\n",
       " 'E35E25': 464.0371229698376,\n",
       " 'E30E11': 467.8581454103116,\n",
       " 'E19E3': 468.44989928327163,\n",
       " 'E28E8': 469.08715639365795,\n",
       " 'E31E13': 469.13116907487336,\n",
       " 'E34E19': 471.6981132075472,\n",
       " 'E14E1': 471.8539140282169,\n",
       " 'E15E2': 472.05438066465257,\n",
       " 'E33E19': 472.8132387706856,\n",
       " 'E21E4': 472.9474082482028,\n",
       " 'E25E7': 473.8662749372127,\n",
       " 'E31E14': 474.4958481613286,\n",
       " 'E35E26': 476.1904761904762,\n",
       " 'E13E1': 477.28140511645665,\n",
       " 'E28E9': 477.9429336137265,\n",
       " 'E18E3': 480.83858248785884,\n",
       " 'E17E3': 481.99739721405507,\n",
       " 'E12E1': 483.3953690723643,\n",
       " 'E23E5': 485.3897679836909,\n",
       " 'E29E11': 486.050354816759,\n",
       " 'E27E8': 486.19214313496695,\n",
       " 'E37E31': 486.61800486618006,\n",
       " 'E7E0': 487.87627457676734,\n",
       " 'E16E3': 489.0693011199687,\n",
       " 'E30E12': 489.45230287308505,\n",
       " 'E24E7': 490.1240013723472,\n",
       " 'E34E20': 490.19607843137254,\n",
       " 'E33E20': 491.4004914004914,\n",
       " 'E35E27': 492.61083743842363,\n",
       " 'E27E9': 495.7120904178853,\n",
       " 'E30E13': 495.884161459883,\n",
       " 'E22E5': 499.95000499950004,\n",
       " 'E30E14': 501.88205771643663,\n",
       " 'E26E8': 503.32192470304005,\n",
       " 'E23E6': 504.94849525348417,\n",
       " 'E11E1': 506.48298217179905,\n",
       " 'E29E12': 509.3984004890225,\n",
       " 'E35E28': 511.5089514066496,\n",
       " 'E32E15': 513.1889561736631,\n",
       " 'E26E9': 513.5315565141478,\n",
       " 'E20E4': 515.6233886769104,\n",
       " 'E29E13': 516.3688939378292,\n",
       " 'E25E8': 517.651930841702,\n",
       " 'E6E0': 519.588485919152,\n",
       " 'E22E6': 520.7248489897938,\n",
       " 'E28E10': 522.875816993464,\n",
       " 'E29E14': 522.875816993464,\n",
       " 'E25E9': 528.4574327537916,\n",
       " 'E15E3': 530.194581411378,\n",
       " 'E34E21': 536.1930294906166,\n",
       " 'E24E8': 537.1146202599634,\n",
       " 'E33E21': 537.6344086021505,\n",
       " 'E19E4': 537.8078950198989,\n",
       " 'E23E7': 538.9963887241955,\n",
       " 'E37E32': 539.0835579514825,\n",
       " 'E5E0': 542.0641803989593,\n",
       " 'E36E29': 543.4782608695652,\n",
       " 'E27E10': 544.2176870748299,\n",
       " 'E24E9': 548.7570652472151,\n",
       " 'E18E4': 554.2008423852805,\n",
       " 'E21E5': 555.4938340184424,\n",
       " 'E17E4': 555.7408024897188,\n",
       " 'E22E7': 557.0099704784716,\n",
       " 'E32E16': 558.659217877095,\n",
       " 'E10E1': 560.4438715462646,\n",
       " 'E16E4': 565.1633322030067,\n",
       " 'E26E10': 565.7708628005657,\n",
       " 'E32E17': 568.1818181818181,\n",
       " 'E36E30': 568.1818181818181,\n",
       " 'E14E2': 568.3432793407218,\n",
       " 'E32E18': 569.8005698005697,\n",
       " 'E31E15': 571.8860802928057,\n",
       " 'E13E2': 576.2360262763628,\n",
       " 'E28E11': 580.5852299117511,\n",
       " 'E21E6': 581.2601720530109,\n",
       " 'E25E10': 583.9416058394161,\n",
       " 'E12E2': 585.171747908011,\n",
       " 'E32E19': 588.2352941176471,\n",
       " 'E23E8': 596.3740458015267,\n",
       " 'E34E22': 600.6006006006006,\n",
       " 'E33E22': 602.4096385542168,\n",
       " 'E27E11': 607.0171178827243,\n",
       " 'E36E31': 607.90273556231,\n",
       " 'E24E10': 608.8280060882801,\n",
       " 'E23E9': 610.7616197398155,\n",
       " 'E30E15': 612.1449559255632,\n",
       " 'E28E12': 614.2128861863522,\n",
       " 'E20E5': 615.3088850603003,\n",
       " 'E32E20': 617.283950617284,\n",
       " 'E35E29': 617.283950617284,\n",
       " 'E22E8': 618.5056902523503,\n",
       " 'E11E2': 619.3484454354019,\n",
       " 'E15E4': 620.8095356344674,\n",
       " 'E34E23': 623.0529595015577,\n",
       " 'E9E1': 623.2471174820816,\n",
       " 'E28E13': 624.3756243756244,\n",
       " 'E33E23': 625.0,\n",
       " 'E21E7': 626.8413464552121,\n",
       " 'E31E16': 628.930817610063,\n",
       " 'E28E14': 633.9144215530903,\n",
       " 'E26E11': 633.9546088500064,\n",
       " 'E22E9': 633.9948012426298,\n",
       " 'E8E1': 638.9776357827476,\n",
       " 'E31E17': 641.025641025641,\n",
       " 'E31E18': 643.0868167202573,\n",
       " 'E29E15': 643.6663233779609,\n",
       " 'E27E12': 643.8735432361084,\n",
       " 'E20E6': 647.0816617057072,\n",
       " 'E19E5': 647.1654154801968,\n",
       " 'E35E30': 649.3506493506494,\n",
       " 'E4E0': 653.3385600418137,\n",
       " 'E14E3': 654.7930853850183,\n",
       " 'E27E13': 655.0504388837941,\n",
       " 'E25E11': 656.8575932737782,\n",
       " 'E13E3': 665.2917304237908,\n",
       " 'E27E14': 665.5574043261231,\n",
       " 'E31E19': 666.6666666666666,\n",
       " 'E18E5': 671.0508656556167,\n",
       " 'E17E5': 673.3099919202801,\n",
       " 'E26E12': 674.2633672712561,\n",
       " 'E12E3': 677.2314777190844,\n",
       " 'E30E16': 677.9661016949152,\n",
       " 'E19E6': 682.4075337791729,\n",
       " 'E23E10': 686.106346483705,\n",
       " 'E26E13': 686.530275985171,\n",
       " 'E16E5': 687.1907641561297,\n",
       " 'E24E11': 688.5155604516663,\n",
       " 'E30E17': 692.0415224913495,\n",
       " 'E32E21': 692.0415224913495,\n",
       " 'E36E32': 692.0415224913495,\n",
       " 'E30E18': 694.4444444444445,\n",
       " 'E37E33': 694.4444444444445,\n",
       " 'E37E34': 696.8641114982578,\n",
       " 'E26E14': 698.0802792321117,\n",
       " 'E25E12': 700.2310762551642,\n",
       " 'E35E31': 701.7543859649123,\n",
       " 'E10E2': 702.000702000702,\n",
       " 'E20E7': 704.0766035344645,\n",
       " 'E31E20': 704.2253521126761,\n",
       " 'E34E24': 704.2253521126761,\n",
       " 'E21E8': 705.8159232072276,\n",
       " 'E33E24': 706.7137809187279,\n",
       " 'E18E6': 709.0187180941576,\n",
       " 'E17E6': 711.5411982353778,\n",
       " 'E25E13': 713.4703196347032,\n",
       " 'E22E10': 715.5635062611807,\n",
       " 'E29E16': 716.8458781362007,\n",
       " 'E7E1': 721.2405337179949,\n",
       " 'E30E19': 722.0216606498195,\n",
       " 'E11E3': 723.4319612240469,\n",
       " 'E25E14': 725.9528130671506,\n",
       " 'E21E9': 726.0582298700356,\n",
       " 'E16E6': 727.0612185546023,\n",
       " 'E29E17': 732.6007326007326,\n",
       " 'E29E18': 735.2941176470588,\n",
       " 'E24E12': 736.3228039172374,\n",
       " 'E34E25': 740.7407407407408,\n",
       " 'E33E25': 743.4944237918215,\n",
       " 'E19E7': 746.1016190405134,\n",
       " 'E24E13': 750.9762691498948,\n",
       " 'E24E14': 764.8183556405354,\n",
       " 'E29E19': 766.2835249042146,\n",
       " 'E30E20': 766.2835249042146,\n",
       " 'E15E5': 771.2478790683325,\n",
       " 'E34E26': 772.2007722007722,\n",
       " 'E33E26': 775.1937984496124,\n",
       " 'E18E7': 778.0284758422158,\n",
       " 'E17E7': 781.0669374365383,\n",
       " 'E23E11': 789.0168849613382,\n",
       " 'E6E1': 792.7699381639449,\n",
       " 'E3E0': 796.6223213574444,\n",
       " 'E14E4': 798.7858455148174,\n",
       " 'E16E7': 799.8080460689434,\n",
       " 'E31E21': 803.2128514056225,\n",
       " 'E32E22': 803.2128514056225,\n",
       " 'E9E2': 803.4064433196754,\n",
       " 'E20E8': 805.2826542116283,\n",
       " 'E13E4': 814.4648965629582,\n",
       " 'E29E20': 816.3265306122449,\n",
       " 'E34E27': 816.3265306122449,\n",
       " 'E35E32': 816.3265306122449,\n",
       " 'E33E27': 819.672131147541,\n",
       " 'E28E15': 820.6138191367143,\n",
       " 'E15E6': 821.827744904668,\n",
       " 'E22E11': 828.2259400364419,\n",
       " 'E8E2': 829.737802854298,\n",
       " 'E20E9': 831.739166597355,\n",
       " 'E12E4': 832.4315325064514,\n",
       " 'E21E10': 835.0730688935282,\n",
       " 'E10E3': 838.7854386847845,\n",
       " 'E32E23': 843.8818565400844,\n",
       " 'E5E1': 846.3100880162492,\n",
       " 'E23E12': 852.4422470377632,\n",
       " 'E19E8': 860.7333448097779,\n",
       " 'E34E28': 869.5652173913044,\n",
       " 'E23E13': 872.1437292865864,\n",
       " 'E33E28': 873.3624454148471,\n",
       " 'E27E15': 874.4316194473593,\n",
       " 'E30E21': 884.9557522123894,\n",
       " 'E23E14': 890.8685968819599,\n",
       " 'E19E9': 891.0273545397844,\n",
       " 'E22E12': 898.391878537418,\n",
       " 'E11E4': 903.342366757001,\n",
       " 'E18E8': 903.5056017347307,\n",
       " 'E17E8': 907.605736068252,\n",
       " 'E15E7': 916.0025648071814,\n",
       " 'E22E13': 920.3018590097552,\n",
       " 'E26E15': 931.4456035767511,\n",
       " 'E16E8': 933.009889904833,\n",
       " 'E18E9': 936.94368968425,\n",
       " 'E22E14': 941.1764705882352,\n",
       " 'E17E9': 941.3536665725313,\n",
       " 'E28E16': 943.3962264150944,\n",
       " 'E29E21': 952.3809523809524,\n",
       " 'E31E22': 956.9377990430622,\n",
       " 'E16E9': 968.710646130001,\n",
       " 'E28E17': 970.8737864077669,\n",
       " 'E36E33': 970.8737864077669,\n",
       " 'E7E2': 973.9943508327651,\n",
       " 'E28E18': 975.609756097561,\n",
       " 'E36E34': 975.609756097561,\n",
       " 'E2E0': 977.5171065493646,\n",
       " 'E20E10': 977.9951100244499,\n",
       " 'E25E15': 981.7396426467701,\n",
       " 'E9E3': 987.7518767285658,\n",
       " 'E21E11': 992.6543577526305,\n",
       " 'E32E24': 1000.0,\n",
       " 'E27E16': 1015.2284263959391,\n",
       " 'E31E23': 1015.2284263959391,\n",
       " 'E8E3': 1027.8548668927947,\n",
       " 'E28E19': 1030.9278350515465,\n",
       " 'E27E17': 1047.1204188481674,\n",
       " 'E27E18': 1052.6315789473683,\n",
       " 'E24E15': 1054.1851149061774,\n",
       " 'E19E10': 1061.0079575596817,\n",
       " 'E14E5': 1066.4391596459423,\n",
       " 'E30E22': 1075.268817204301,\n",
       " 'E32E25': 1075.268817204301,\n",
       " 'E10E4': 1090.6314756243864,\n",
       " 'E26E16': 1092.896174863388,\n",
       " 'E13E5': 1094.5709281961472,\n",
       " 'E15E8': 1095.0503723171266,\n",
       " 'E21E12': 1095.1702989814917,\n",
       " 'E6E2': 1109.1393078970718,\n",
       " 'E27E19': 1117.31843575419,\n",
       " 'E28E20': 1123.5955056179776,\n",
       " 'E18E10': 1126.7605633802816,\n",
       " 'E12E5': 1127.2686281140795,\n",
       " 'E21E13': 1127.9043537108053,\n",
       " 'E26E17': 1129.9435028248588,\n",
       " 'E17E10': 1133.14447592068,\n",
       " 'E26E18': 1136.3636363636363,\n",
       " 'E32E26': 1142.857142857143,\n",
       " 'E15E9': 1144.557628476594,\n",
       " 'E30E23': 1149.4252873563219,\n",
       " 'E4E1': 1152.870647913304,\n",
       " 'E21E14': 1159.4202898550725,\n",
       " 'E25E16': 1162.7906976744187,\n",
       " 'E14E6': 1165.6370206317752,\n",
       " 'E16E10': 1173.0205278592375,\n",
       " 'E29E22': 1176.4705882352941,\n",
       " 'E13E6': 1199.3283761093787,\n",
       " 'E20E11': 1201.3455069678039,\n",
       " 'E25E17': 1204.8192771084337,\n",
       " 'E25E18': 1212.121212121212,\n",
       " 'E26E19': 1212.121212121212,\n",
       " 'E5E2': 1216.8410805548795,\n",
       " 'E27E20': 1226.993865030675,\n",
       " 'E34E29': 1226.993865030675,\n",
       " 'E33E29': 1234.567901234568,\n",
       " 'E35E33': 1234.567901234568,\n",
       " 'E12E6': 1238.6968908708038,\n",
       " 'E32E27': 1242.2360248447205,\n",
       " 'E35E34': 1242.2360248447205,\n",
       " 'E31E24': 1250.0,\n",
       " 'E7E3': 1258.811681772407,\n",
       " 'E11E5': 1261.3521695257316,\n",
       " 'E24E16': 1265.8227848101267,\n",
       " 'E29E23': 1265.8227848101267,\n",
       " 'E25E19': 1298.7012987012988,\n",
       " 'E23E15': 1309.5861707700367,\n",
       " 'E24E17': 1315.7894736842106,\n",
       " 'E24E18': 1324.5033112582782,\n",
       " 'E19E11': 1329.0802764486975,\n",
       " 'E26E20': 1342.2818791946308,\n",
       " 'E20E12': 1354.8299688389106,\n",
       " 'E9E4': 1356.66802333469,\n",
       " 'E34E30': 1360.544217687075,\n",
       " 'E14E7': 1364.6288209606987,\n",
       " 'E31E25': 1369.86301369863,\n",
       " 'E32E28': 1369.86301369863,\n",
       " 'E33E30': 1369.86301369863,\n",
       " 'E28E21': 1398.6013986013986,\n",
       " 'E11E6': 1402.5245441795232,\n",
       " 'E20E13': 1405.283867341203,\n",
       " 'E13E7': 1411.0342881332017,\n",
       " 'E22E15': 1421.2620807276862,\n",
       " 'E24E19': 1428.5714285714287,\n",
       " 'E8E4': 1433.48623853211,\n",
       " 'E18E11': 1433.8973329509606,\n",
       " 'E15E10': 1441.1298457991065,\n",
       " 'E17E11': 1444.2518775274407,\n",
       " 'E25E20': 1449.2753623188405,\n",
       " 'E20E14': 1454.5454545454545,\n",
       " 'E30E24': 1459.85401459854,\n",
       " 'E12E7': 1465.845793022574,\n",
       " 'E31E26': 1481.4814814814815,\n",
       " 'E6E3': 1494.0983116689079,\n",
       " 'E1E0': 1507.8407720144753,\n",
       " 'E16E11': 1509.6618357487923,\n",
       " 'E19E12': 1519.52590791673,\n",
       " 'E27E21': 1562.5,\n",
       " 'E19E13': 1583.2805573147562,\n",
       " 'E37E35': 1587.3015873015872,\n",
       " 'E24E20': 1612.9032258064517,\n",
       " 'E34E31': 1612.9032258064517,\n",
       " 'E30E25': 1626.0162601626016,\n",
       " 'E33E31': 1626.0162601626016,\n",
       " 'E19E14': 1646.0905349794239,\n",
       " 'E23E16': 1652.892561983471,\n",
       " 'E29E24': 1652.892561983471,\n",
       " 'E31E27': 1652.892561983471,\n",
       " 'E18E12': 1658.09981760902,\n",
       " 'E10E5': 1659.2002654720425,\n",
       " 'E17E12': 1671.9612104999164,\n",
       " 'E3E1': 1688.9039013680122,\n",
       " 'E5E3': 1696.3528413910094,\n",
       " 'E11E7': 1700.9695526450078,\n",
       " 'E18E13': 1734.304543877905,\n",
       " 'E23E17': 1739.1304347826087,\n",
       " 'E17E13': 1749.4751574527643,\n",
       " 'E23E18': 1754.3859649122808,\n",
       " 'E26E21': 1754.3859649122808,\n",
       " 'E16E12': 1760.253476500616,\n",
       " 'E30E26': 1785.7142857142858,\n",
       " 'E14E8': 1804.0772145047808,\n",
       " 'E18E14': 1809.9547511312217,\n",
       " 'E17E14': 1826.4840182648402,\n",
       " 'E22E16': 1834.8623853211009,\n",
       " 'E16E13': 1846.3810930576071,\n",
       " 'E29E25': 1869.1588785046729,\n",
       " 'E13E8': 1886.0807242549981,\n",
       " 'E31E28': 1886.7924528301887,\n",
       " 'E10E6': 1912.411550965768,\n",
       " 'E7E4': 1926.4110961279137,\n",
       " 'E16E14': 1932.3671497584542,\n",
       " 'E22E17': 1941.7475728155339,\n",
       " 'E23E19': 1941.7475728155339,\n",
       " 'E25E21': 1941.7475728155339,\n",
       " 'E28E22': 1941.7475728155339,\n",
       " 'E14E9': 1942.5019425019425,\n",
       " 'E22E18': 1960.7843137254902,\n",
       " 'E4E2': 1970.0551615445233,\n",
       " 'E15E11': 1984.9146486701072,\n",
       " 'E12E8': 1985.308715505261,\n",
       " 'E21E15': 1985.7029388403496,\n",
       " 'E13E9': 2037.9050336254331,\n",
       " 'E30E27': 2040.8163265306123,\n",
       " 'E29E26': 2083.3333333333335,\n",
       " 'E12E9': 2154.243860404998,\n",
       " 'E22E19': 2197.802197802198,\n",
       " 'E28E23': 2197.802197802198,\n",
       " 'E24E21': 2247.191011235955,\n",
       " 'E27E22': 2272.7272727272725,\n",
       " 'E23E20': 2298.8505747126437,\n",
       " 'E9E5': 2364.6252069047055,\n",
       " 'E34E32': 2380.9523809523807,\n",
       " 'E30E28': 2409.6385542168673,\n",
       " 'E33E32': 2409.6385542168673,\n",
       " 'E29E27': 2439.0243902439024,\n",
       " 'E37E36': 2439.0243902439024,\n",
       " 'E15E12': 2442.002442002442,\n",
       " 'E11E8': 2442.5989252564727,\n",
       " 'E10E7': 2513.826043237808,\n",
       " 'E32E29': 2531.6455696202534,\n",
       " 'E6E4': 2538.0710659898477,\n",
       " 'E8E5': 2608.242044861763,\n",
       " 'E15E13': 2610.9660574412533,\n",
       " 'E27E23': 2631.5789473684213,\n",
       " 'E22E20': 2666.6666666666665,\n",
       " 'E39E38': 2666.6666666666665,\n",
       " 'E26E22': 2702.7027027027025,\n",
       " 'E11E9': 2703.433360367667,\n",
       " 'E2E1': 2779.3218454697053,\n",
       " 'E15E14': 2786.2914460852603,\n",
       " 'E21E16': 2898.550724637681,\n",
       " 'E9E6': 2914.602156805596,\n",
       " 'E14E10': 2985.0746268656717,\n",
       " 'E29E28': 2985.0746268656717,\n",
       " 'E20E15': 3043.2136335970786,\n",
       " 'E21E17': 3174.6031746031745,\n",
       " 'E25E22': 3174.6031746031745,\n",
       " 'E32E30': 3174.6031746031745,\n",
       " 'E5E4': 3182.686187141948,\n",
       " 'E13E10': 3216.4683177870697,\n",
       " 'E21E18': 3225.8064516129034,\n",
       " 'E26E23': 3225.8064516129034,\n",
       " 'E8E6': 3293.8076416337285,\n",
       " 'E12E10': 3516.1744022503517,\n",
       " 'E4E3': 3632.401017072285,\n",
       " 'E28E24': 3703.703703703704,\n",
       " 'E23E21': 3846.153846153846,\n",
       " 'E21E19': 3921.5686274509803,\n",
       " 'E25E23': 3921.5686274509803,\n",
       " 'E19E15': 4022.5261464199516,\n",
       " 'E24E22': 4081.6326530612246,\n",
       " 'E3E2': 4304.778303917348,\n",
       " 'E36E35': 4545.454545454545,\n",
       " 'E10E8': 4559.963520291838,\n",
       " 'E9E7': 4587.155963302752,\n",
       " 'E7E5': 4880.429477794046,\n",
       " 'E22E21': 5000.0,\n",
       " 'E28E25': 5000.0,\n",
       " 'E32E31': 5000.0,\n",
       " 'E27E24': 5128.205128205128,\n",
       " 'E31E29': 5128.205128205128,\n",
       " 'E18E15': 5165.289256198347,\n",
       " 'E11E10': 5260.389268805891,\n",
       " 'E17E15': 5302.226935312831,\n",
       " 'E24E23': 5405.405405405405,\n",
       " 'E10E9': 5561.735261401557,\n",
       " 'E8E7': 5602.240896358543,\n",
       " 'E21E20': 5714.285714285715,\n",
       " 'E20E16': 5882.35294117647,\n",
       " 'E16E15': 6305.170239596469,\n",
       " 'E28E26': 6896.551724137931,\n",
       " 'E14E11': 6901.311249137336,\n",
       " 'E20E17': 7142.857142857143,\n",
       " 'E20E18': 7407.407407407408,\n",
       " 'E7E6': 7993.605115907274,\n",
       " 'E26E24': 8000.0,\n",
       " 'E27E25': 8000.0,\n",
       " 'E13E11': 8278.14569536424,\n",
       " 'E31E30': 8695.652173913044,\n",
       " 'E12E11': 10604.453870625663,\n",
       " 'E19E16': 11111.111111111111,\n",
       " 'E20E19': 12500.0,\n",
       " 'E30E29': 12500.0,\n",
       " 'E6E5': 12531.328320802006,\n",
       " 'E28E27': 13333.333333333334,\n",
       " 'E25E24': 14285.714285714286,\n",
       " 'E27E26': 14285.714285714286,\n",
       " 'E19E17': 16666.666666666668,\n",
       " 'E23E22': 16666.666666666668,\n",
       " 'E19E18': 18181.81818181818,\n",
       " 'E26E25': 18181.81818181818,\n",
       " 'E14E12': 19762.845849802372,\n",
       " 'E9E8': 25316.45569620253,\n",
       " 'E18E16': 28571.428571428572,\n",
       " 'E17E16': 33333.333333333336,\n",
       " 'E13E12': 37735.84905660377,\n",
       " 'E14E13': 41493.775933609955,\n",
       " 'E18E17': 200000.0,\n",
       " 'E34E33': 200000.0}"
      ]
     },
     "execution_count": 40,
     "metadata": {},
     "output_type": "execute_result"
    }
   ],
   "source": [
    "Er_energy_tot = {'E0':0, 'E1': 6632, 'E2': 10230, 'E3':12553, 'E4':15306, 'E5':18448, 'E6': 19246, 'E7':20497, 'E8':22282, 'E9':22677, 'E10':24475,\n",
    "                'E11':26376, 'E12':27319, 'E13':27584, 'E14':27825, 'E15':31414, 'E16':33000, 'E17':33300, 'E18':33350, 'E19':33900, 'E20':34700,\n",
    "                'E21': 36450,'E22': 38450,'E23': 39050,'E24': 40900,'E25': 41600,'E26': 42150,'E27': 42850,'E28': 43600,'E29': 46950,'E30': 47750,\n",
    "                'E31': 48900,'E32': 50900,'E33': 55050,'E34': 55100,'E35': 63150,'E36': 65350,'E37': 69450,'E38': 93450,'E39': 97200}\n",
    "\n",
    "\n",
    "def calculate_energy_gaps(energy_dict):\n",
    "    keys = list(energy_dict.keys())\n",
    "    energy_gaps = {}\n",
    "    for i in range(len(keys)):\n",
    "        for j in range(i+1, len(keys)):\n",
    "            key_gap = f\"{keys[j]}{keys[i]}\"\n",
    "            energy_gaps[key_gap] = energy_dict[keys[j]] - energy_dict[keys[i]]\n",
    "\n",
    "    wavelength={}\n",
    "\n",
    "    for key, value in energy_gaps.items():\n",
    "        wavelength[key]=(10**7)/value\n",
    "\n",
    "    sorted_wavelength = dict(sorted(wavelength.items(), key=lambda item: item[1]))\n",
    "\n",
    "    return sorted_wavelength\n",
    "\n",
    "sorted_Er_wavelength = calculate_energy_gaps(Er_energy_tot)\n",
    "sorted_Er_wavelength"
   ]
  },
  {
   "cell_type": "code",
   "execution_count": 39,
   "metadata": {},
   "outputs": [
    {
     "data": {
      "text/plain": [
       "780"
      ]
     },
     "execution_count": 39,
     "metadata": {},
     "output_type": "execute_result"
    }
   ],
   "source": [
    "len(calculate_energy_gaps(Er_energy_tot))"
   ]
  },
  {
   "cell_type": "code",
   "execution_count": 42,
   "metadata": {},
   "outputs": [
    {
     "name": "stdout",
     "output_type": "stream",
     "text": [
      "Er_green_500_600: {'E30E14': 501.88205771643663, 'E26E8': 503.32192470304005, 'E23E6': 504.94849525348417, 'E11E1': 506.48298217179905, 'E29E12': 509.3984004890225, 'E35E28': 511.5089514066496, 'E32E15': 513.1889561736631, 'E26E9': 513.5315565141478, 'E20E4': 515.6233886769104, 'E29E13': 516.3688939378292, 'E25E8': 517.651930841702, 'E6E0': 519.588485919152, 'E22E6': 520.7248489897938, 'E28E10': 522.875816993464, 'E29E14': 522.875816993464, 'E25E9': 528.4574327537916, 'E15E3': 530.194581411378, 'E34E21': 536.1930294906166, 'E24E8': 537.1146202599634, 'E33E21': 537.6344086021505, 'E19E4': 537.8078950198989, 'E23E7': 538.9963887241955, 'E37E32': 539.0835579514825, 'E5E0': 542.0641803989593, 'E36E29': 543.4782608695652, 'E27E10': 544.2176870748299, 'E24E9': 548.7570652472151, 'E18E4': 554.2008423852805, 'E21E5': 555.4938340184424, 'E17E4': 555.7408024897188, 'E22E7': 557.0099704784716, 'E32E16': 558.659217877095, 'E10E1': 560.4438715462646, 'E16E4': 565.1633322030067, 'E26E10': 565.7708628005657, 'E32E17': 568.1818181818181, 'E36E30': 568.1818181818181, 'E14E2': 568.3432793407218, 'E32E18': 569.8005698005697, 'E31E15': 571.8860802928057, 'E13E2': 576.2360262763628, 'E28E11': 580.5852299117511, 'E21E6': 581.2601720530109, 'E25E10': 583.9416058394161, 'E12E2': 585.171747908011, 'E32E19': 588.2352941176471, 'E23E8': 596.3740458015267}\n",
      "47\n",
      "Er_red_620_750: {'E15E4': 620.8095356344674, 'E34E23': 623.0529595015577, 'E9E1': 623.2471174820816, 'E28E13': 624.3756243756244, 'E33E23': 625.0, 'E21E7': 626.8413464552121, 'E31E16': 628.930817610063, 'E28E14': 633.9144215530903, 'E26E11': 633.9546088500064, 'E22E9': 633.9948012426298, 'E8E1': 638.9776357827476, 'E31E17': 641.025641025641, 'E31E18': 643.0868167202573, 'E29E15': 643.6663233779609, 'E27E12': 643.8735432361084, 'E20E6': 647.0816617057072, 'E19E5': 647.1654154801968, 'E35E30': 649.3506493506494, 'E4E0': 653.3385600418137, 'E14E3': 654.7930853850183, 'E27E13': 655.0504388837941, 'E25E11': 656.8575932737782, 'E13E3': 665.2917304237908, 'E27E14': 665.5574043261231, 'E31E19': 666.6666666666666, 'E18E5': 671.0508656556167, 'E17E5': 673.3099919202801, 'E26E12': 674.2633672712561, 'E12E3': 677.2314777190844, 'E30E16': 677.9661016949152, 'E19E6': 682.4075337791729, 'E23E10': 686.106346483705, 'E26E13': 686.530275985171, 'E16E5': 687.1907641561297, 'E24E11': 688.5155604516663, 'E30E17': 692.0415224913495, 'E32E21': 692.0415224913495, 'E36E32': 692.0415224913495, 'E30E18': 694.4444444444445, 'E37E33': 694.4444444444445, 'E37E34': 696.8641114982578, 'E26E14': 698.0802792321117, 'E25E12': 700.2310762551642, 'E35E31': 701.7543859649123, 'E10E2': 702.000702000702, 'E20E7': 704.0766035344645, 'E31E20': 704.2253521126761, 'E34E24': 704.2253521126761, 'E21E8': 705.8159232072276, 'E33E24': 706.7137809187279, 'E18E6': 709.0187180941576, 'E17E6': 711.5411982353778, 'E25E13': 713.4703196347032, 'E22E10': 715.5635062611807, 'E29E16': 716.8458781362007, 'E7E1': 721.2405337179949, 'E30E19': 722.0216606498195, 'E11E3': 723.4319612240469, 'E25E14': 725.9528130671506, 'E21E9': 726.0582298700356, 'E16E6': 727.0612185546023, 'E29E17': 732.6007326007326, 'E29E18': 735.2941176470588, 'E24E12': 736.3228039172374, 'E34E25': 740.7407407407408, 'E33E25': 743.4944237918215, 'E19E7': 746.1016190405134}\n",
      "67\n"
     ]
    }
   ],
   "source": [
    "\n",
    "Er_green_500_600 = {k: v for k, v in sorted_Er_wavelength.items() if 500 < v < 600}\n",
    "\n",
    "Er_red_620_750 = {k: v for k, v in sorted_Er_wavelength.items() if 620 < v < 750}\n",
    "\n",
    "print(\"Er_green_500_600:\", Er_green_500_600)\n",
    "print(len(Er_green_500_600))\n",
    "print(\"Er_red_620_750:\", Er_red_620_750)\n",
    "print(len(Er_red_620_750))\n"
   ]
  },
  {
   "cell_type": "code",
   "execution_count": null,
   "metadata": {},
   "outputs": [],
   "source": []
  }
 ],
 "metadata": {
  "kernelspec": {
   "display_name": "base",
   "language": "python",
   "name": "python3"
  },
  "language_info": {
   "codemirror_mode": {
    "name": "ipython",
    "version": 3
   },
   "file_extension": ".py",
   "mimetype": "text/x-python",
   "name": "python",
   "nbconvert_exporter": "python",
   "pygments_lexer": "ipython3",
   "version": "3.11.9"
  }
 },
 "nbformat": 4,
 "nbformat_minor": 2
}
